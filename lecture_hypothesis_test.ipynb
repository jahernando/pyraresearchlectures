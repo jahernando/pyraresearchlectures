{
 "cells": [
  {
   "cell_type": "markdown",
   "metadata": {
    "nbpresent": {
     "id": "b0bdc0c5-2495-4e0e-9793-ed5facd68637"
    },
    "slideshow": {
     "slide_type": "slide"
    }
   },
   "source": [
    "## Statistical Methods in Python For Rare Event Searches\n",
    "\n",
    "*Summer Course at Canfranc Underground Laboratory (LSC) July 2019*\n",
    "\n",
    "### Lecture II\n",
    "\n",
    "## Hypothesis testing - simple case\n",
    "\n",
    "*Author: Jose A. Hernando*, June 2019\n",
    "\n",
    "*Instituto Galego de Altas Enerxías. Universidade de Santiago de Compostela, Spain.*"
   ]
  },
  {
   "cell_type": "code",
   "execution_count": 1,
   "metadata": {
    "nbpresent": {
     "id": "b2443ab4-16fc-4851-bb80-c90a0c6d6dee"
    },
    "slideshow": {
     "slide_type": "fragment"
    }
   },
   "outputs": [
    {
     "name": "stdout",
     "output_type": "stream",
     "text": [
      " Last Execution  Wed Jul 10 15:32:39 2019\n"
     ]
    }
   ],
   "source": [
    "import time\n",
    "print( ' Last Execution ', time.asctime())"
   ]
  },
  {
   "cell_type": "code",
   "execution_count": 2,
   "metadata": {
    "nbpresent": {
     "id": "ad5486f8-4654-482a-b15c-f0d4e5c76937"
    },
    "slideshow": {
     "slide_type": "skip"
    }
   },
   "outputs": [],
   "source": [
    "# general imports\n",
    "%matplotlib inline\n",
    "%reload_ext autoreload\n",
    "%autoreload 2\n",
    "\n",
    "# numpy and matplotlib\n",
    "import numpy as np\n",
    "import pandas as pd\n",
    "import matplotlib.pyplot as plt\n",
    "import scipy.stats as stats\n",
    "\n",
    "import httoys    as httoys\n",
    "import htcore    as htcore\n",
    "import htcatalog as htcata\n",
    "import htplot    as htplot\n",
    "\n",
    "plt.style.context('seaborn-colorblind');"
   ]
  },
  {
   "cell_type": "markdown",
   "metadata": {
    "slideshow": {
     "slide_type": "slide"
    }
   },
   "source": [
    "## Introduction\n",
    "\n",
    "\n",
    "The simple hypothesis testing involves a null hypothesis $H_0$ (i.e the SM) and al alternative hypothesis $H_1$ (i.e BSM Physics).\n",
    "\n",
    "Givan data, $x$, which of both hypothesis agree better with data? Can we exclude $H_1$? at what level? when we can clain an *observation* or a *discovery*?\n",
    "\n",
    "Look at the following simple example, $H_0, H_1$ are both gaussians with sigma one, $H_0$ has mean zero and $H_1$ has mean one. Given an observation, $x_0$, is more $H_0$ or $H_1$.\n"
   ]
  },
  {
   "cell_type": "markdown",
   "metadata": {
    "slideshow": {
     "slide_type": "slide"
    }
   },
   "source": [
    "**Explora** in the next Python cell. Execute few events. See where the data, $x_0$, falls along the axis. Move the gaussians appart, change their widths.\n",
    "\n",
    "(Forget for the moment the printed values, except for the observed data)"
   ]
  },
  {
   "cell_type": "code",
   "execution_count": 5,
   "metadata": {
    "slideshow": {
     "slide_type": "fragment"
    }
   },
   "outputs": [
    {
     "name": "stdout",
     "output_type": "stream",
     "text": [
      "observed data : [0.61536075]\n",
      "H0 p-value    : 0.26915825210299116\n",
      "H1 p-value    : 0.008547938370913305\n",
      "CLs           : 0.011696018181104087\n"
     ]
    },
    {
     "data": {
      "image/png": "[encoded data removed]",
      "text/plain": [
       "<Figure size 432x288 with 1 Axes>"
      ]
     },
     "metadata": {
      "needs_background": "light"
     },
     "output_type": "display_data"
    }
   ],
   "source": [
    "mu0, mu, mutrue = 0, 3, False\n",
    "httoys.gaussian(mu0, mu, mutrue = mutrue);"
   ]
  },
  {
   "cell_type": "markdown",
   "metadata": {
    "slideshow": {
     "slide_type": "slide"
    }
   },
   "source": [
    "Notice:\n",
    "    \n",
    "- That the $x$ axis in the case allow us to quatify the \"distance\" between hypotheses. To the left is more $H_0$, to the right more $H_1$.\n",
    "    \n",
    "- That $H_0$ is on the left, that there is an colored area behind the curve of $H_0$ and on the right of the data, $x_0$. What corresponds that area to?\n",
    "    \n",
    "- That $H_1$ is on the right, that there is an colored area behind the curve of $H_2$ and on the left of the data, $x_0$. Again, what corresponds that area to?"
   ]
  },
  {
   "cell_type": "markdown",
   "metadata": {
    "nbpresent": {
     "id": "43e100ca-3a5e-4321-b30a-75ba56b43367"
    },
    "slideshow": {
     "slide_type": "fragment"
    }
   },
   "source": [
    "----"
   ]
  },
  {
   "cell_type": "markdown",
   "metadata": {
    "nbpresent": {
     "id": "3841b030-0070-4827-b90e-1ddb0c7e3e74"
    },
    "slideshow": {
     "slide_type": "slide"
    }
   },
   "source": [
    "## 1. Test statistic\n",
    "\n",
    "First, we need a variable to **order** data, $x$, along the axis from $H_0$ to $H_1$\n",
    "\n",
    "The **test estatistics**, $q(x)$, is a real scalar quantity that quantifies how compatible is our measurement, $x$, with the null, $H_0$, and the alternative, $H_1$, hypotheses. \n",
    "\n",
    "As convention, we consider that as $q(x)$ values increases, they indicate a better agreement with $H_1$ than with $H_0$. \n",
    "\n",
    "The *optimal* test-stats is the likelihood ratio, for convenience we use (-2 log-like-ratio):\n",
    "\n",
    "$$\n",
    "q(x) = -2 \\ln \\, \\frac{ \\mathcal{L}(x \\, | \\, H_0)}{ \\mathcal{L}(x \\, | \\, H_1)}\n",
    "$$\n",
    "\n",
    "optimal: better efficicieny for $H_1$ for the same fraction of $H_0$ contamination (see later)."
   ]
  },
  {
   "cell_type": "markdown",
   "metadata": {
    "slideshow": {
     "slide_type": "fragment"
    }
   },
   "source": [
    "*Note*: En many cases, we do not know how to compute $q(x)$ and then we use *multivariate methods* as **Neural Networks** (NN) or **Boosted Decision Trees** (BDTs). They provide a test-statistics!"
   ]
  },
  {
   "cell_type": "markdown",
   "metadata": {
    "slideshow": {
     "slide_type": "slide"
    }
   },
   "source": [
    "Now, we need to compute the pdf of $q$ for both hypothesis, $g(q| H_0)$ and $g(q | H_1)$).\n",
    "\n",
    "In some cases we can do it analytically, but in other is almost or impossible.\n",
    "\n",
    "Nevertheless, we can do **simulations** and compute the $q$ values and obtain its distribution for *all possible events* of the $H_0$ type, $\\{ x \\}_0$, and $H_1$, $\\{ x \\}_1$. \n"
   ]
  },
  {
   "cell_type": "markdown",
   "metadata": {
    "nbpresent": {
     "id": "614260a3-f2b7-41ac-bab7-3f27221c62c3"
    },
    "slideshow": {
     "slide_type": "slide"
    }
   },
   "source": [
    "\n",
    "### Gaussian as an example\n",
    "\n",
    "**Example:** Consider as $H_0$ a gaussian distribution with mean $\\mu_0$ and $\\sigma_0$;\n",
    "and $H_1$ again a gaussian distribution with $\\mu_1$ and $\\sigma_1$. Obtain the pdfs, $q(x |H_0)$ and $g(q|H_1)$ for $\\mu_0 = 0, \\, \\sigma_0 = 1, \\, \\mu_1 = 4, \\, \\sigma_1 = 2$. \n"
   ]
  },
  {
   "cell_type": "code",
   "execution_count": 4,
   "metadata": {
    "nbpresent": {
     "id": "e2c6911d-d7b5-4bc5-b7b5-4aacf1f5e16c"
    },
    "slideshow": {
     "slide_type": "subslide"
    }
   },
   "outputs": [],
   "source": [
    "def two_gaussian(mu0, sigma0, mu1, sigma1, size = 10000):\n",
    "\n",
    "    # the test-statistic function\n",
    "    def q(x, m1=mu1, s1=sigma1, m0=mu0, s0=sigma0):\n",
    "        return (x-m0)*(x-m0)/(s0*s0) - (x-m1)*(x-m1)/(s1*s1)\n",
    "\n",
    "    # hipothesis\n",
    "    h0 = stats.norm(mu0, sigma0)\n",
    "    h1 = stats.norm(mu1, sigma1)\n",
    "\n",
    "    # m-experiments for both hypothesis\n",
    "    x0s = h0.rvs(size = int(size))\n",
    "    x1s = h1.rvs(size = int(size))\n",
    "\n",
    "    # the q-values for the m-experiments of both hypothesis\n",
    "    q0s = q(x0s) \n",
    "    q1s = q(x1s)\n",
    "\n",
    "    return q0s, q1s"
   ]
  },
  {
   "cell_type": "code",
   "execution_count": 5,
   "metadata": {
    "slideshow": {
     "slide_type": "subslide"
    }
   },
   "outputs": [],
   "source": [
    "def plt_test_stats(q0s, q1s, bins = 100, range = (-50, 50)):\n",
    "    plt.hist(q0s, bins, density = True, range = range, color = 'blue', \n",
    "             alpha = 0.8, label = '$q(x|H_0)$', histtype = 'step');\n",
    "    plt.hist(q1s, bins, density = True, range = range, color = 'red' , \n",
    "             alpha = 0.8, label = '$q(x|H_1)$', histtype = 'step');\n",
    "    plt.xlabel('$q(x)$'); plt.ylabel('$g(q|x)$')\n",
    "    plt.legend();"
   ]
  },
  {
   "cell_type": "code",
   "execution_count": 6,
   "metadata": {
    "slideshow": {
     "slide_type": "subslide"
    }
   },
   "outputs": [
    {
     "data": {
      "image/png": "[encoded data removed]",
      "text/plain": [
       "<Figure size 432x288 with 1 Axes>"
      ]
     },
     "metadata": {
      "needs_background": "light"
     },
     "output_type": "display_data"
    }
   ],
   "source": [
    "q0s, q1s = two_gaussian(0., 1., 4., 1, size = 1e6)\n",
    "plt_test_stats(q0s, q1s);"
   ]
  },
  {
   "cell_type": "markdown",
   "metadata": {
    "nbpresent": {
     "id": "285ab068-3282-460b-a021-01bc47b5f6a6"
    },
    "slideshow": {
     "slide_type": "fragment"
    }
   },
   "source": [
    "**Question:** Consider that we measure $q(x) = -10$, what can you say about $H_1$? And if we measure $q(x) = 30$?\n",
    "\n",
    "\n",
    "**Question:** Discuss what happens when the distributions overlap and when they do not.\n",
    "\n",
    "**Note:** why using $-2 \\ln$ is convenient! "
   ]
  },
  {
   "cell_type": "markdown",
   "metadata": {
    "slideshow": {
     "slide_type": "slide"
    }
   },
   "source": [
    "### A counting experiment\n",
    "\n",
    "Several experiments are called **counting experiments**, they search for a signal, expecting a given number of events $s$, in a backdround level, $b$. This is in first approximation the search of all Rare Event Searches.\n",
    "\n",
    "The distribution of the data follows a poisson distribution with mean, $b$, in the case of only background and $b+s$ in the presence of signal.\n",
    "\n",
    "**Explore** in the following cell how the distributions changes with $b$ and $s$, and how the result of the experiment changes depending on $data$ ."
   ]
  },
  {
   "cell_type": "code",
   "execution_count": 33,
   "metadata": {
    "slideshow": {
     "slide_type": "subslide"
    }
   },
   "outputs": [
    {
     "name": "stdout",
     "output_type": "stream",
     "text": [
      "observed data : 6\n",
      "H0 p-value    : 0.08391794203130348\n",
      "H1 p-value    : 0.130141420882483\n",
      "CLs           : 0.1346534611395348\n"
     ]
    },
    {
     "data": {
      "image/png": "[encoded data removed]",
      "text/plain": [
       "<Figure size 432x288 with 1 Axes>"
      ]
     },
     "metadata": {
      "needs_background": "light"
     },
     "output_type": "display_data"
    }
   ],
   "source": [
    "mu0, mu1, mutrue = 3, 10, False\n",
    "httoys.poisson(mu0, mu1, mutrue = mutrue);"
   ]
  },
  {
   "cell_type": "markdown",
   "metadata": {
    "slideshow": {
     "slide_type": "slide"
    }
   },
   "source": [
    "**Exercise**: Consider now a poisson distribution with $\\mu_0 = b$ for $H_0$ and $H_1$ another poisson distribution with $\\mu_1 = b + s$ for $H_1$, consider $b=3, s=2$. Obtain the pdfs of the test-stadistics, $g(q(x|H_0), \\; g(q|H_1)$."
   ]
  },
  {
   "cell_type": "code",
   "execution_count": 8,
   "metadata": {
    "slideshow": {
     "slide_type": "subslide"
    }
   },
   "outputs": [],
   "source": [
    "def two_poisson(b, s, size = 1000000):\n",
    "\n",
    "    def q(n):\n",
    "        return 2*n*(np.log(b+s)-np.log(b))\n",
    "    \n",
    "    # hipothesis\n",
    "    h0 = stats.poisson(b)\n",
    "    h1 = stats.poisson(b + s)\n",
    "\n",
    "    # m-experiments for both hypothesis\n",
    "    x0s = h0.rvs(size = int(size))\n",
    "    x1s = h1.rvs(size = int(size))\n",
    "\n",
    "    # the q-values for the m-experiments of both hypothesis\n",
    "    q0s = q(x0s) \n",
    "    q1s = q(x1s)\n",
    "\n",
    "    return q0s, q1s"
   ]
  },
  {
   "cell_type": "code",
   "execution_count": 9,
   "metadata": {
    "slideshow": {
     "slide_type": "subslide"
    }
   },
   "outputs": [
    {
     "data": {
      "image/png": "[encoded data removed]",
      "text/plain": [
       "<Figure size 432x288 with 1 Axes>"
      ]
     },
     "metadata": {
      "needs_background": "light"
     },
     "output_type": "display_data"
    }
   ],
   "source": [
    "q0s, q1s = two_poisson(3, 2)\n",
    "plt_test_stats(q0s, q1s, bins = 80, range = (0, 15));"
   ]
  },
  {
   "cell_type": "markdown",
   "metadata": {
    "slideshow": {
     "slide_type": "slide"
    }
   },
   "source": [
    "**Exercise** Consider now NEXT experiment as a counting experiment. Compute now the number of possible $\\beta\\beta0\\nu$ events in 100 kg of Xenon if the half-lifetime is $10^{-25}$ y. Compute also the number of expected background events, if the background index is $4 \\times 10^{-4}$ counts/(keV kg y) and with 1% energy resolution at $Q_{\\beta\\beta} = 3.458$ keV. Obtain the pdfs of the test statistics. Consider that the signal is gaussian distributed and take 3 sigmas as Region of Interest (RoI). \n",
    "\n",
    "**Explore**: Modify now the background index, the resolution, the Xe mass and the half-lifetime."
   ]
  },
  {
   "cell_type": "markdown",
   "metadata": {
    "slideshow": {
     "slide_type": "slide"
    }
   },
   "source": [
    "### N-poisson case\n",
    "\n",
    "Another case very common is a n-bin counting experiments. For example the $B_s \\to \\mu^+ \\mu^-$ very rare decay search at LHCb []. In every bin there is an expectation for the background and for the signal. If the bins are independent, each one is like a single-counting experiment.\n",
    "\n",
    "**Explore**: In the following cell we are simulating one event for a n-bin counting experiment. Play with the background and the signal, and the number of bins.\n",
    "\n",
    "Now to quantify the separation between the hypothesis and what is the result for an observed data we need to compute the pdfs of the test-statistic."
   ]
  },
  {
   "cell_type": "code",
   "execution_count": 10,
   "metadata": {
    "slideshow": {
     "slide_type": "subslide"
    }
   },
   "outputs": [
    {
     "data": {
      "image/png": "[encoded data removed]",
      "text/plain": [
       "<Figure size 432x288 with 1 Axes>"
      ]
     },
     "metadata": {
      "needs_background": "light"
     },
     "output_type": "display_data"
    }
   ],
   "source": [
    "b, s = [2., 2., 1., 1.], [1, 3, 3, 1]\n",
    "httoys.npoisson_rvs(b, s)"
   ]
  },
  {
   "cell_type": "markdown",
   "metadata": {
    "slideshow": {
     "slide_type": "slide"
    }
   },
   "source": [
    "**Exercise**: Consider a counting experiment with four independent bins. The background for $H_0$ is poisson distributed in each bin with ${\\bf b} = (2, 1.5, 1, 0.5)$ and $H_1$ a signal, is also poisson distributed on top of the background ${\\bf b} + {\\bf s}$ with ${\\bf s} = (1, 2, 2, 1)$. Obtain the pdfs of the test-statistics $g(q|H_0), \\; g(q |H_1)$.\n",
    "\n",
    "We procedure int he same mammer, simulate many experiments and obtain the pdfs of the test-statistics, $g(q|H_0), \\, g(q|H_0)$."
   ]
  },
  {
   "cell_type": "code",
   "execution_count": 11,
   "metadata": {
    "slideshow": {
     "slide_type": "subslide"
    }
   },
   "outputs": [
    {
     "data": {
      "image/png": "[encoded data removed]",
      "text/plain": [
       "<Figure size 432x288 with 1 Axes>"
      ]
     },
     "metadata": {
      "needs_background": "light"
     },
     "output_type": "display_data"
    }
   ],
   "source": [
    "b, s, size = np.array([2., 1.5, 1., 0.5]), np.array([1., 2., 2., 1.]), 10000\n",
    "# generators of n-poisson for b and b+s\n",
    "h0, h1 = htcata.poisson_ncounter(b), htcata.poisson_ncounter(b + s)\n",
    "# test of simple hypothesis - generate events and compute test-statistic\n",
    "ht  = htcore.htsimple(h0, h1, size)\n",
    "# plot test-statistic distribution (plot x0 if provided as argument)\n",
    "htplot.plt_htsimple(ht, nbins = 100);\n",
    "#plt_test_stats(ht.q0s, ht.q1s, range = ht.qrange())"
   ]
  },
  {
   "cell_type": "markdown",
   "metadata": {
    "slideshow": {
     "slide_type": "slide"
    }
   },
   "source": [
    "**Exercise**: Consider the expected bacground events and signal events in bins of energy in the RoI of the KamLAND-Zen experiment in Fig 2-b) [PRL-117](https://arxiv.org/abs/1605.02889). And compute now the pdfs of $q$ for only background and 10 times the signal."
   ]
  },
  {
   "cell_type": "markdown",
   "metadata": {
    "nbpresent": {
     "id": "2ed92466-3a5f-4aec-8cbf-017327c70bd8"
    },
    "slideshow": {
     "slide_type": "fragment"
    }
   },
   "source": [
    "----"
   ]
  },
  {
   "cell_type": "markdown",
   "metadata": {
    "nbpresent": {
     "id": "fd167f21-280d-4c3f-ba5c-01cd6a1ee4f2"
    },
    "slideshow": {
     "slide_type": "slide"
    }
   },
   "source": [
    "## 2. Significance and power\n",
    "\n",
    "\n",
    "We can classify events into $H_0$ or $H_1$ hypothesis using a threshold, $k$, on the test statistics:\n",
    "\n",
    "$$\n",
    "q(x) < k\n",
    "$$\n",
    "\n",
    "An observation data, $x_0$, with a test-statistics, $q_0 = q(x_0)$, is classified as $H_0$ if $q_0  < k $ and as $H_1$ if $q_0 \\ge k$. This is known as the Neyman's approach. \n",
    "\n",
    "What is the value of $k$? It depends of the case: if not the same to separate $b/c$ jets (or in NEXT 2 $\\beta$/ $\\beta$) than to search for a new SUSY particle or a Majorana neutrino!"
   ]
  },
  {
   "cell_type": "markdown",
   "metadata": {
    "slideshow": {
     "slide_type": "subslide"
    }
   },
   "source": [
    "\n",
    "\n",
    "We define the **significance**, also called *size of the test*, $\\alpha$: \n",
    "\n",
    "$$\n",
    "\\alpha = \\int_{k}^{\\infty} q({\\bf x} \\, | \\, H_0) \\, \\mathrm{d}x\n",
    "$$\n",
    "\n",
    "the significance, $\\alpha$, is also called *error of 1st kind* and **p-value of $H_0$**. Its the probability of *false positives*! The *contamination*!\n",
    "\n",
    "The **p-value** is the probability that we get a event with equal or less *compatibility with a given hypothesis* then for the observed data. To get an event as *extreme or more extreme* than the one observed."
   ]
  },
  {
   "cell_type": "markdown",
   "metadata": {
    "slideshow": {
     "slide_type": "slide"
    }
   },
   "source": [
    "\n",
    "Finally,\n",
    "\n",
    "$$\n",
    "\\beta = \\int_{-\\infty}^{k} q({\\bf x} \\, | \\, H_1) \\, \\mathrm{d}x\n",
    "$$\n",
    "\n",
    "It is the *error of 2nd kind* or the **p-value of $H_1$**. \n",
    "\n",
    "The **power** of the test (or efficiency) is $1-\\beta$, the fraction of events classified as $H_1$ when $H_1$ is true. The true positives! The *efficiency*!\n",
    "\n",
    "The **Neyman-Person lemma** stablish that the *optimal* test statistic is the **likelihood ratio**. Optimal indicates that we obtain the maximum power (efficiency) for a fix significance (contamination) of the test. "
   ]
  },
  {
   "cell_type": "markdown",
   "metadata": {
    "slideshow": {
     "slide_type": "slide"
    }
   },
   "source": [
    "**Example** In the case of the two gaussians, the p-values (alpha, beta) are the integrals of the colored areas."
   ]
  },
  {
   "cell_type": "code",
   "execution_count": 12,
   "metadata": {
    "slideshow": {
     "slide_type": "fragment"
    }
   },
   "outputs": [
    {
     "name": "stdout",
     "output_type": "stream",
     "text": [
      "observed data : [1.21376753]\n",
      "H0 p-value    : 0.11241825460792176\n",
      "H1 p-value    : 0.03703081278709298\n",
      "CLs           : 0.04172101666053877\n"
     ]
    },
    {
     "data": {
      "image/png": "[encoded data removed]",
      "text/plain": [
       "<Figure size 432x288 with 1 Axes>"
      ]
     },
     "metadata": {
      "needs_background": "light"
     },
     "output_type": "display_data"
    }
   ],
   "source": [
    "mu0, mu, mutrue = 0, 3, False\n",
    "httoys.gaussian(mu0, mu, mutrue = mutrue);"
   ]
  },
  {
   "cell_type": "markdown",
   "metadata": {
    "slideshow": {
     "slide_type": "slide"
    }
   },
   "source": [
    "We call the RoC curve the efficiency (power, $1 - \\beta$) vs rejection (1-$\\alpha$) of the background. This is usually the plot that shows the discrimination power of the test-statistics. \n",
    "\n",
    "As mentioned before the cut $k$ to classify an event as $H_0$ or $H_1$ depends on the case. It is not the same to identify the tag of a jet than to identify the Higgs boson.\n",
    "\n",
    "**Exercise**: In the previous case, compute the RoC curve, the $H_1$ efficiency vs $H_0$ rejection."
   ]
  },
  {
   "cell_type": "code",
   "execution_count": 13,
   "metadata": {
    "slideshow": {
     "slide_type": "subslide"
    }
   },
   "outputs": [
    {
     "data": {
      "image/png": "[encoded data removed]",
      "text/plain": [
       "<Figure size 432x288 with 1 Axes>"
      ]
     },
     "metadata": {
      "needs_background": "light"
     },
     "output_type": "display_data"
    }
   ],
   "source": [
    "qrange = np.linspace(*ht.qrange(), 100)\n",
    "rej = [1. - ht.p0value(qi) for qi in qrange]\n",
    "eff = [1. - ht.p1value(qi) for qi in qrange]\n",
    "plt.plot(rej, eff); plt.grid(True);\n",
    "plt.xlabel('rejection'); plt.ylabel('efficiency');"
   ]
  },
  {
   "cell_type": "markdown",
   "metadata": {
    "nbpresent": {
     "id": "29fce9a4-e192-488e-a24a-e339615b68c1"
    },
    "slideshow": {
     "slide_type": "fragment"
    }
   },
   "source": [
    "----"
   ]
  },
  {
   "cell_type": "markdown",
   "metadata": {
    "nbpresent": {
     "id": "dca918e6-eeda-49a5-bf63-7d7e4593a8b4"
    },
    "slideshow": {
     "slide_type": "slide"
    }
   },
   "source": [
    "## 3. Discovery and rejection\n",
    "\n",
    "We claim:\n",
    "\n",
    "* **discovery** of $H_1$ if the $H_0$ p-value ($\\alpha$) is lower that $2.87 \\times 10^{-7}$, that corresponds to $Z = 5$. \n",
    "\n",
    "Z-value is the p-value in terms of 'sigmas' of a Gaussian distribution!\n",
    "\n",
    "* **observation** of $H_1$ if the $H_0$ p-value ($\\alpha$) is lower than $0.0027$, that is $Z=3$.\n",
    "\n",
    "**This is a convention!** And statisticians like to discuss about it!\n",
    "\n",
    "Note that *discovery* means that we *false* a hypothesis, $H_0$ (à la Popper)\n"
   ]
  },
  {
   "cell_type": "markdown",
   "metadata": {
    "slideshow": {
     "slide_type": "slide"
    }
   },
   "source": [
    "**Example** Consider the gaussians in the next cell, move the alternative to $\\mu = 4.$ and generate some events for $H_1$ true. Have you discover $H_1$? \n",
    "\n",
    "**Question** What is the fraction of the events in whose you could clain discovery?"
   ]
  },
  {
   "cell_type": "code",
   "execution_count": 36,
   "metadata": {
    "slideshow": {
     "slide_type": "fragment"
    }
   },
   "outputs": [
    {
     "name": "stdout",
     "output_type": "stream",
     "text": [
      "observed data : [4.11884117]\n",
      "H0 p-value    : 1.903912417422493e-05\n",
      "H1 p-value    : 0.5472994047331026\n",
      "CLs           : 0.5473098250328231\n"
     ]
    },
    {
     "data": {
      "image/png": "[encoded data removed]",
      "text/plain": [
       "<Figure size 432x288 with 1 Axes>"
      ]
     },
     "metadata": {
      "needs_background": "light"
     },
     "output_type": "display_data"
    }
   ],
   "source": [
    "mu0, mu, mutrue = 0, 4., True\n",
    "httoys.gaussian(mu0, mu, mutrue = mutrue);"
   ]
  },
  {
   "cell_type": "markdown",
   "metadata": {
    "slideshow": {
     "slide_type": "slide"
    }
   },
   "source": [
    "We set:\n",
    "\n",
    "* an **exclusion** limit on $H_1$ at a $\\beta$ (i.e 90) confidence level, CL, if $H_1$ p-value, is $\\le 1-\\beta$.\n",
    "\n",
    "That is the probability to get an event with lower compatibility wiht $H_1$ than the observed event is smaller than 10% for 90 % CL."
   ]
  },
  {
   "cell_type": "markdown",
   "metadata": {
    "slideshow": {
     "slide_type": "slide"
    }
   },
   "source": [
    "**Example**: In the case of the gaussians, move $\\mu_1 = 2.5$ and generate events if $H_1$ is false.\n",
    "    Can you exclude $H_1$ at 90% CL? In what fraction of the events you will exclude $H_1$?"
   ]
  },
  {
   "cell_type": "code",
   "execution_count": 15,
   "metadata": {
    "slideshow": {
     "slide_type": "fragment"
    }
   },
   "outputs": [
    {
     "name": "stdout",
     "output_type": "stream",
     "text": [
      "observed data : [0.06905703]\n",
      "H0 p-value    : 0.4724721104139532\n",
      "H1 p-value    : 0.026745053014681816\n",
      "CLs           : 0.0506988417914146\n"
     ]
    },
    {
     "data": {
      "image/png": "[encoded data removed]",
      "text/plain": [
       "<Figure size 432x288 with 1 Axes>"
      ]
     },
     "metadata": {
      "needs_background": "light"
     },
     "output_type": "display_data"
    }
   ],
   "source": [
    "mu0, mu, mutrue = 0, 2., False\n",
    "httoys.gaussian(mu0, mu, mutrue = mutrue);"
   ]
  },
  {
   "cell_type": "markdown",
   "metadata": {
    "slideshow": {
     "slide_type": "slide"
    }
   },
   "source": [
    "\n",
    "We define:\n",
    "\n",
    "* the **sensititivy** of an experiment as the expected exclusion of $H_1$, $\\beta$, for the median of the $q({\\bf x}| H_0)$ pdf.\n",
    "\n",
    "That is, in the case there is no signal, and we observe the event in the median of the $H_0$ distribution, this is the limit we impose in $H_1$, its p-value.\n",
    "\n",
    "* the **discovery potential** of an experiment the $H_0$ p-value for the median of the $q({\\bf x} | H_1)$ pdf.\n",
    "\n",
    "That is, in the case that $H_1$ is true, and we observe the event in the median of the $H_1$ distribution, this is the p-value of $H_0$ (the falseability!)."
   ]
  },
  {
   "cell_type": "markdown",
   "metadata": {
    "slideshow": {
     "slide_type": "slide"
    }
   },
   "source": [
    "**Example** Consider the gaussian again, with $\\mu = 5, \\sigma = 2.5$, in the next cells we compute the sensitivity and the discovery potencial for this case."
   ]
  },
  {
   "cell_type": "code",
   "execution_count": 8,
   "metadata": {
    "slideshow": {
     "slide_type": "fragment"
    }
   },
   "outputs": [
    {
     "name": "stdout",
     "output_type": "stream",
     "text": [
      "observed data : [0.79048674]\n",
      "H0 p-value    : 0.2146217813133613\n",
      "H1 p-value    : 0.046109650952369775\n",
      "CLs           : 0.058710121894489736\n"
     ]
    },
    {
     "data": {
      "image/png": "[encoded data removed]",
      "text/plain": [
       "<Figure size 432x288 with 1 Axes>"
      ]
     },
     "metadata": {
      "needs_background": "light"
     },
     "output_type": "display_data"
    }
   ],
   "source": [
    "mu0, mu, sigma1, mutrue = 0, 5., 2.5, False\n",
    "httoys.gaussian(mu0, mu, mutrue = mutrue, sigma1 = sigma1);"
   ]
  },
  {
   "cell_type": "code",
   "execution_count": 9,
   "metadata": {
    "slideshow": {
     "slide_type": "subslide"
    }
   },
   "outputs": [
    {
     "name": "stdout",
     "output_type": "stream",
     "text": [
      "observed data : 5.0\n",
      "H0 p-value    : 2.866515719235352e-07\n",
      "H1 p-value    : 0.5\n",
      "CLs           : 0.5000001433258271\n"
     ]
    },
    {
     "data": {
      "image/png": "[encoded data removed]",
      "text/plain": [
       "<Figure size 432x288 with 1 Axes>"
      ]
     },
     "metadata": {
      "needs_background": "light"
     },
     "output_type": "display_data"
    }
   ],
   "source": [
    "mu0, mu, sigma1, mutrue = 0, 5., 2.5, True\n",
    "httoys.gaussian(mu0, mu, x0 = mu, mutrue = mutrue, sigma1 = sigma1);"
   ]
  },
  {
   "cell_type": "markdown",
   "metadata": {
    "nbpresent": {
     "id": "19d7e813-cdc2-4ec7-8c43-f8d22cf8ba4e"
    },
    "slideshow": {
     "slide_type": "slide"
    }
   },
   "source": [
    "**Exercise:** An experiment expects $(2, 1)$ background events in two bins, and a possible signal $(8, 9)$ on top. It observes $(9, 9)$, can claim observation?\n",
    "\n",
    "**Exercise:** In the case it observes $(1, 1)$, can reject the signal at 95 % CL?\n",
    "\n",
    "**Exercise:** Consider an experiment with several independent channels that expects as background ${\\bf b} = (2, 1.5, 1, 0.5) $ and as signal ${\\bf s} = (1, 3, 3, 1)$. It finally measures $(2, 1, 1, 0)$. Compute the p-value of $H_1$. \n",
    "\n",
    "**Exercise:** Consider the above case of KamLAND-Zen, compute the p-value of $H_0$!"
   ]
  },
  {
   "cell_type": "markdown",
   "metadata": {
    "nbpresent": {
     "id": "a690eefb-2be1-47d9-a5b2-2b82ca73809d"
    },
    "slideshow": {
     "slide_type": "fragment"
    }
   },
   "source": [
    "----"
   ]
  },
  {
   "cell_type": "markdown",
   "metadata": {
    "slideshow": {
     "slide_type": "slide"
    }
   },
   "source": [
    "## 4. The CLs method\n",
    "\n",
    "In some cases the $H_1$ hypothesis is 'weak' compared with $H_0$ and the distributions of the test statistic $g(q \\, |, H_0)$ and $g(q \\, | \\,H_1) $ overlap. \n",
    "\n",
    "**Example**: Consider$H_0$ as a poisson of $b$ expected events, $b=4$, and the signal $s=0.5$ events. \n",
    "\n",
    "**Question**: If we measure $n \\, = \\,1$, the p-value for $H_1$ is $0.061$, bellow 10%. Do we exclude the signal at 90% CL? "
   ]
  },
  {
   "cell_type": "code",
   "execution_count": 18,
   "metadata": {
    "slideshow": {
     "slide_type": "subslide"
    }
   },
   "outputs": [
    {
     "name": "stdout",
     "output_type": "stream",
     "text": [
      "observed data : 1\n",
      "H0 p-value    : 0.9816843611112659\n",
      "H1 p-value    : 0.06109948096033269\n",
      "CLs           : 0.6671837256838969\n"
     ]
    },
    {
     "data": {
      "image/png": "[encoded data removed]",
      "text/plain": [
       "<Figure size 432x288 with 1 Axes>"
      ]
     },
     "metadata": {
      "needs_background": "light"
     },
     "output_type": "display_data"
    }
   ],
   "source": [
    "b, s, x0 = 4, 0.5, 1\n",
    "httoys.poisson(b, b+s, x0);"
   ]
  },
  {
   "cell_type": "markdown",
   "metadata": {
    "slideshow": {
     "slide_type": "slide"
    }
   },
   "source": [
    "The pdfs of the test statistics for $b=4, \\, s+b=4.5$ mostly overlap! \n",
    "\n",
    "In principle we reject $H_1$ at 90% CL. But the probability to accept $H_0$ is very small, $1-\\alpha$! \n",
    "\n",
    "It will be more prudent to not reject $H_1$ and conclude that *the experiment has no enough sensitivity*.\n",
    "\n",
    "One solution to this problem is to use the CLs method. "
   ]
  },
  {
   "cell_type": "code",
   "execution_count": 19,
   "metadata": {
    "slideshow": {
     "slide_type": "subslide"
    }
   },
   "outputs": [
    {
     "data": {
      "image/png": "[encoded data removed]",
      "text/plain": [
       "<Figure size 432x288 with 1 Axes>"
      ]
     },
     "metadata": {
      "needs_background": "light"
     },
     "output_type": "display_data"
    }
   ],
   "source": [
    "h0, h1, size = stats.poisson(4), stats.poisson(4.5), 10000\n",
    "ht = htcore.htsimple(h0, h1, size)\n",
    "htplot.plt_htsimple(ht);"
   ]
  },
  {
   "cell_type": "code",
   "execution_count": 20,
   "metadata": {
    "slideshow": {
     "slide_type": "subslide"
    }
   },
   "outputs": [],
   "source": [
    "ns = range(12)\n",
    "qs = ht.q(ns)\n",
    "betas  = [ht.p1value(qi) for qi in qs]\n",
    "clss   = [ht.cls    (qi) for qi in qs]\n",
    "clline = 0.1*np.ones(len(ns))"
   ]
  },
  {
   "cell_type": "code",
   "execution_count": 21,
   "metadata": {
    "slideshow": {
     "slide_type": "subslide"
    }
   },
   "outputs": [
    {
     "data": {
      "image/png": "[encoded data removed]",
      "text/plain": [
       "<Figure size 432x288 with 2 Axes>"
      ]
     },
     "metadata": {
      "needs_background": "light"
     },
     "output_type": "display_data"
    }
   ],
   "source": [
    "fig, ax = plt.subplots()\n",
    "ax.hist(ht.q0s, bins = 100, density = True, range = ht.qrange(), histtype ='step', label = '$q(x|H_0)$')\n",
    "ax.hist(ht.q1s, bins = 100, density = True, range = ht.qrange(), histtype ='step', label = '$q(x|H_1)$')\n",
    "axb = ax.twinx()\n",
    "axb.plot(qs, betas , marker='s', color = 'green', label = '$p-value$');\n",
    "#axb.plot(qs, clss  , marker='o', color = 'red', label = '$CLs$');\n",
    "axb.plot(qs, clline, color = 'black');\n",
    "axb.set_ylabel('CL');\n",
    "axb.legend(); ax.legend(loc = 4);"
   ]
  },
  {
   "cell_type": "markdown",
   "metadata": {
    "slideshow": {
     "slide_type": "slide"
    }
   },
   "source": [
    "\n",
    "The CLs method [7] was developed to prevent these cases.\n",
    "\n",
    "\n",
    "Instead of using the $H_1$ p-value, $\\beta$, to reject $H_1$, it used the value:\n",
    "\n",
    "$$\n",
    "CL_s \\equiv \\frac{CL_{s+b}}{CL_b} = \\frac{\\beta}{1-\\alpha}\n",
    "$$\n",
    "\n",
    "That is, a ratio of fractions. Given an observation, the fraction of possible equal or worse events if we consider the $H_1$ hypothesis, with respect the fraction of possible equal or better events if we do the same with $H_0$.\n",
    "\n",
    "Notice that $CLs$ is conservative, $CLs \\ge \\beta$. And that $1-\\alpha \\ge \\beta$, the probability to accept $H_0$ is always greater than to reject $H_1$."
   ]
  },
  {
   "cell_type": "markdown",
   "metadata": {
    "slideshow": {
     "slide_type": "slide"
    }
   },
   "source": [
    "In the previous example, the $H_1$ p-value was 0.06, but CLs value is 0.66! Therefore, we do not exclude $H_1$. \n",
    "\n",
    "The CLs has prevent us to do an exclusion when the experiment has not enough sensitivity!\n",
    "\n",
    "In the case that $H_1$ is well separated compared with $H_0$ a cut on $CL_s$ is equivalent to a cut on $\\beta$.\n",
    "\n",
    "The CLs method has been criticized as conservative, but has been and is commontly used in HEP."
   ]
  },
  {
   "cell_type": "markdown",
   "metadata": {
    "slideshow": {
     "slide_type": "slide"
    }
   },
   "source": [
    "\n",
    "**Example** In the previous examples we have impossed $H_1$ p-value and $CL_s$, if we observe $n=1$, we will not reject $H_1$ using the CLs method."
   ]
  },
  {
   "cell_type": "code",
   "execution_count": 22,
   "metadata": {
    "slideshow": {
     "slide_type": "subslide"
    }
   },
   "outputs": [
    {
     "data": {
      "image/png": "[encoded data removed]",
      "text/plain": [
       "<Figure size 432x288 with 2 Axes>"
      ]
     },
     "metadata": {
      "needs_background": "light"
     },
     "output_type": "display_data"
    }
   ],
   "source": [
    "fig, ax = plt.subplots()\n",
    "ax.hist(ht.q0s, bins = 100, density = True, range = ht.qrange(), histtype ='step', label = '$q(x|H_0)$')\n",
    "ax.hist(ht.q1s, bins = 100, density = True, range = ht.qrange(), histtype ='step', label = '$q(x|H_1)$')\n",
    "axb = ax.twinx()\n",
    "axb.plot(qs, betas , marker='s', color = 'green', label = '$p-value$');\n",
    "axb.plot(qs, clss  , marker='o', color = 'red', label = '$CLs$');\n",
    "axb.plot(qs, clline, color = 'black');\n",
    "axb.set_ylabel('CL');\n",
    "axb.legend(); ax.legend(loc = 4);"
   ]
  },
  {
   "cell_type": "markdown",
   "metadata": {
    "slideshow": {
     "slide_type": "slide"
    }
   },
   "source": [
    "---"
   ]
  },
  {
   "cell_type": "markdown",
   "metadata": {
    "slideshow": {
     "slide_type": "slide"
    }
   },
   "source": [
    "## 5. Nuissance parameters \n",
    "\n",
    "Sometime the $pdf$ depends also not only on $\\mu$ but on other parameters, $\\nu$ of no \"physical interest\". There are called **nuissance parameters**.\n",
    "\n",
    "The pdf $g(x \\, | \\, \\mu, \\nu)$, were $\\mu$ is the parameter of interest, and $\\nu$ the nuisance parameter. \n",
    "\n",
    "In some cases, we can marginalize the nuissance parameters. One possibility is use the Cousins-Highland method, also known as a bayesian-frequentist hybrid method.\n",
    "\n",
    "If we know the pdf of the nuisance parameter: $\\pi(\\nu)$, we can marginalize its effect [6]:\n",
    "\n",
    "$$\n",
    "g(x \\, | \\, \\mu) = \\int g( x \\, | \\, \\mu, \\nu) \\, \\pi(\\nu) \\, \\mathrm{d}\\nu\n",
    "$$\n",
    "\n",
    "Its common to take $\\pi(\\nu)$ as a gaussian with mean $\\hat{\\nu}$ and sigma $\\sigma_\\nu$.\n",
    "\n",
    "Notice that this method is a hybrid: frequentist-bayesian."
   ]
  },
  {
   "cell_type": "markdown",
   "metadata": {
    "slideshow": {
     "slide_type": "slide"
    }
   },
   "source": [
    "**Exercise:** Consider the case of an experiment that expects $b=2 \\pm 0.2$ background events, and search for a signal $s=5$. What is the effect of the uncertainty on $b$ in the expected 95% CL limit?"
   ]
  },
  {
   "cell_type": "markdown",
   "metadata": {
    "slideshow": {
     "slide_type": "slide"
    }
   },
   "source": [
    "----"
   ]
  },
  {
   "cell_type": "markdown",
   "metadata": {
    "nbpresent": {
     "id": "7a51d248-ab99-4db8-8cad-f38f21a9fd3d"
    },
    "slideshow": {
     "slide_type": "slide"
    }
   },
   "source": [
    "## 6. Composite hypothesis\n",
    "\n",
    "Often the $H_1$ hypothesis is not complete, it depends on several parameters.  \n",
    "\n",
    "A typical example if searching for a new signal with a unkown cross-section or half-lifetime. We resume the unknown into a parameter, $\\mu$, that quantifies the strength of the signal.\n",
    "\n",
    "$H_1$ depends now on $\\mu$. When $\\mu=0$, we recuperate the case $H_0$.\n",
    "\n",
    "We have many hypothesis now. This is know as **composite hypothesis testing**. How we proceed? We can scan along $\\mu$ and repeat the hypothesis test. But this can be *computationally expensive.*\n",
    "\n",
    "In some case there are simpler solutions, but first we need to go back to the concept of **Confidence Levels**.\n",
    "\n",
    "As we shall see composite hypothesis testing and confidence intervals are in fact the same thing."
   ]
  },
  {
   "cell_type": "markdown",
   "metadata": {
    "nbpresent": {
     "id": "fd994b19-bfe4-47e4-9b0b-b0608e652de4"
    },
    "slideshow": {
     "slide_type": "slide"
    }
   },
   "source": [
    "**Exercise** An experiment searches for a new signal expected $s=1$ according with SM, in a background $b=0.5$, but the strength of the signal can be 10 times more. If there is no signal, what is the 90% CL exclusion sensitivity in terms of $\\mu$?"
   ]
  },
  {
   "cell_type": "markdown",
   "metadata": {
    "slideshow": {
     "slide_type": "fragment"
    }
   },
   "source": [
    "-----"
   ]
  },
  {
   "cell_type": "code",
   "execution_count": null,
   "metadata": {},
   "outputs": [],
   "source": []
  }
 ],
 "metadata": {
  "anaconda-cloud": {},
  "celltoolbar": "Slideshow",
  "kernelspec": {
   "display_name": "Python 3",
   "language": "python",
   "name": "python3"
  },
  "language_info": {
   "codemirror_mode": {
    "name": "ipython",
    "version": 3
   },
   "file_extension": ".py",
   "mimetype": "text/x-python",
   "name": "python",
   "nbconvert_exporter": "python",
   "pygments_lexer": "ipython3",
   "version": "3.6.8"
  },
  "nbpresent": {
   "slides": {
    "03c973b9-a933-4963-883a-b404400e0f61": {
     "id": "03c973b9-a933-4963-883a-b404400e0f61",
     "prev": "abd277d4-bebd-459a-83a0-f2c3e9f41bbe",
     "regions": {
      "a0a32193-b2de-45eb-accf-271aeff98d01": {
       "attrs": {
        "height": 0.8,
        "width": 0.8,
        "x": 0.1,
        "y": 0.1
       },
       "content": {
        "cell": "fd167f21-280d-4c3f-ba5c-01cd6a1ee4f2",
        "part": "whole"
       },
       "id": "a0a32193-b2de-45eb-accf-271aeff98d01"
      }
     }
    },
    "05b90ccd-613d-48c8-8349-76052e91d209": {
     "id": "05b90ccd-613d-48c8-8349-76052e91d209",
     "prev": "53c3fd3a-bb2e-4a1d-a8d0-7f77aa481908",
     "regions": {}
    },
    "0625507a-b45b-4bd4-ae49-dc84776d0d12": {
     "id": "0625507a-b45b-4bd4-ae49-dc84776d0d12",
     "prev": "03c973b9-a933-4963-883a-b404400e0f61",
     "regions": {
      "0db85c93-0528-4078-b2e6-9012b2e79e0b": {
       "attrs": {
        "height": 0.8,
        "width": 0.8,
        "x": 0.1,
        "y": 0.1
       },
       "content": {
        "cell": "f3a7d2d2-e581-4e1f-bf31-fda81c790d69",
        "part": "whole"
       },
       "id": "0db85c93-0528-4078-b2e6-9012b2e79e0b"
      }
     }
    },
    "0af600d2-5e75-4ef0-9419-637561778a9b": {
     "id": "0af600d2-5e75-4ef0-9419-637561778a9b",
     "prev": "05b90ccd-613d-48c8-8349-76052e91d209",
     "regions": {
      "c36eeceb-a679-4e0c-82cf-16f8ee719b08": {
       "attrs": {
        "height": 0.8,
        "width": 0.8,
        "x": 0.1,
        "y": 0.1
       },
       "content": {
        "cell": "8b1a3799-c81d-4bc0-86e1-3fb15503aa79",
        "part": "whole"
       },
       "id": "c36eeceb-a679-4e0c-82cf-16f8ee719b08"
      }
     }
    },
    "14fd8390-cb3c-4721-92f4-1b1d5100702e": {
     "id": "14fd8390-cb3c-4721-92f4-1b1d5100702e",
     "prev": null,
     "regions": {
      "c264fd1f-0c8f-4514-a5e7-c71c35568354": {
       "attrs": {
        "height": 0.8,
        "width": 0.8,
        "x": 0.1,
        "y": 0.1
       },
       "content": {
        "cell": "b0bdc0c5-2495-4e0e-9793-ed5facd68637",
        "part": "whole"
       },
       "id": "c264fd1f-0c8f-4514-a5e7-c71c35568354"
      }
     }
    },
    "1d02906a-e06a-4a1d-a0c0-988f2b6a3645": {
     "id": "1d02906a-e06a-4a1d-a0c0-988f2b6a3645",
     "prev": "cd7f6e46-54bb-400e-8ed0-4b99dafbef7e",
     "regions": {
      "0b861c39-abcc-4ce3-be33-0d4383855383": {
       "attrs": {
        "height": 0.8,
        "width": 0.8,
        "x": 0.1,
        "y": 0.1
       },
       "content": {
        "cell": "6bed7def-d8e1-4f01-ba39-d699c034fa8d",
        "part": "whole"
       },
       "id": "0b861c39-abcc-4ce3-be33-0d4383855383"
      }
     }
    },
    "26d299d9-0cb9-468a-a646-4c99648ef8f5": {
     "id": "26d299d9-0cb9-468a-a646-4c99648ef8f5",
     "prev": "473bde1a-8e4f-44c8-9570-b2f2eaf39991",
     "regions": {
      "c6fd86da-0742-44f5-8676-2a36788ddbed": {
       "attrs": {
        "height": 0.8,
        "width": 0.8,
        "x": 0.1,
        "y": 0.1
       },
       "content": {
        "cell": "ec123021-6415-46a8-b79f-508e0e25f28d",
        "part": "whole"
       },
       "id": "c6fd86da-0742-44f5-8676-2a36788ddbed"
      }
     }
    },
    "28900538-796d-4bd2-921b-00567d8adbe8": {
     "id": "28900538-796d-4bd2-921b-00567d8adbe8",
     "prev": "d9efacc5-46f1-4913-bbbe-59aef63a7e5e",
     "regions": {
      "fd2aff00-5f4e-47f1-929a-16918f044651": {
       "attrs": {
        "height": 0.8,
        "width": 0.8,
        "x": 0.1,
        "y": 0.1
       },
       "content": {
        "cell": "7a51d248-ab99-4db8-8cad-f38f21a9fd3d",
        "part": "whole"
       },
       "id": "fd2aff00-5f4e-47f1-929a-16918f044651"
      }
     }
    },
    "30524962-33e0-442d-a166-8385e3539149": {
     "id": "30524962-33e0-442d-a166-8385e3539149",
     "prev": "4d0fd687-7494-42db-8031-b8aa4f6e8958",
     "regions": {
      "cef579af-c191-4420-9e6d-53188cbb95d1": {
       "attrs": {
        "height": 0.8,
        "width": 0.8,
        "x": 0.1,
        "y": 0.1
       },
       "content": {
        "cell": "cd3172c0-1283-4ad4-a4e5-3ed178a53c6a",
        "part": "whole"
       },
       "id": "cef579af-c191-4420-9e6d-53188cbb95d1"
      }
     }
    },
    "34a1ce81-4b64-40a7-83e8-300aa2aedcc4": {
     "id": "34a1ce81-4b64-40a7-83e8-300aa2aedcc4",
     "prev": "670664b7-a1e1-4d66-8e3f-5d3723286f87",
     "regions": {
      "46ddc3b7-2c51-489b-a95e-9017b70c4c94": {
       "attrs": {
        "height": 0.8,
        "width": 0.8,
        "x": 0.1,
        "y": 0.1
       },
       "content": {
        "cell": "19d7e813-cdc2-4ec7-8c43-f8d22cf8ba4e",
        "part": "whole"
       },
       "id": "46ddc3b7-2c51-489b-a95e-9017b70c4c94"
      }
     }
    },
    "3945d6f7-bc6d-4e9b-865f-f8f513acaa65": {
     "id": "3945d6f7-bc6d-4e9b-865f-f8f513acaa65",
     "prev": "bb5a2ac7-d69b-472f-80f1-0b22b500d6b1",
     "regions": {
      "0536af45-f585-4867-ab8c-b7d492dbca20": {
       "attrs": {
        "height": 0.8,
        "width": 0.8,
        "x": 0.1,
        "y": 0.1
       },
       "content": {
        "cell": "72dc290c-5abc-481d-ab04-03bfba7f0f04",
        "part": "whole"
       },
       "id": "0536af45-f585-4867-ab8c-b7d492dbca20"
      }
     }
    },
    "473bde1a-8e4f-44c8-9570-b2f2eaf39991": {
     "id": "473bde1a-8e4f-44c8-9570-b2f2eaf39991",
     "prev": "8af4880d-b773-4819-a3a7-20c3e747bd38",
     "regions": {
      "beffdeaa-4ee0-4dd8-a621-e2d31c4f1c0c": {
       "attrs": {
        "height": 0.8,
        "width": 0.8,
        "x": 0.1,
        "y": 0.1
       },
       "content": {
        "cell": "910b5fdd-8bd7-4c24-a2e7-fcd10c64c805",
        "part": "whole"
       },
       "id": "beffdeaa-4ee0-4dd8-a621-e2d31c4f1c0c"
      }
     }
    },
    "4d0fd687-7494-42db-8031-b8aa4f6e8958": {
     "id": "4d0fd687-7494-42db-8031-b8aa4f6e8958",
     "prev": "5f00c622-7e01-465c-af95-0e3140f41964",
     "regions": {
      "fde7aa54-b253-473a-9d8f-290b3f381df4": {
       "attrs": {
        "height": 0.8,
        "width": 0.8,
        "x": 0.1,
        "y": 0.1
       },
       "content": {
        "cell": "f33c702a-6dda-450b-bd04-2d63c4955e21",
        "part": "whole"
       },
       "id": "fde7aa54-b253-473a-9d8f-290b3f381df4"
      }
     }
    },
    "520b787c-80d0-468e-a886-a7655a396da5": {
     "id": "520b787c-80d0-468e-a886-a7655a396da5",
     "prev": "52d6cfb9-fbda-441a-9a56-b3a448b2a716",
     "regions": {
      "96a741ba-d88f-4bf7-8f88-caf58d929454": {
       "attrs": {
        "height": 0.8,
        "width": 0.8,
        "x": 0.1,
        "y": 0.1
       },
       "content": {
        "cell": "414f4b85-d8d8-4d44-91e8-a81b2f3b6aff",
        "part": "whole"
       },
       "id": "96a741ba-d88f-4bf7-8f88-caf58d929454"
      }
     }
    },
    "52d6cfb9-fbda-441a-9a56-b3a448b2a716": {
     "id": "52d6cfb9-fbda-441a-9a56-b3a448b2a716",
     "prev": "ff5d273d-624d-4084-9245-d2e63d652d3f",
     "regions": {
      "eca9eec6-f213-4ddf-9b8f-acf70e3855c4": {
       "attrs": {
        "height": 0.8,
        "width": 0.8,
        "x": 0.1,
        "y": 0.1
       },
       "content": {
        "cell": "039cac1a-ccef-4bb5-9406-cc1450a1a1a3",
        "part": "whole"
       },
       "id": "eca9eec6-f213-4ddf-9b8f-acf70e3855c4"
      }
     }
    },
    "53c3fd3a-bb2e-4a1d-a8d0-7f77aa481908": {
     "id": "53c3fd3a-bb2e-4a1d-a8d0-7f77aa481908",
     "prev": "14fd8390-cb3c-4721-92f4-1b1d5100702e",
     "regions": {
      "2e862ace-1d3a-40d3-91b8-8adfb48f9b42": {
       "attrs": {
        "height": 0.8,
        "width": 0.8,
        "x": 0.1,
        "y": 0.1
       },
       "content": {
        "cell": "ad5486f8-4654-482a-b15c-f0d4e5c76937",
        "part": "whole"
       },
       "id": "2e862ace-1d3a-40d3-91b8-8adfb48f9b42"
      }
     }
    },
    "5f00c622-7e01-465c-af95-0e3140f41964": {
     "id": "5f00c622-7e01-465c-af95-0e3140f41964",
     "prev": "28900538-796d-4bd2-921b-00567d8adbe8",
     "regions": {
      "865db23e-09b3-41e7-bae9-d5f2c5d767ed": {
       "attrs": {
        "height": 0.8,
        "width": 0.8,
        "x": 0.1,
        "y": 0.1
       },
       "content": {
        "cell": "fd994b19-bfe4-47e4-9b0b-b0608e652de4",
        "part": "whole"
       },
       "id": "865db23e-09b3-41e7-bae9-d5f2c5d767ed"
      }
     }
    },
    "670664b7-a1e1-4d66-8e3f-5d3723286f87": {
     "id": "670664b7-a1e1-4d66-8e3f-5d3723286f87",
     "prev": "852688d5-90bc-41f3-8a37-152ef555b37b",
     "regions": {
      "534a18b1-a167-4b2e-9ace-6b1215080b4e": {
       "attrs": {
        "height": 0.8,
        "width": 0.8,
        "x": 0.1,
        "y": 0.1
       },
       "content": {
        "cell": "dca918e6-eeda-49a5-bf63-7d7e4593a8b4",
        "part": "whole"
       },
       "id": "534a18b1-a167-4b2e-9ace-6b1215080b4e"
      }
     }
    },
    "6754d1c7-53db-4045-9401-7322a90ae611": {
     "id": "6754d1c7-53db-4045-9401-7322a90ae611",
     "prev": "d1521f3d-2262-40a0-a5e1-88b0e16506e5",
     "regions": {
      "4492173d-93f2-479d-8d92-64643e7a9d51": {
       "attrs": {
        "height": 0.8,
        "width": 0.8,
        "x": 0.1,
        "y": 0.1
       },
       "content": {
        "cell": "0da93dea-2f38-407a-a1da-d95868af5553",
        "part": "whole"
       },
       "id": "4492173d-93f2-479d-8d92-64643e7a9d51"
      }
     }
    },
    "68f9f3ab-a415-4fd2-9796-a2885e3ecd3d": {
     "id": "68f9f3ab-a415-4fd2-9796-a2885e3ecd3d",
     "prev": "9e0cd59b-974d-40e3-9833-2b4997889623",
     "regions": {
      "6027082b-baf6-4a01-95d8-7da144824014": {
       "attrs": {
        "height": 0.8,
        "width": 0.8,
        "x": 0.1,
        "y": 0.1
       },
       "content": {
        "cell": "64460482-4923-4181-a234-2b0826f24577",
        "part": "whole"
       },
       "id": "6027082b-baf6-4a01-95d8-7da144824014"
      }
     }
    },
    "6f2a0112-3509-4daa-b075-857bf2579c21": {
     "id": "6f2a0112-3509-4daa-b075-857bf2579c21",
     "prev": "ae69a1c3-b34c-4834-a24d-9080490a066b",
     "regions": {
      "2e3711ab-46c8-41e6-8eb2-2c3f04083a96": {
       "attrs": {
        "height": 0.8,
        "width": 0.8,
        "x": 0.1,
        "y": 0.1
       },
       "content": {
        "cell": "614260a3-f2b7-41ac-bab7-3f27221c62c3",
        "part": "whole"
       },
       "id": "2e3711ab-46c8-41e6-8eb2-2c3f04083a96"
      }
     }
    },
    "852688d5-90bc-41f3-8a37-152ef555b37b": {
     "id": "852688d5-90bc-41f3-8a37-152ef555b37b",
     "prev": "f7d6d4c5-f718-4bd5-886e-9dbce46b14a8",
     "regions": {
      "44066b64-c04d-4b41-afba-c9d9c5103b86": {
       "attrs": {
        "height": 0.8,
        "width": 0.8,
        "x": 0.1,
        "y": 0.1
       },
       "content": {
        "cell": "29fce9a4-e192-488e-a24a-e339615b68c1",
        "part": "whole"
       },
       "id": "44066b64-c04d-4b41-afba-c9d9c5103b86"
      }
     }
    },
    "8af4880d-b773-4819-a3a7-20c3e747bd38": {
     "id": "8af4880d-b773-4819-a3a7-20c3e747bd38",
     "prev": "3945d6f7-bc6d-4e9b-865f-f8f513acaa65",
     "regions": {
      "073634e7-bf4f-432f-a7ce-78b7bff8768a": {
       "attrs": {
        "height": 0.8,
        "width": 0.8,
        "x": 0.1,
        "y": 0.1
       },
       "content": {
        "cell": "5759e1ec-75c1-48d7-a056-3674ab3e4f7d",
        "part": "whole"
       },
       "id": "073634e7-bf4f-432f-a7ce-78b7bff8768a"
      }
     }
    },
    "8e95450e-7c4d-4349-b203-df7f3f335f33": {
     "id": "8e95450e-7c4d-4349-b203-df7f3f335f33",
     "prev": "fb0452df-0a75-44a1-b887-5beb2d213ed9",
     "regions": {
      "ee77ca13-0bbc-49a2-a848-a71efd0adf84": {
       "attrs": {
        "height": 0.8,
        "width": 0.8,
        "x": 0.1,
        "y": 0.1
       },
       "content": {
        "cell": "c728a564-189f-4c98-8891-39170977a837",
        "part": "whole"
       },
       "id": "ee77ca13-0bbc-49a2-a848-a71efd0adf84"
      }
     }
    },
    "9ded5185-b8ba-4bd9-9fc7-a542f079d952": {
     "id": "9ded5185-b8ba-4bd9-9fc7-a542f079d952",
     "prev": "bacc3206-fdac-4afe-b401-62a6a67aecc3",
     "regions": {
      "2ea1639f-a94e-45fb-a2a7-a018b2ebe370": {
       "attrs": {
        "height": 0.8,
        "width": 0.8,
        "x": 0.1,
        "y": 0.1
       },
       "content": {
        "cell": "43e100ca-3a5e-4321-b30a-75ba56b43367",
        "part": "whole"
       },
       "id": "2ea1639f-a94e-45fb-a2a7-a018b2ebe370"
      }
     }
    },
    "9e0cd59b-974d-40e3-9833-2b4997889623": {
     "id": "9e0cd59b-974d-40e3-9833-2b4997889623",
     "prev": "f033fabf-ee38-4787-bd8c-e893d1ebdea7",
     "regions": {
      "eb776255-fd17-4c23-b21a-facb253ebf6b": {
       "attrs": {
        "height": 0.8,
        "width": 0.8,
        "x": 0.1,
        "y": 0.1
       },
       "content": {
        "cell": "287e983b-72a1-4613-afcc-c3c1ab61dd18",
        "part": "whole"
       },
       "id": "eb776255-fd17-4c23-b21a-facb253ebf6b"
      }
     }
    },
    "abd277d4-bebd-459a-83a0-f2c3e9f41bbe": {
     "id": "abd277d4-bebd-459a-83a0-f2c3e9f41bbe",
     "prev": "ffc5ae15-5827-409c-ae63-c56557c9f8dd",
     "regions": {
      "3ec88410-862e-480a-9cc9-2e1a4b01f6a0": {
       "attrs": {
        "height": 0.8,
        "width": 0.8,
        "x": 0.1,
        "y": 0.1
       },
       "content": {
        "cell": "2ed92466-3a5f-4aec-8cbf-017327c70bd8",
        "part": "whole"
       },
       "id": "3ec88410-862e-480a-9cc9-2e1a4b01f6a0"
      }
     }
    },
    "ae69a1c3-b34c-4834-a24d-9080490a066b": {
     "id": "ae69a1c3-b34c-4834-a24d-9080490a066b",
     "prev": "9ded5185-b8ba-4bd9-9fc7-a542f079d952",
     "regions": {
      "45f70f94-eaa8-43d6-baf8-b874c1c556bf": {
       "attrs": {
        "height": 0.8,
        "width": 0.8,
        "x": 0.1,
        "y": 0.1
       },
       "content": {
        "cell": "3841b030-0070-4827-b90e-1ddb0c7e3e74",
        "part": "whole"
       },
       "id": "45f70f94-eaa8-43d6-baf8-b874c1c556bf"
      }
     }
    },
    "b062e9fb-0f2e-42e6-924b-6bdaef937cfc": {
     "id": "b062e9fb-0f2e-42e6-924b-6bdaef937cfc",
     "prev": "26d299d9-0cb9-468a-a646-4c99648ef8f5",
     "regions": {
      "97edcfa2-8717-46b5-b3dc-bce48c24699b": {
       "attrs": {
        "height": 0.8,
        "width": 0.8,
        "x": 0.1,
        "y": 0.1
       },
       "content": {
        "cell": "86c5b979-5fef-43d7-a853-631dd7187b7a",
        "part": "whole"
       },
       "id": "97edcfa2-8717-46b5-b3dc-bce48c24699b"
      }
     }
    },
    "b678339e-95fa-4fb2-8fd9-64859f4a3003": {
     "id": "b678339e-95fa-4fb2-8fd9-64859f4a3003",
     "prev": "f1185057-baeb-4926-b4d4-ea490af4b375",
     "regions": {
      "01b5af79-5365-418f-a332-9447e1e4c8f7": {
       "attrs": {
        "height": 0.8,
        "width": 0.8,
        "x": 0.1,
        "y": 0.1
       },
       "content": {
        "cell": "285ab068-3282-460b-a021-01bc47b5f6a6",
        "part": "whole"
       },
       "id": "01b5af79-5365-418f-a332-9447e1e4c8f7"
      }
     }
    },
    "bacc3206-fdac-4afe-b401-62a6a67aecc3": {
     "id": "bacc3206-fdac-4afe-b401-62a6a67aecc3",
     "prev": "0af600d2-5e75-4ef0-9419-637561778a9b",
     "regions": {
      "a6ab8cbf-d7e3-43a6-a3e2-156953b5132f": {
       "attrs": {
        "height": 0.8,
        "width": 0.8,
        "x": 0.1,
        "y": 0.1
       },
       "content": {
        "cell": "03b78c78-a17e-4c7f-85e5-2f054ba3ac70",
        "part": "whole"
       },
       "id": "a6ab8cbf-d7e3-43a6-a3e2-156953b5132f"
      }
     }
    },
    "bb5a2ac7-d69b-472f-80f1-0b22b500d6b1": {
     "id": "bb5a2ac7-d69b-472f-80f1-0b22b500d6b1",
     "prev": "dcaae40e-bfa3-4b02-a07f-e60131d41001",
     "regions": {
      "d153cea3-4c0c-4d59-a0bc-3a1f34d2d533": {
       "attrs": {
        "height": 0.8,
        "width": 0.8,
        "x": 0.1,
        "y": 0.1
       },
       "content": {
        "cell": "525a9dc4-0bae-4e5c-ae1e-056dab928092",
        "part": "whole"
       },
       "id": "d153cea3-4c0c-4d59-a0bc-3a1f34d2d533"
      }
     }
    },
    "cd7f6e46-54bb-400e-8ed0-4b99dafbef7e": {
     "id": "cd7f6e46-54bb-400e-8ed0-4b99dafbef7e",
     "prev": "d591f5b2-3cfa-40e0-b6f9-23c7cf914341",
     "regions": {
      "baa53820-7b66-43be-bf4d-686011ba1a62": {
       "attrs": {
        "height": 0.8,
        "width": 0.8,
        "x": 0.1,
        "y": 0.1
       },
       "content": {
        "cell": "ca6c5d7d-72dc-46e7-b316-238ecbd2ef42",
        "part": "whole"
       },
       "id": "baa53820-7b66-43be-bf4d-686011ba1a62"
      }
     }
    },
    "cfe40159-360a-4ca6-b629-dcaf42ba6006": {
     "id": "cfe40159-360a-4ca6-b629-dcaf42ba6006",
     "prev": "68f9f3ab-a415-4fd2-9796-a2885e3ecd3d",
     "regions": {
      "85e81ff6-9bcf-4b34-8289-d88ad20b8e90": {
       "attrs": {
        "height": 0.8,
        "width": 0.8,
        "x": 0.1,
        "y": 0.1
       },
       "content": {
        "cell": "f975605e-50af-4b2b-b346-6987f9fdeb3b",
        "part": "whole"
       },
       "id": "85e81ff6-9bcf-4b34-8289-d88ad20b8e90"
      }
     }
    },
    "d1521f3d-2262-40a0-a5e1-88b0e16506e5": {
     "id": "d1521f3d-2262-40a0-a5e1-88b0e16506e5",
     "prev": "b678339e-95fa-4fb2-8fd9-64859f4a3003",
     "regions": {
      "28fe7bdc-bc30-46d8-877b-670ac3b83ff2": {
       "attrs": {
        "height": 0.8,
        "width": 0.8,
        "x": 0.1,
        "y": 0.1
       },
       "content": {
        "cell": "271e0508-27bd-465c-aeaf-9d93495cff5b",
        "part": "whole"
       },
       "id": "28fe7bdc-bc30-46d8-877b-670ac3b83ff2"
      }
     }
    },
    "d591f5b2-3cfa-40e0-b6f9-23c7cf914341": {
     "id": "d591f5b2-3cfa-40e0-b6f9-23c7cf914341",
     "prev": "30524962-33e0-442d-a166-8385e3539149",
     "regions": {
      "a168e527-9302-4cd1-a13f-08afa25e5339": {
       "attrs": {
        "height": 0.8,
        "width": 0.8,
        "x": 0.1,
        "y": 0.1
       },
       "content": {
        "cell": "daef9866-c944-44e5-9198-0a776e47aace",
        "part": "whole"
       },
       "id": "a168e527-9302-4cd1-a13f-08afa25e5339"
      }
     }
    },
    "d9efacc5-46f1-4913-bbbe-59aef63a7e5e": {
     "id": "d9efacc5-46f1-4913-bbbe-59aef63a7e5e",
     "prev": "34a1ce81-4b64-40a7-83e8-300aa2aedcc4",
     "regions": {
      "82e3f7de-35ec-4742-9b47-4d425012f8f7": {
       "attrs": {
        "height": 0.8,
        "width": 0.8,
        "x": 0.1,
        "y": 0.1
       },
       "content": {
        "cell": "a690eefb-2be1-47d9-a5b2-2b82ca73809d",
        "part": "whole"
       },
       "id": "82e3f7de-35ec-4742-9b47-4d425012f8f7"
      }
     }
    },
    "dcaae40e-bfa3-4b02-a07f-e60131d41001": {
     "id": "dcaae40e-bfa3-4b02-a07f-e60131d41001",
     "prev": "eaa81505-a8ce-4034-8700-57cf207c4352",
     "regions": {
      "81222eb2-e84c-47bc-a07c-b3624be55883": {
       "attrs": {
        "height": 0.8,
        "width": 0.8,
        "x": 0.1,
        "y": 0.1
       },
       "content": {
        "cell": "a455d904-3fbe-4a12-a1f2-1c8fa63e718c",
        "part": "whole"
       },
       "id": "81222eb2-e84c-47bc-a07c-b3624be55883"
      }
     }
    },
    "e6e8e485-1028-4ca0-a67c-bc4285cd900b": {
     "id": "e6e8e485-1028-4ca0-a67c-bc4285cd900b",
     "prev": "b062e9fb-0f2e-42e6-924b-6bdaef937cfc",
     "regions": {
      "6edab1db-2389-4635-92f4-7aede64288d3": {
       "attrs": {
        "height": 0.8,
        "width": 0.8,
        "x": 0.1,
        "y": 0.1
       },
       "content": {
        "cell": "5c058c4e-5fee-4eda-834f-a419aebedd07",
        "part": "whole"
       },
       "id": "6edab1db-2389-4635-92f4-7aede64288d3"
      }
     }
    },
    "eaa81505-a8ce-4034-8700-57cf207c4352": {
     "id": "eaa81505-a8ce-4034-8700-57cf207c4352",
     "prev": "1d02906a-e06a-4a1d-a0c0-988f2b6a3645",
     "regions": {
      "4f784b97-8fa0-4137-8e50-0b05f8077d8d": {
       "attrs": {
        "height": 0.8,
        "width": 0.8,
        "x": 0.1,
        "y": 0.1
       },
       "content": {
        "cell": "06d98302-00f8-4d79-9ad5-660d734a7684",
        "part": "whole"
       },
       "id": "4f784b97-8fa0-4137-8e50-0b05f8077d8d"
      }
     }
    },
    "f033fabf-ee38-4787-bd8c-e893d1ebdea7": {
     "id": "f033fabf-ee38-4787-bd8c-e893d1ebdea7",
     "prev": "e6e8e485-1028-4ca0-a67c-bc4285cd900b",
     "regions": {
      "03432ebd-e70f-4764-a43b-f2f47da59bb3": {
       "attrs": {
        "height": 0.8,
        "width": 0.8,
        "x": 0.1,
        "y": 0.1
       },
       "content": {
        "cell": "c636b122-4836-4ed4-aa4a-1738665b9b9a",
        "part": "whole"
       },
       "id": "03432ebd-e70f-4764-a43b-f2f47da59bb3"
      }
     }
    },
    "f1185057-baeb-4926-b4d4-ea490af4b375": {
     "id": "f1185057-baeb-4926-b4d4-ea490af4b375",
     "prev": "6f2a0112-3509-4daa-b075-857bf2579c21",
     "regions": {
      "7546ae18-835a-4616-9017-49c13dbbea8d": {
       "attrs": {
        "height": 0.8,
        "width": 0.8,
        "x": 0.1,
        "y": 0.1
       },
       "content": {
        "cell": "e2c6911d-d7b5-4bc5-b7b5-4aacf1f5e16c",
        "part": "whole"
       },
       "id": "7546ae18-835a-4616-9017-49c13dbbea8d"
      }
     }
    },
    "f7d6d4c5-f718-4bd5-886e-9dbce46b14a8": {
     "id": "f7d6d4c5-f718-4bd5-886e-9dbce46b14a8",
     "prev": "8e95450e-7c4d-4349-b203-df7f3f335f33",
     "regions": {
      "e44956c3-9cdc-4045-83dd-7da9fe20a43c": {
       "attrs": {
        "height": 0.8,
        "width": 0.8,
        "x": 0.1,
        "y": 0.1
       },
       "content": {
        "cell": "f9b7401d-d46c-46ec-88b4-20bfd0d52016",
        "part": "whole"
       },
       "id": "e44956c3-9cdc-4045-83dd-7da9fe20a43c"
      }
     }
    },
    "fb0452df-0a75-44a1-b887-5beb2d213ed9": {
     "id": "fb0452df-0a75-44a1-b887-5beb2d213ed9",
     "prev": "0625507a-b45b-4bd4-ae49-dc84776d0d12",
     "regions": {
      "992c8c35-a9cb-4413-a4ba-3866195ec8ba": {
       "attrs": {
        "height": 0.8,
        "width": 0.8,
        "x": 0.1,
        "y": 0.1
       },
       "content": {
        "cell": "55461985-ce0c-4d80-af16-83546fd567cb",
        "part": "whole"
       },
       "id": "992c8c35-a9cb-4413-a4ba-3866195ec8ba"
      }
     }
    },
    "ff5d273d-624d-4084-9245-d2e63d652d3f": {
     "id": "ff5d273d-624d-4084-9245-d2e63d652d3f",
     "prev": "cfe40159-360a-4ca6-b629-dcaf42ba6006",
     "regions": {
      "a9a6636b-9c15-4313-8fde-2f8c3b837054": {
       "attrs": {
        "height": 0.8,
        "width": 0.8,
        "x": 0.1,
        "y": 0.1
       },
       "content": {
        "cell": "7367c126-acad-4115-81e5-f7db8d2b275c",
        "part": "whole"
       },
       "id": "a9a6636b-9c15-4313-8fde-2f8c3b837054"
      }
     }
    },
    "ffc5ae15-5827-409c-ae63-c56557c9f8dd": {
     "id": "ffc5ae15-5827-409c-ae63-c56557c9f8dd",
     "prev": "6754d1c7-53db-4045-9401-7322a90ae611",
     "regions": {
      "c474b573-fef0-4545-9909-3d8e47305551": {
       "attrs": {
        "height": 0.8,
        "width": 0.8,
        "x": 0.1,
        "y": 0.1
       },
       "content": {
        "cell": "3c2bc7e4-65f8-43a1-94e9-c57c82218d19",
        "part": "whole"
       },
       "id": "c474b573-fef0-4545-9909-3d8e47305551"
      }
     }
    }
   },
   "themes": {
    "default": "9e30d733-5ce5-4311-b8b1-ce05a7bc4772",
    "theme": {
     "9e30d733-5ce5-4311-b8b1-ce05a7bc4772": {
      "id": "9e30d733-5ce5-4311-b8b1-ce05a7bc4772",
      "palette": {
       "19cc588f-0593-49c9-9f4b-e4d7cc113b1c": {
        "id": "19cc588f-0593-49c9-9f4b-e4d7cc113b1c",
        "rgb": [
         252,
         252,
         252
        ]
       },
       "31af15d2-7e15-44c5-ab5e-e04b16a89eff": {
        "id": "31af15d2-7e15-44c5-ab5e-e04b16a89eff",
        "rgb": [
         68,
         68,
         68
        ]
       },
       "50f92c45-a630-455b-aec3-788680ec7410": {
        "id": "50f92c45-a630-455b-aec3-788680ec7410",
        "rgb": [
         155,
         177,
         192
        ]
       },
       "c5cc3653-2ee1-402a-aba2-7caae1da4f6c": {
        "id": "c5cc3653-2ee1-402a-aba2-7caae1da4f6c",
        "rgb": [
         43,
         126,
         184
        ]
       },
       "efa7f048-9acb-414c-8b04-a26811511a21": {
        "id": "efa7f048-9acb-414c-8b04-a26811511a21",
        "rgb": [
         25.118061674008803,
         73.60176211453744,
         107.4819383259912
        ]
       }
      },
      "rules": {
       "blockquote": {
        "color": "50f92c45-a630-455b-aec3-788680ec7410"
       },
       "code": {
        "font-family": "Anonymous Pro"
       },
       "h1": {
        "color": "c5cc3653-2ee1-402a-aba2-7caae1da4f6c",
        "font-family": "Lato",
        "font-size": 8
       },
       "h2": {
        "color": "c5cc3653-2ee1-402a-aba2-7caae1da4f6c",
        "font-family": "Lato",
        "font-size": 6
       },
       "h3": {
        "color": "50f92c45-a630-455b-aec3-788680ec7410",
        "font-family": "Lato",
        "font-size": 5.5
       },
       "h4": {
        "color": "c5cc3653-2ee1-402a-aba2-7caae1da4f6c",
        "font-family": "Lato",
        "font-size": 5
       },
       "h5": {
        "font-family": "Lato"
       },
       "h6": {
        "font-family": "Lato"
       },
       "h7": {
        "font-family": "Lato"
       },
       "pre": {
        "font-family": "Anonymous Pro",
        "font-size": 4
       }
      },
      "text-base": {
       "font-family": "Merriweather",
       "font-size": 4
      }
     }
    }
   }
  }
 },
 "nbformat": 4,
 "nbformat_minor": 1
}
