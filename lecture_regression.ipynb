{
 "cells": [
  {
   "cell_type": "markdown",
   "metadata": {},
   "source": [
    "## Statistical Methods in Python For Rare Event Searches\n",
    "\n",
    "*Summer Course at Canfranc Underground Laboratory (LSC) July 2019*\n",
    "\n",
    "### Lecture V\n",
    "\n",
    "## Hypothesis test and regression\n",
    "\n",
    "*Author: Jose A. Hernando*, June 2019\n",
    "\n",
    "*Instituto Galego de Altas Enerxías. Universidade de Santiago de Compostela, Spain.*"
   ]
  },
  {
   "cell_type": "markdown",
   "metadata": {},
   "source": [
    "These is a series of lectures on statistical method for rare searches in Particle Physics in Python. Emphasis is put on Hypothesis testing and Confidence Intervals. They are based on the excellent lectures on statistics by Prosper [1], Cowan [2] and Cranmer[3] given at CERN Academic Training.\n",
    "\n",
    "We will use the Python scientic toolkits, Matplotlib, Numpy, Scipy, that are distributed with Anaconda Python [9]. "
   ]
  },
  {
   "cell_type": "code",
   "execution_count": 5,
   "metadata": {},
   "outputs": [],
   "source": [
    "%matplotlib inline\n",
    "%reload_ext autoreload\n",
    "%autoreload 2\n",
    "\n",
    "# numpy and matplotlib\n",
    "import numpy as np\n",
    "import pandas as pd\n",
    "import matplotlib\n",
    "import matplotlib.pyplot as plt\n",
    "import scipy.stats as stats\n",
    "import scipy.optimize as optimize\n",
    "\n",
    "# possible styles: ggplot (simplicity), bmh (scientify data), \n",
    "plt.style.context('seaborn-colorblind')\n",
    "\n",
    "import htcore    as htcore\n",
    "import htcatalog as htcata\n",
    "import httoys    as httoys\n",
    "import htplot    as htplot\n",
    "\n",
    "# ploting images\n",
    "from IPython.display import display, Image"
   ]
  },
  {
   "cell_type": "code",
   "execution_count": 6,
   "metadata": {},
   "outputs": [
    {
     "name": "stdout",
     "output_type": "stream",
     "text": [
      " Last Execution  Fri Jul  5 11:03:56 2019\n"
     ]
    }
   ],
   "source": [
    "import time\n",
    "\n",
    "print(' Last Execution ', time.asctime())"
   ]
  },
  {
   "cell_type": "markdown",
   "metadata": {},
   "source": [
    "----"
   ]
  },
  {
   "cell_type": "markdown",
   "metadata": {},
   "source": [
    "## Introduction\n",
    "\n",
    "As we have seen in the previous lecture, there is a relation between hypothesis testing, CI and regression. To obtain a CI using FC ordering we need to estimate the parameter $\\mu$.\n",
    "\n",
    "We are going to revisit here some of **regression** techniques in particular the extended maximum likelihood, EML.\n"
   ]
  },
  {
   "cell_type": "markdown",
   "metadata": {},
   "source": [
    "\n",
    "**regression** is the task of estimating the parameters, $\\mu$, of a model using data, $x$.\n",
    "The most common regression methods are the Least Squares (LS) and the Maximum Likelihood (ML).\n",
    "\n",
    "**goodness of the fit** is the task to quantify the agreement between a dataset and a model or between datasets. \n",
    "\n",
    "A typical example is to check if the model obtained by regression is consistent with the original dataset. Another example is to check if two datasets are consistent. \n",
    "\n",
    "The most common goodness of the fit used are the $\\chi^2$ and the Kolmogorov-Smirnov. The later is only valid in 1D problems. \n",
    "\n",
    "Extending goodness of the fit to multivariate datasets is not simple. It is still an open issue"
   ]
  },
  {
   "cell_type": "markdown",
   "metadata": {},
   "source": [
    "## Extended Maximun Likelihood \n",
    "\n",
    "The MLE estimator maximizes:\n",
    "\n",
    "$$\n",
    " \\ln \\mathcal{L}(\\mu) = \\sum_{i=1}^n \\log g(x_i | \\mu).\n",
    "$$\n",
    "\n",
    "where $g(x | \\mu)$ is the pdf of x, and $\\{x\\}$ a n-size sample.\n",
    "\n",
    "\n",
    "**Remember** MLE may not be optimal! and that there is no goodness-of-fit for MLE!"
   ]
  },
  {
   "cell_type": "markdown",
   "metadata": {},
   "source": [
    "### Extended Maximum Likelihood\n",
    "\n",
    "The extended maximun likelihood is convenient when we have events of different clases, each one with its one pdf.\n",
    "\n",
    "Consider the case of $n$-size sample $x$, each $x_i$ distributed with a pdf $g(x | \\mu)$, and $n$ is poisson distributed $g(n | \\nu)$. The complete likelihood is:\n",
    "\n",
    "$$\n",
    "\\mathcal{L}(\\nu,\\mu) = \\frac{\\nu^n}{n!} e^{-\\nu} \\Pi_{i=1}^n g(x_i|\\mu)\n",
    "$$\n",
    "\n",
    "And it is called **Extended Maximum Likelihood function**.\n",
    "\n",
    "In the cases where $\\nu$ depends on $\\mu$, we must use EML. If $\\nu$ is independent of $\\mu$, then $\\hat{\\nu} = n$, and we recover the ML result.\n"
   ]
  },
  {
   "cell_type": "markdown",
   "metadata": {},
   "source": [
    "### Signal and background samples combined\n",
    "\n",
    "Consider two types of samples, background and signal, each one has a given pdf in one variable $x$:\n",
    "\n",
    "$$\n",
    "g_b(x | \\mu_b), \\; g_s(x | \\mu_s)\n",
    "$$ \n",
    "\n",
    "We measure a $n$-size sample of $x$ Each $x_i$ can be from signal or background. And signal and background are poisson distributed with means $\\nu_s, \\, \\nu_b$.\n",
    "\n",
    "The number of events is poisson distributed:\n",
    "\n",
    "$$\n",
    "g_e(n|\\nu_s,\\nu_b) = \\frac{(\\nu_s+\\nu_b)^n}{n!} e^{-(\\nu_s+\\nu_b)}\n",
    "$$\n",
    "\n",
    "And the $x$ variables is distributed with the weighted pdfs:\n",
    "\n",
    "$$\n",
    "g(x|\\nu_s,\\nu_s, \\mu_s, \\mu_b) = \\frac{\\nu_s}{\\nu_s+\\nu_b} g_s(x | \\mu_s) + \\frac{\\nu_b}{\\nu_s+\\nu_b} g_b(x | \\mu_b)\n",
    "$$\n"
   ]
  },
  {
   "cell_type": "markdown",
   "metadata": {},
   "source": [
    "The complete, extended, pdf is:\n",
    "$$\n",
    "g(n, x | \\nu_s,\\nu_b, \\mu_s, \\mu_b) = g_e(n|\\nu_s,\\nu_b) \\, g(x|\\nu_s,\\nu_b, \\mu_s, \\mu_b)\n",
    "$$\n",
    "\n",
    "That is:\n",
    "\n",
    "$$\n",
    " \\frac{(\\nu_s+\\nu_b)^n}{n!} e^{-(\\nu_s+\\nu_b)} \\; \\left( \\frac{\\nu_s}{\\nu_s+\\nu_b} g_s(x | \\mu_s) + \\frac{\\nu_b}{\\nu_s+\\nu_b} g_b(x | \\mu_b) \\right)\n",
    "$$\n",
    "\n",
    "where the fraction of signal and background events, $f_s, \\, f_b$, are:\n",
    "\n",
    "$$\n",
    "f_s = \\frac{\\nu_s}{\\nu_s+\\nu_b}, \\; f_b = \\frac{\\nu_b}{\\nu_s+\\nu_b}\n",
    "$$"
   ]
  },
  {
   "cell_type": "markdown",
   "metadata": {},
   "source": [
    "**Exercise:** Consider an dataset with $n$ samples of a measurement $x$. The samples can be either background or signal. For the background $x$ follows and exponential and for the signal a gaussian. Use EML to compute the number of signal and background events in a dataset.\n",
    "\n",
    "Consider the case of the exponential $\\tau = -0.1$, and gaussian with mean $\\mu = 2.5$ and sigma $\\sigma = 0.1$; $\\nu_b = 100$ events for the background and $\\nu_s = 20$ for the signal."
   ]
  },
  {
   "cell_type": "code",
   "execution_count": 101,
   "metadata": {},
   "outputs": [
    {
     "data": {
      "image/png": "[encoded data removed]",
      "text/plain": [
       "<Figure size 432x288 with 1 Axes>"
      ]
     },
     "metadata": {
      "needs_background": "light"
     },
     "output_type": "display_data"
    }
   ],
   "source": [
    "nug, nub, tau, gmu, gsig, size = 20., 100., -0.1, 2.5, 0.1, 1\n",
    "par = [nug, nub, tau, gmu, gsig]\n",
    "rv  = htcata.extended_norm_expon\n",
    "xs = rv.rvs(*par, size = size)\n",
    "xs = np.concatenate(xs); x0 = xs.flatten() # add several datasets\n",
    "plt.hist(xs, 100, histtype = 'step');"
   ]
  },
  {
   "cell_type": "code",
   "execution_count": 102,
   "metadata": {},
   "outputs": [
    {
     "name": "stdout",
     "output_type": "stream",
     "text": [
      "parbest  [25.39506292 93.60492481 -0.1         2.5         0.1       ]\n"
     ]
    }
   ],
   "source": [
    "mask, masknu = (True, True, False, False, False), (False, True, False, False, False)\n",
    "ht = htcore.htcomposite(rv, par, mask = mask, masknu = masknu)\n",
    "parbest = ht.parbest(x0)\n",
    "print('parbest ', parbest)"
   ]
  },
  {
   "cell_type": "markdown",
   "metadata": {},
   "source": [
    "**Exercise**: Check is the case fulfills the Wilk's condition."
   ]
  },
  {
   "cell_type": "code",
   "execution_count": 89,
   "metadata": {},
   "outputs": [
    {
     "name": "stdout",
     "output_type": "stream",
     "text": [
      "chi2  1.0728216837730762\n",
      "p-value mean : 0.5175868714039004 ; std * sqrt(12.) : 0.9952688722019466\n"
     ]
    },
    {
     "data": {
      "image/png": "[encoded data removed]",
      "text/plain": [
       "<Figure size 432x648 with 2 Axes>"
      ]
     },
     "metadata": {
      "needs_background": "light"
     },
     "output_type": "display_data"
    }
   ],
   "source": [
    "tmus = ht.tmu_rvs(size = 1000);\n",
    "htplot.chi2_test(tmus);"
   ]
  },
  {
   "cell_type": "markdown",
   "metadata": {},
   "source": [
    "**Exercise**: Compute the CI at 68 % CL using $t_\\mu(x)$ and the p0-value for the case $\\nu_g = 0$."
   ]
  },
  {
   "cell_type": "code",
   "execution_count": 91,
   "metadata": {},
   "outputs": [
    {
     "name": "stdout",
     "output_type": "stream",
     "text": [
      "central CI  : [10.30176774 25.32851881] at  90 % CL\n",
      "p0 value    : 2.102124030400887e-10\n"
     ]
    }
   ],
   "source": [
    "beta = 0.90\n",
    "ci = ht.tmu_cint(x0, parbest = parbest, beta = beta)\n",
    "#ul = ht.qmu_ulim(x0, parbest = parbest, beta = beta)\n",
    "q0 = ht.q0(x0, 0., parbest = parbest)\n",
    "p0 = htcore.q0_pvalue(q0)\n",
    "htplot.prt_wilks_pvalues(beta, ci_central = ci, p0 = p0)"
   ]
  },
  {
   "cell_type": "code",
   "execution_count": 94,
   "metadata": {},
   "outputs": [
    {
     "data": {
      "image/png": "[encoded data removed]",
      "text/plain": [
       "<Figure size 432x288 with 1 Axes>"
      ]
     },
     "metadata": {
      "needs_background": "light"
     },
     "output_type": "display_data"
    }
   ],
   "source": [
    "mus   = np.linspace(max(0., nug - 15), nug + 15, 100)\n",
    "tmus  = [ht.tmu(x0, mui, parbest = parbest) for mui  in mus]\n",
    "ptmus = [htcore.tmu_pvalue(tmui)            for tmui in tmus]\n",
    "htplot.plt_wilks_pvalues(beta, mus, ptmus);"
   ]
  },
  {
   "cell_type": "markdown",
   "metadata": {},
   "source": [
    "**Exercise**: Consider now a uniform backgrund $1.3 \\times 10^{-4}$ c/(kg y keV) and and two gaussian peaks with sigma 1%, one signal peak, $^{136}$Xe at 4458 keV with unknown number of events and other background peak ($^{214}$Bi) at 4447 keV with 0.06 c/(keV y). Consider the range 2400-2500 keV. \n",
    "\n",
    "Compute the upper limit in number of signal events at 90% CL vs exposure in the case there is no signal. \n",
    "\n",
    "Compute the observation potential in the case the number of signal is 0.12 c/(keV y)."
   ]
  },
  {
   "cell_type": "code",
   "execution_count": null,
   "metadata": {},
   "outputs": [],
   "source": []
  }
 ],
 "metadata": {
  "anaconda-cloud": {},
  "kernelspec": {
   "display_name": "Python 3",
   "language": "python",
   "name": "python3"
  },
  "language_info": {
   "codemirror_mode": {
    "name": "ipython",
    "version": 3
   },
   "file_extension": ".py",
   "mimetype": "text/x-python",
   "name": "python",
   "nbconvert_exporter": "python",
   "pygments_lexer": "ipython3",
   "version": "3.6.8"
  }
 },
 "nbformat": 4,
 "nbformat_minor": 1
}
