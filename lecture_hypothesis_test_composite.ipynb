{
 "cells": [
  {
   "cell_type": "markdown",
   "metadata": {
    "nbpresent": {
     "id": "b0bdc0c5-2495-4e0e-9793-ed5facd68637"
    },
    "slideshow": {
     "slide_type": "slide"
    }
   },
   "source": [
    "## Statistical Methods in Python For Rare Event Searches\n",
    "\n",
    "*Summer Course at Canfranc Underground Laboratory (LSC) July 2019*\n",
    "\n",
    "### Lecture IV\n",
    "\n",
    "## Hypothesis testing - composite case\n",
    "\n",
    "*Author: Jose A. Hernando*, June 2019\n",
    "\n",
    "*Instituto Galego de Altas Enerxías. Universidade de Santiago de Compostela, Spain.*"
   ]
  },
  {
   "cell_type": "code",
   "execution_count": 1,
   "metadata": {
    "nbpresent": {
     "id": "b2443ab4-16fc-4851-bb80-c90a0c6d6dee"
    },
    "scrolled": false,
    "slideshow": {
     "slide_type": "subslide"
    }
   },
   "outputs": [
    {
     "name": "stdout",
     "output_type": "stream",
     "text": [
      " Last Execution  Wed Jul 10 13:47:00 2019\n"
     ]
    }
   ],
   "source": [
    "import time\n",
    "\n",
    "print( ' Last Execution ', time.asctime())"
   ]
  },
  {
   "cell_type": "markdown",
   "metadata": {
    "slideshow": {
     "slide_type": "slide"
    }
   },
   "source": [
    "These is a series of lectures on statistical method for rare searches in Particle Physics in Python. Emphasis is put on Hypothesis testing and Confidence Intervals. They are based on the excellent lectures on statistics by Prosper [1], Cowan [2] and Cranmer[3] given at CERN Academic Training.\n",
    "\n",
    "We will use the Python scientic toolkits, Matplotlib, Numpy, Scipy, that are distributed with Anaconda Python [9]. \n"
   ]
  },
  {
   "cell_type": "code",
   "execution_count": null,
   "metadata": {},
   "outputs": [],
   "source": []
  },
  {
   "cell_type": "code",
   "execution_count": 2,
   "metadata": {
    "nbpresent": {
     "id": "ad5486f8-4654-482a-b15c-f0d4e5c76937"
    },
    "slideshow": {
     "slide_type": "slide"
    }
   },
   "outputs": [],
   "source": [
    "# general imports\n",
    "%matplotlib inline\n",
    "%reload_ext autoreload\n",
    "%autoreload 2\n",
    "\n",
    "# numpy and matplotlib\n",
    "import numpy as np\n",
    "import pandas as pd\n",
    "import matplotlib\n",
    "import matplotlib.pyplot as plt\n",
    "import scipy.stats as stats\n",
    "import scipy.optimize as optimize\n",
    "\n",
    "# possible styles: ggplot (simplicity), bmh (scientify data), \n",
    "plt.style.context('seaborn-colorblind')\n",
    "\n",
    "import htcore     as htcore\n",
    "import httoys     as httoys\n",
    "import htcatalog  as htcata\n",
    "import htplot     as htplot\n",
    "import htcomposite_examples as htexam\n",
    "\n",
    "# ploting images\n",
    "from IPython.display import display, Image"
   ]
  },
  {
   "cell_type": "markdown",
   "metadata": {
    "nbpresent": {
     "id": "8b1a3799-c81d-4bc0-86e1-3fb15503aa79"
    },
    "slideshow": {
     "slide_type": "fragment"
    }
   },
   "source": [
    "----"
   ]
  },
  {
   "cell_type": "markdown",
   "metadata": {
    "nbpresent": {
     "id": "03b78c78-a17e-4c7f-85e5-2f054ba3ac70"
    },
    "slideshow": {
     "slide_type": "slide"
    }
   },
   "source": [
    "## Introduction\n",
    "\n",
    "We have considered the case of an alternative **single** hypothesis $H_1$ with respect the null hypothesis $H_0$. \n",
    "\n",
    "But in some cases, the hypothesis depends on a parameter(s), the **strength parameter, $\\mu$**. That is $H_1(\\mu)$, with $H_1(\\mu = \\mu_0) = H_0$. These are **composite** cases.\n",
    "\n",
    "For example, we search for a neutrino-less double beta decay, we we do know the half-life time. Or we search for a dark-matter candidate but we do know not its cross-section.\n",
    "\n",
    "The result of a composite hypothesis testing is now a confidence interval on the $\\mu$ parameter.\n",
    "\n",
    "In manu cases the Wilk's theorem allow us to treat the problem without requiring massive simulations."
   ]
  },
  {
   "cell_type": "markdown",
   "metadata": {
    "nbpresent": {
     "id": "43e100ca-3a5e-4321-b30a-75ba56b43367"
    },
    "slideshow": {
     "slide_type": "fragment"
    }
   },
   "source": [
    "----"
   ]
  },
  {
   "cell_type": "markdown",
   "metadata": {
    "nbpresent": {
     "id": "3841b030-0070-4827-b90e-1ddb0c7e3e74"
    },
    "slideshow": {
     "slide_type": "slide"
    }
   },
   "source": [
    "## 1. Profile likelihood scan\n",
    "\n",
    "Let's consider a simple example. The null hypothesis a gaussian with $\\mu_0=0$ and sigma unity. And the alternative is a gaussian with $\\mu$ positive and sigma one.\n",
    "\n",
    "The separation of the gaussian will indicate when and what are the values of $\\mu$ \"compatible\" with observations.\n",
    "\n",
    "If $\\mu = 3$ half of the observations will indicate an observation at Z=3, and if $\\mu=5$ halft of the observation will imply discovery or Z=5.\n",
    "\n",
    "In the other hand, if $\\mu_{true} = 0$ we can set an upper limit at 90% CL at 1.28 Z, (the maximum value of $\\mu$ which gaussian penetrates in the negative region 10%), in 50% of the cases. \n",
    "\n",
    "**Explore** withe the $\\mu$ separation between both gaussian. Modify also $\\sigma$ of the gaussian."
   ]
  },
  {
   "cell_type": "code",
   "execution_count": 3,
   "metadata": {},
   "outputs": [
    {
     "name": "stdout",
     "output_type": "stream",
     "text": [
      "observed data : [-0.50924861]\n",
      "H0 p-value    : 0.6947110127039602\n",
      "H1 p-value    : 0.002937978229809435\n",
      "CLs           : 0.0096235971557024\n"
     ]
    },
    {
     "data": {
      "image/png": "[encoded data removed]",
      "text/plain": [
       "<Figure size 432x288 with 1 Axes>"
      ]
     },
     "metadata": {
      "needs_background": "light"
     },
     "output_type": "display_data"
    }
   ],
   "source": [
    "mu = 5.\n",
    "httoys.gaussian(0., mu, sigma1 = 2.);"
   ]
  },
  {
   "cell_type": "markdown",
   "metadata": {},
   "source": [
    "To set the FC CI we compute , $\\hat{\\mu}(x)$, the best-estimate of $\\mu$ given a data $x$.\n",
    "\n",
    "Usually  $\\hat{\\mu}(x)$ is estimated as the value that maximizes the likelihood $\\mathcal{L}(x | \\mu)$, that is the MLE (Maximum Likelihood Estimate).\n",
    "\n",
    "We can then relate the likelihood of an event $x$ with respect an hypotesis $\\mu$, $\\mathcal{L} (x |\\mu)$, with the likelihood of the best-estimate $\\mathcal{L}(x |\\hat{\\mu}(x))$ for this event. \n",
    "\n",
    "We can introduce the variable (-2 log) likelihood ratio (à la FC):\n",
    "\n",
    "$$\n",
    "t_\\mu( x) = -2 \\ln \\, \\frac{ \\mathcal{L}( x \\, | \\mu)}{ \\mathcal{L}( x \\, | \\, \\hat{\\mu}( x))}\n",
    "$$\n",
    "\n",
    "We **order** events acording to $t_\\mu(x)$ for a given $\\mu$. \n",
    "\n",
    "We consider events compatible with $\\mu$ at $\\beta$ CL those with are in the $\\beta$ % of the lower values of the $t_\\mu$ distribution. "
   ]
  },
  {
   "cell_type": "markdown",
   "metadata": {},
   "source": [
    "In certain cases, when the number of observed data by an experiment is 'large', the $t_\\mu(x)$ has the nice property that its pdf, $g(t_\\mu)$, is known is a $\\chi^2$ distribution with one degree-of-freedom.\n",
    "\n",
    "This is a consequence of the **Wilk's theoreme**.\n",
    "\n",
    "Therefore, we first need to check if our case fulfills Wilk's conditions, via the goodness-of-fit of the $t_\\mu$ distribution to a $\\chi^2(1)$.\n",
    "\n",
    "Usually if the likelihood is regular enough and the estimates are guassian distributed the Wilk's conditions are fulfilled.\n",
    "\n",
    "Note: We are use to this property in *regresion* of the parameters with the MLE! \n",
    "We do the likelihood scan around the bes-estimate!"
   ]
  },
  {
   "cell_type": "markdown",
   "metadata": {},
   "source": [
    "Let's consider a simple example, a gaussian distribution.\n",
    "\n",
    "**Example**: Consider a gaussian distribution with unknown postive mean $\\mu$ and sigma one, while the null hypothesis is $\\mu_0 = 0$ and sigma one. Let's verify that this case fulfill that $t_\\mu$ is distributed with a $\\chi^2(1)$.\n",
    "\n",
    "**Question:** Verify analytically in the previous case, a gaussian distribution, that $t_\\mu$ follows a $\\chi^2(1)$ pdf."
   ]
  },
  {
   "cell_type": "code",
   "execution_count": 4,
   "metadata": {},
   "outputs": [
    {
     "name": "stdout",
     "output_type": "stream",
     "text": [
      "muhat :  0.02068868750000005 , std 1.0385963969889536\n"
     ]
    },
    {
     "data": {
      "image/png": "[encoded data removed]",
      "text/plain": [
       "<Figure size 432x288 with 1 Axes>"
      ]
     },
     "metadata": {
      "needs_background": "light"
     },
     "output_type": "display_data"
    }
   ],
   "source": [
    "mu, sigma, size  = 0., 1., 1000\n",
    "par, mask = (mu, sigma), (True, False)\n",
    "rv        = stats.norm\n",
    "xs        = rv.rvs(mu, sigma, size = size)\n",
    "ht        = htcore.htcomposite(rv, par, mask = mask)\n",
    "muhats    = [float(ht.mubest(xi))  for xi in xs]\n",
    "tmus      = [ht.tmu(xi, mu)        for xi in xs]\n",
    "print('muhat : ', np.mean(muhats), ', std', np.std(muhats))\n",
    "plt.hist(muhats, 60); plt.xlabel(r'$\\hat{\\mu}$');"
   ]
  },
  {
   "cell_type": "code",
   "execution_count": 5,
   "metadata": {},
   "outputs": [
    {
     "name": "stdout",
     "output_type": "stream",
     "text": [
      "chi2  1.0791105611923424\n",
      "p-value mean : 0.5124500250139882 ; std * sqrt(12.) : 1.0062965465602447\n"
     ]
    },
    {
     "data": {
      "image/png": "[encoded data removed]",
      "text/plain": [
       "<Figure size 432x648 with 2 Axes>"
      ]
     },
     "metadata": {
      "needs_background": "light"
     },
     "output_type": "display_data"
    }
   ],
   "source": [
    "htplot.chi2_test(tmus, nbins = 100, label = r'$t_\\mu$')"
   ]
  },
  {
   "cell_type": "markdown",
   "metadata": {
    "slideshow": {
     "slide_type": "slide"
    }
   },
   "source": [
    "**Exercise**: Consider the case of a poisson distribution with a unknown mean $\\mu$ and the null hypothesis $\\mu_0$. Check for what values of $\\mu$ for whose $t_\\mu$ follows a $\\chi^2(1)$ distribution.\n",
    "\n",
    "**Exercise**: Consider the case of an experiment that get a sample of n-size poisson disbruted values, $x$ with a unknown mean $\\mu$. Check the values of $n$ for whose $t_\\mu$ follows a $\\chi^2(1)$ distribution."
   ]
  },
  {
   "cell_type": "markdown",
   "metadata": {
    "nbpresent": {
     "id": "f33c702a-6dda-450b-bd04-2d63c4955e21"
    },
    "slideshow": {
     "slide_type": "slide"
    }
   },
   "source": [
    "### 1.1 Profile likelihood ratio \n",
    "\n",
    "We can now invert the situation, and given a observed data $x_0$, we can provide a CI on $\\mu$, for whose vaules, $x_0$ is not an extreme observation, that is has not a $p$-value $<1-\\beta$ at a $\\beta$ CL.\n",
    "\n",
    "There is a simple relation between $t_\\mu$ and its p-value, $p_\\mu$, via the $\\chi^2(1)$ distribution:\n",
    "\n",
    "$$\n",
    "p_\\mu = 2 \\, (1 - \\Phi(\\sqrt{t_\\mu}))\n",
    "$$\n",
    "\n",
    "Where $\\Phi(x)$ is the comulative function of a normal gaussian.\n",
    "\n",
    "We can no:\n",
    "\n",
    "1) define a CI of $\\mu$ at $\\beta$ CL, for those values wich $p_\\mu >= 1-\\beta$.\n",
    "\n",
    "2) clain observation (discovery) of $H_1(\\mu_0)$ has a $p_0$, a Z-value $\\ge 3$ (5)."
   ]
  },
  {
   "cell_type": "markdown",
   "metadata": {
    "slideshow": {
     "slide_type": "slide"
    }
   },
   "source": [
    "**Example**: Consider a gaussian distribution with fix sigma and unknown $\\mu$, and the null hypothesis is $\\mu_0$. Generate an observation data, $x_0$, and compute the CI of $\\mu$ at $\\beta$ CL using the $t_\\mu$ variable. Consider $\\mu=3$ and $\\beta = 0.68$."
   ]
  },
  {
   "cell_type": "code",
   "execution_count": 6,
   "metadata": {},
   "outputs": [
    {
     "name": "stdout",
     "output_type": "stream",
     "text": [
      "observed data  [3.97561581] , best par  [3.97558594 1.        ]\n"
     ]
    }
   ],
   "source": [
    "mu, sigma, size = 3., 1., 1\n",
    "par, mask       = (mu, sigma), (True, False)\n",
    "rv              = stats.norm\n",
    "ht              = htcore.htcomposite(rv, par, mask = mask)\n",
    "\n",
    "x0      = rv.rvs(*par, size = size)\n",
    "parbest = ht.parbest(x0)\n",
    "\n",
    "print('observed data ', x0, ', best par ', parbest)"
   ]
  },
  {
   "cell_type": "code",
   "execution_count": 7,
   "metadata": {
    "scrolled": false
   },
   "outputs": [
    {
     "name": "stdout",
     "output_type": "stream",
     "text": [
      "central CI  : [2.98115793 4.97007369] at  68 % CL\n"
     ]
    },
    {
     "data": {
      "image/png": "[encoded data removed]",
      "text/plain": [
       "<Figure size 432x288 with 1 Axes>"
      ]
     },
     "metadata": {
      "needs_background": "light"
     },
     "output_type": "display_data"
    }
   ],
   "source": [
    "mu0, mu1, nmus, beta = 0, 10, 100, 0.68\n",
    "mus   = np.linspace(mu0, mu1, nmus)\n",
    "tmus  = [ht    .tmu(x0, mui, parbest = parbest) for mui  in mus]\n",
    "ptmus = [htcore.tmu_pvalue(tmui)                for tmui in tmus]\n",
    "ci     = ht.tmu_cint(x0, beta = beta)\n",
    "\n",
    "htplot.prt_wilks_pvalues(beta, ci_central = ci)\n",
    "htplot.plt_wilks_pvalues(beta, mus, ptmus = ptmus);"
   ]
  },
  {
   "cell_type": "markdown",
   "metadata": {},
   "source": [
    "### 1.2 testing the null-hypothesis\n",
    "\n",
    "In same cases the strength parameter $\\mu \\ge \\mu_0$, therefore the values of $\\hat{\\mu}(x) \\lt \\mu_0$ do not challenge $H_0$.\n",
    "\n",
    "If we define:\n",
    "\n",
    "$$\n",
    "\\lambda(\\mu) = \\frac{\\mathcal{L}(x | \\mu)}{\\mathcal{L}(x | \\hat{\\mu}(x))}\n",
    "$$\n",
    "\n",
    "Verifying the compatibility with $\\mu_0$ (goodness-of-fit) we can use:\n",
    "\n",
    "$$\n",
    "q_0 = \\left\\{ \\begin{array}{ll} \n",
    "-2 \\ln \\lambda(\\mu_0) & \\mbox{if $\\hat{\\mu}(x) > \\mu_0$} \\\\\n",
    "0 & \\mbox{if $\\hat{\\mu}(x) \\le \\mu_0$}\n",
    "\\end{array} \\right.\n",
    "$$\n",
    "\n",
    "Now the pdf of $q_0$, $g(q_0 \\, | \\mu_0)$, will be now a \"half\" $\\chi^2$ distribution. \n",
    "In this case there is even a simple relation with the $p$-value of $H_0$, the *goodness-of-fit* of $H_0$.\n",
    "\n",
    "$$\n",
    "p_0 = 1-\\Phi(\\sqrt{q_0})\n",
    "$$\n",
    "\n",
    "That translates directly into number of sigmas, $Z$:\n",
    "$$\n",
    "Z = \\sqrt{q_0}\n",
    "$$"
   ]
  },
  {
   "cell_type": "markdown",
   "metadata": {},
   "source": [
    "**Example**: In the case of a gaussian hypothesis with mean $\\mu$ positive and sigma one, and the null hypothesis $\\mu_0 = 0$. Generate an observation data for the case $\\mu_{true} = 3$ and compute the $p$-value and $Z$-value of $H_0$."
   ]
  },
  {
   "cell_type": "code",
   "execution_count": 8,
   "metadata": {},
   "outputs": [
    {
     "name": "stdout",
     "output_type": "stream",
     "text": [
      "x0  4.762514802278582 parhat  [4.7625 1.    ]\n",
      "q0  22.68154724170349 p-value 9.559758400445872e-07 Z-value 4.762514802255579\n"
     ]
    }
   ],
   "source": [
    "mu0, mutrue, sigma, size = 0., 3., 1., 1\n",
    "par, mask                 = (mutrue, sigma), (True, False)\n",
    "x0    = stats.norm.rvs(*par, size = size)\n",
    "ht    = htcore.htcomposite(stats.norm, par, mask = mask)\n",
    "\n",
    "parbest = ht.parbest(x0)\n",
    "q0      = ht.q0(x0, mu0)\n",
    "p0      = htcore.q0_pvalue(q0)\n",
    "print('x0 ', float(x0), 'parhat ', parbest)\n",
    "print('q0 ', q0, 'p-value', p0, 'Z-value', np.sqrt(q0))"
   ]
  },
  {
   "cell_type": "markdown",
   "metadata": {
    "slideshow": {
     "slide_type": "slide"
    }
   },
   "source": [
    "**Exercise** Verify that the $q_0$ distribution is a 'half'-$\\chi^2$."
   ]
  },
  {
   "cell_type": "markdown",
   "metadata": {},
   "source": [
    "### 1.3 Testing the alternative hypothesis\n",
    "\n",
    "To set a **upper** limit on the value of $\\mu$, the $\\hat{\\mu}$ above $\\mu$ do not challege the alternative hypothesis, and we can simpler construct:\n",
    "\n",
    "$$\n",
    "q_\\mu = \\left\\{ \\begin{array}{ll} \n",
    "-2 \\ln \\lambda(\\mu) & \\mbox{if $\\hat{\\mu} \\le \\mu$} \\\\\n",
    "0 & \\mbox{if $\\hat{\\mu} \\gt \\mu$}\n",
    "\\end{array} \\right.\n",
    "$$\n",
    "\n",
    "Again the pdf, $g(q_\\mu | \\mu)$  is a \"half\" $\\chi^2$ distribution when $\\mu = \\mu_{true}$.\n",
    "\n",
    "And computing p-value of the $H_1(\\mu)$ hypothesis is very simple:\n",
    "\n",
    "$$\n",
    "p_\\mu = 1 - \\Phi(\\sqrt{q_\\mu})\n",
    "$$\n",
    "\n",
    "This $p_\\mu$-value allow us to compute the upper limit on $\\mu$."
   ]
  },
  {
   "cell_type": "markdown",
   "metadata": {},
   "source": [
    "**Example** Consider a gaussian distributed with mean $\\mu_0 = 0$ and sigma 1. Generate an experiment, compute $q_\\mu$ for $\\mu = 3$. Set the upper limit on $\\mu$ at 90% CL."
   ]
  },
  {
   "cell_type": "code",
   "execution_count": 9,
   "metadata": {},
   "outputs": [
    {
     "name": "stdout",
     "output_type": "stream",
     "text": [
      "x0   [-0.66999415] parbest  [-0.67  1.  ]\n",
      "qmu  13.46885703357759 p-value  0.00012127801152739259  at mu  3.0\n",
      "upper limit : [0.61155742] at  90 % CL\n"
     ]
    }
   ],
   "source": [
    "mu, mutrue, sigma, size, beta = 3., 0., 1., 1, 0.90\n",
    "par, mask                 = (mutrue, sigma), (True, False)\n",
    "ht  = htcore.htcomposite(stats.norm, par, mask = mask)\n",
    "\n",
    "x0      = stats.norm.rvs(*par, size = size)\n",
    "parbest = ht.parbest(x0)\n",
    "qmu     = ht.qmu(x0, mu)\n",
    "pqmu    = htcore.qmu_pvalue(qmu)\n",
    "muup    = ht.qmu_ulim(x0, beta = 0.9)\n",
    "\n",
    "print('x0  ', x0 , 'parbest ', parbest);\n",
    "print('qmu ', qmu, 'p-value ', pqmu, ' at mu ', mu)\n",
    "htplot.prt_wilks_pvalues(beta, ci_upper = muup)"
   ]
  },
  {
   "cell_type": "code",
   "execution_count": 10,
   "metadata": {},
   "outputs": [
    {
     "data": {
      "image/png": "[encoded data removed]",
      "text/plain": [
       "<Figure size 432x288 with 1 Axes>"
      ]
     },
     "metadata": {
      "needs_background": "light"
     },
     "output_type": "display_data"
    }
   ],
   "source": [
    "mu0, mu1, nmus = -6., 6., 100\n",
    "mus    = np.linspace(mu0, mu1, nmus)\n",
    "qmus   = [ht    .qmu(x0,  mui, parbest = parbest) for mui in mus]\n",
    "pqmus  = [htcore.qmu_pvalue(qmui)                 for qmui in qmus]\n",
    "htplot.plt_wilks_pvalues(beta, mus, pqmus = pqmus);"
   ]
  },
  {
   "cell_type": "markdown",
   "metadata": {},
   "source": [
    "**Exercise**: Consider an experiment with a gaussian distribution with mean $\\mu$ and sigma 1. Consider $\\mu_{true} = \\mu_0 = 0$. Obtain the distribution of the upper limits at 90 %CL. "
   ]
  },
  {
   "cell_type": "markdown",
   "metadata": {},
   "source": [
    "**Exercise** Consider a experiment with a $n$ sample of gaussian distributed values with $\\mu$ and sigma 1. Consider $\\mu_{true} = \\mu = 3.5$, verify that $q_\\mu$ follows a half-$\\chi^2$ distribution with one dof."
   ]
  },
  {
   "cell_type": "markdown",
   "metadata": {
    "nbpresent": {
     "id": "72dc290c-5abc-481d-ab04-03bfba7f0f04"
    },
    "slideshow": {
     "slide_type": "fragment"
    }
   },
   "source": [
    "---"
   ]
  },
  {
   "cell_type": "markdown",
   "metadata": {
    "nbpresent": {
     "id": "5759e1ec-75c1-48d7-a056-3674ab3e4f7d"
    },
    "slideshow": {
     "slide_type": "slide"
    }
   },
   "source": [
    "## 5. Nuissance parameters \n",
    "\n",
    "Consider a counting experiment with a control region that is $\\tau$ times larger than the signal region. In both regions the expected background events is $\\nu$, while in the signal region $\\nu + \\mu$. \n",
    "\n",
    "**Explore** in the following toy the generation of some events, with different values of $\\nu$, $\\mu$.\n",
    "\n",
    "We are interested on measuring $\\mu$ and estimating $\\nu$ from the control sample. $\\nu$ is a nuisance parameter, how we can treat it?"
   ]
  },
  {
   "cell_type": "code",
   "execution_count": 11,
   "metadata": {
    "scrolled": false
   },
   "outputs": [
    {
     "name": "stdout",
     "output_type": "stream",
     "text": [
      "bkg events : 37 signal events : 4\n"
     ]
    },
    {
     "data": {
      "image/png": "[encoded data removed]",
      "text/plain": [
       "<Figure size 432x288 with 1 Axes>"
      ]
     },
     "metadata": {
      "needs_background": "light"
     },
     "output_type": "display_data"
    }
   ],
   "source": [
    "mu, nu, tau = 6, 2, 20\n",
    "httoys.poisson_control_rvs(mu, nu, tau, tau + 1);"
   ]
  },
  {
   "cell_type": "markdown",
   "metadata": {},
   "source": [
    "We have seen that one option to deal with the nuissance parameters was to marginalize the pdf is possible.\n",
    "\n",
    "Another possibility, is to extend the likelihood to estimate the nuisance parameter, $\\nu$, and use:\n",
    "\n",
    "$$\n",
    "t_\\mu = -2 \\ln \\frac{\\mathcal{L}(x \\, | \\mu, \\, \\hat{\\nu}(\\mu))}{ \\mathcal{L}(x \\, | \\, \\hat{\\mu}, \\hat{\\nu} )}\n",
    "$$\n",
    "\n",
    "where $\\hat{\\nu}$ is the best estimate given $x$, and $\\hat{\\nu}(\\mu)$ is the best estimate when fixing $\\mu$ and given $x$.\n",
    "\n",
    "\n",
    "And use the test statistics $q_0$ and $q_\\mu$ to test the null and the composite hypothesis. And $t_\\mu$ to define the CI."
   ]
  },
  {
   "cell_type": "markdown",
   "metadata": {
    "nbpresent": {
     "id": "86c5b979-5fef-43d7-a853-631dd7187b7a"
    },
    "slideshow": {
     "slide_type": "slide"
    }
   },
   "source": [
    "**Example:** Consider an experiment that search for a signal $\\nu+\\mu$. The background, $\\nu$, is measured in a independent region, called *control* region, where there is no signal, and an expected background $\\tau \\nu$, where $\\tau$ is known. Consider $\\nu$ as the nuisance parameter. The experiment observes $k$ events in the control and signal region. Consider an experiment with $k=4$, $\\tau = 40$, $\\nu = 2$ and $\\mu = 10$. What is the range of $\\mu$ excluded at 90 %CL. Compute $q_0$, is there a discovery, obserrvation? \n",
    "\n",
    "This is a prototype of a search. The pdf is:\n",
    "\n",
    "$$\n",
    "g(n, \\, m \\, | \\, \\mu, \\, \\nu) = \\frac{(\\nu+\\mu )^m \\, e^{-(\\nu + \\mu)}}{m!} \\, \\frac{(\\tau \\nu)^n \\, e^{-\\tau \\nu}}{n!}\n",
    "$$\n",
    "\n",
    "where $m$ are the events in the control region and $n$ are the events in the signal region. \n"
   ]
  },
  {
   "cell_type": "markdown",
   "metadata": {
    "slideshow": {
     "slide_type": "slide"
    }
   },
   "source": [
    "**Exercise**: First, we check that $t_\\mu(\\mu, \\nu)$ is approximatelly a $\\chi^2$ with 2 dof, and $t_\\mu(\\mu, \\hat{\\nu}(\\mu))$ a $\\chi^2$ with one dof."
   ]
  },
  {
   "cell_type": "markdown",
   "metadata": {},
   "source": [
    "**Example**: Generate an observed data, $x_0$. for an experiment with a control and a signal region. The control region follows a poisson with $\\tau \\nu$, and the signal $\\nu + \\mu$. Consider the case $\\tau = 20$, $\\nu = 2$ and $\\mu = 6$.\n",
    "\n",
    "Compute:\n",
    "\n",
    "a) The p-value with the null hypothesis $\\mu=0$.\n",
    "\n",
    "b) The lower value of the upper CI at 90% using $q_\\mu$\n",
    "\n",
    "c) the central CI at 90% CL using $t_\\mu$"
   ]
  },
  {
   "cell_type": "code",
   "execution_count": 12,
   "metadata": {},
   "outputs": [
    {
     "name": "stdout",
     "output_type": "stream",
     "text": [
      "mu, nu true   : 6.0 2.0\n",
      "events in control, signal region : 46.0 9.0\n",
      "events in control region/tau     : 2.3\n",
      "par best : [ 6.70000246  2.29999557 20.        ]\n",
      "par best : [ 6.          2.30957031 20.        ]  fix mu at  6.0\n"
     ]
    }
   ],
   "source": [
    "mu, nu, tau = 6., 2., 20.\n",
    "par, mask, masknu  = (mu, nu, tau), (True, True, False), (False, True, False)\n",
    "\n",
    "# generate an observation and obtain the best-estimate of mu, nu and nu given mu\n",
    "rv      = htcata.poisson_control_signal\n",
    "x0      = rv.rvs(*par, size =1)[0]\n",
    "ht      = htcore.htcomposite(rv, par, mask = mask, masknu = masknu) \n",
    "parbest = ht.parbest(x0)\n",
    "nubest  = ht.parmubest(x0, mu)\n",
    "\n",
    "print('mu, nu true   :', mu, nu)\n",
    "print('events in control, signal region :', x0[0], x0[1])\n",
    "print('events in control region/tau     :', x0[0]/tau)\n",
    "print('par best :', parbest)\n",
    "print('par best :', nubest, ' fix mu at ', mu)"
   ]
  },
  {
   "cell_type": "code",
   "execution_count": 13,
   "metadata": {},
   "outputs": [],
   "source": [
    "mu0, mu1, nmus = 2., 20., 100\n",
    "mus    = np.linspace(mu0, mu1, nmus)\n",
    "# compute q0 for null hypotesis\n",
    "# compute tmu(mu, nuhat), qmu(mu, nuhat) for a range of mu\n",
    "q0     = ht.q0(x0, 0.)\n",
    "tmus   = [ht.tmu      (x0, mi, parbest = parbest) for mi in mus]\n",
    "qmus   = [ht.qmu      (x0, mi, parbest = parbest) for mi in mus]"
   ]
  },
  {
   "cell_type": "code",
   "execution_count": 14,
   "metadata": {},
   "outputs": [
    {
     "data": {
      "image/png": "[encoded data removed]",
      "text/plain": [
       "<Figure size 432x288 with 1 Axes>"
      ]
     },
     "metadata": {
      "needs_background": "light"
     },
     "output_type": "display_data"
    }
   ],
   "source": [
    "plt.plot(mus, tmus, label = r'$t_\\mu$');\n",
    "plt.plot(mus, qmus, label = r'$q_\\mu$');\n",
    "plt.xlabel(r'$\\mu$')\n",
    "plt.legend(loc = 1);"
   ]
  },
  {
   "cell_type": "code",
   "execution_count": 15,
   "metadata": {},
   "outputs": [],
   "source": [
    "# compute the CI using tmu, and upper limit using qmu\n",
    "beta = 0.90\n",
    "pts = [htcore.tmu_pvalue(tmu) for tmu in tmus]\n",
    "pqs = [htcore.qmu_pvalue(qmu) for qmu in qmus]\n",
    "ci_upper   = ht.qmu_ulim(x0, beta = beta, parbest = parbest);\n",
    "ci_central = ht.tmu_cint(x0, beta = beta, parbest = parbest);"
   ]
  },
  {
   "cell_type": "code",
   "execution_count": 16,
   "metadata": {},
   "outputs": [
    {
     "name": "stdout",
     "output_type": "stream",
     "text": [
      "H0 p-value  0.0006766040799403017 Z-value  3.2044499490690663\n",
      "upper limit : [11.12920398] at  90 % CL\n",
      "central CI  : [ 2.57456007 12.5971063 ] at  90 % CL\n"
     ]
    },
    {
     "data": {
      "image/png": "[encoded data removed]",
      "text/plain": [
       "<Figure size 432x288 with 1 Axes>"
      ]
     },
     "metadata": {
      "needs_background": "light"
     },
     "output_type": "display_data"
    }
   ],
   "source": [
    "print('H0 p-value ', htcore.q0_pvalue(q0), 'Z-value ', np.sqrt(q0))\n",
    "htplot.prt_wilks_pvalues(beta, ci_central, ci_upper)\n",
    "htplot.plt_wilks_pvalues(beta, mus, pts, pqs)"
   ]
  },
  {
   "cell_type": "markdown",
   "metadata": {
    "slideshow": {
     "slide_type": "slide"
    }
   },
   "source": [
    "**Example**: Generate now $m$ experiments, and obtain the $\\hat{\\mu}, \\hat{\\nu}$ distributions."
   ]
  },
  {
   "cell_type": "code",
   "execution_count": 17,
   "metadata": {},
   "outputs": [
    {
     "data": {
      "image/png": "[encoded data removed]",
      "text/plain": [
       "<Figure size 432x288 with 1 Axes>"
      ]
     },
     "metadata": {
      "needs_background": "light"
     },
     "output_type": "display_data"
    }
   ],
   "source": [
    "mu, nu, tau, size  = 12., 4., 20., 1000\n",
    "htexam.poisson_control_muhat_hist(mu, nu, tau, size)"
   ]
  },
  {
   "cell_type": "markdown",
   "metadata": {
    "slideshow": {
     "slide_type": "slide"
    }
   },
   "source": [
    "**Example** In the following plot we show the p-value of the an observed data $x_0$ in the plane $(\\mu, \\nu)$. They are computed assuming that $t_\\mu(x)$ follows a $\\chi^2$ pdf with 2 dof. The start in the plot is best-estimate point, $(\\hat{\\mu}, \\hat{\\nu})$, and the line the best nuisance parameter $\\hat{\\nu}(\\mu)$ as a funcion of $\\nu$. \n",
    "\n",
    "Notice that at p-value 0.1 corresponde the CI region of 90% CL and the proyection onto the $\\mu$ axis in the 90% CL for the $\\mu$ parameter when $\\nu$ is considered a nuisance."
   ]
  },
  {
   "cell_type": "code",
   "execution_count": 18,
   "metadata": {},
   "outputs": [
    {
     "name": "stdout",
     "output_type": "stream",
     "text": [
      "data     : (48.0, 19.0)\n",
      "best par : [14.20002862  4.79999947]\n",
      "central CI : [ 7.78105847 22.36869044]\n"
     ]
    },
    {
     "data": {
      "image/png": "[encoded data removed]",
      "text/plain": [
       "<Figure size 432x288 with 2 Axes>"
      ]
     },
     "metadata": {
      "needs_background": "light"
     },
     "output_type": "display_data"
    }
   ],
   "source": [
    "mu, nu, tau = 12., 4., 10.\n",
    "htexam.poisson_control_ci(mu, nu, tau);"
   ]
  },
  {
   "cell_type": "markdown",
   "metadata": {
    "slideshow": {
     "slide_type": "fragment"
    }
   },
   "source": [
    "---"
   ]
  },
  {
   "cell_type": "code",
   "execution_count": null,
   "metadata": {},
   "outputs": [],
   "source": []
  }
 ],
 "metadata": {
  "anaconda-cloud": {},
  "celltoolbar": "Slideshow",
  "kernelspec": {
   "display_name": "Python 3",
   "language": "python",
   "name": "python3"
  },
  "language_info": {
   "codemirror_mode": {
    "name": "ipython",
    "version": 3
   },
   "file_extension": ".py",
   "mimetype": "text/x-python",
   "name": "python",
   "nbconvert_exporter": "python",
   "pygments_lexer": "ipython3",
   "version": "3.6.8"
  },
  "nbpresent": {
   "slides": {
    "03c973b9-a933-4963-883a-b404400e0f61": {
     "id": "03c973b9-a933-4963-883a-b404400e0f61",
     "prev": "abd277d4-bebd-459a-83a0-f2c3e9f41bbe",
     "regions": {
      "a0a32193-b2de-45eb-accf-271aeff98d01": {
       "attrs": {
        "height": 0.8,
        "width": 0.8,
        "x": 0.1,
        "y": 0.1
       },
       "content": {
        "cell": "fd167f21-280d-4c3f-ba5c-01cd6a1ee4f2",
        "part": "whole"
       },
       "id": "a0a32193-b2de-45eb-accf-271aeff98d01"
      }
     }
    },
    "05b90ccd-613d-48c8-8349-76052e91d209": {
     "id": "05b90ccd-613d-48c8-8349-76052e91d209",
     "prev": "53c3fd3a-bb2e-4a1d-a8d0-7f77aa481908",
     "regions": {}
    },
    "0625507a-b45b-4bd4-ae49-dc84776d0d12": {
     "id": "0625507a-b45b-4bd4-ae49-dc84776d0d12",
     "prev": "03c973b9-a933-4963-883a-b404400e0f61",
     "regions": {
      "0db85c93-0528-4078-b2e6-9012b2e79e0b": {
       "attrs": {
        "height": 0.8,
        "width": 0.8,
        "x": 0.1,
        "y": 0.1
       },
       "content": {
        "cell": "f3a7d2d2-e581-4e1f-bf31-fda81c790d69",
        "part": "whole"
       },
       "id": "0db85c93-0528-4078-b2e6-9012b2e79e0b"
      }
     }
    },
    "0af600d2-5e75-4ef0-9419-637561778a9b": {
     "id": "0af600d2-5e75-4ef0-9419-637561778a9b",
     "prev": "05b90ccd-613d-48c8-8349-76052e91d209",
     "regions": {
      "c36eeceb-a679-4e0c-82cf-16f8ee719b08": {
       "attrs": {
        "height": 0.8,
        "width": 0.8,
        "x": 0.1,
        "y": 0.1
       },
       "content": {
        "cell": "8b1a3799-c81d-4bc0-86e1-3fb15503aa79",
        "part": "whole"
       },
       "id": "c36eeceb-a679-4e0c-82cf-16f8ee719b08"
      }
     }
    },
    "14fd8390-cb3c-4721-92f4-1b1d5100702e": {
     "id": "14fd8390-cb3c-4721-92f4-1b1d5100702e",
     "prev": null,
     "regions": {
      "c264fd1f-0c8f-4514-a5e7-c71c35568354": {
       "attrs": {
        "height": 0.8,
        "width": 0.8,
        "x": 0.1,
        "y": 0.1
       },
       "content": {
        "cell": "b0bdc0c5-2495-4e0e-9793-ed5facd68637",
        "part": "whole"
       },
       "id": "c264fd1f-0c8f-4514-a5e7-c71c35568354"
      }
     }
    },
    "1d02906a-e06a-4a1d-a0c0-988f2b6a3645": {
     "id": "1d02906a-e06a-4a1d-a0c0-988f2b6a3645",
     "prev": "cd7f6e46-54bb-400e-8ed0-4b99dafbef7e",
     "regions": {
      "0b861c39-abcc-4ce3-be33-0d4383855383": {
       "attrs": {
        "height": 0.8,
        "width": 0.8,
        "x": 0.1,
        "y": 0.1
       },
       "content": {
        "cell": "6bed7def-d8e1-4f01-ba39-d699c034fa8d",
        "part": "whole"
       },
       "id": "0b861c39-abcc-4ce3-be33-0d4383855383"
      }
     }
    },
    "26d299d9-0cb9-468a-a646-4c99648ef8f5": {
     "id": "26d299d9-0cb9-468a-a646-4c99648ef8f5",
     "prev": "473bde1a-8e4f-44c8-9570-b2f2eaf39991",
     "regions": {
      "c6fd86da-0742-44f5-8676-2a36788ddbed": {
       "attrs": {
        "height": 0.8,
        "width": 0.8,
        "x": 0.1,
        "y": 0.1
       },
       "content": {
        "cell": "ec123021-6415-46a8-b79f-508e0e25f28d",
        "part": "whole"
       },
       "id": "c6fd86da-0742-44f5-8676-2a36788ddbed"
      }
     }
    },
    "28900538-796d-4bd2-921b-00567d8adbe8": {
     "id": "28900538-796d-4bd2-921b-00567d8adbe8",
     "prev": "d9efacc5-46f1-4913-bbbe-59aef63a7e5e",
     "regions": {
      "fd2aff00-5f4e-47f1-929a-16918f044651": {
       "attrs": {
        "height": 0.8,
        "width": 0.8,
        "x": 0.1,
        "y": 0.1
       },
       "content": {
        "cell": "7a51d248-ab99-4db8-8cad-f38f21a9fd3d",
        "part": "whole"
       },
       "id": "fd2aff00-5f4e-47f1-929a-16918f044651"
      }
     }
    },
    "30524962-33e0-442d-a166-8385e3539149": {
     "id": "30524962-33e0-442d-a166-8385e3539149",
     "prev": "4d0fd687-7494-42db-8031-b8aa4f6e8958",
     "regions": {
      "cef579af-c191-4420-9e6d-53188cbb95d1": {
       "attrs": {
        "height": 0.8,
        "width": 0.8,
        "x": 0.1,
        "y": 0.1
       },
       "content": {
        "cell": "cd3172c0-1283-4ad4-a4e5-3ed178a53c6a",
        "part": "whole"
       },
       "id": "cef579af-c191-4420-9e6d-53188cbb95d1"
      }
     }
    },
    "34a1ce81-4b64-40a7-83e8-300aa2aedcc4": {
     "id": "34a1ce81-4b64-40a7-83e8-300aa2aedcc4",
     "prev": "670664b7-a1e1-4d66-8e3f-5d3723286f87",
     "regions": {
      "46ddc3b7-2c51-489b-a95e-9017b70c4c94": {
       "attrs": {
        "height": 0.8,
        "width": 0.8,
        "x": 0.1,
        "y": 0.1
       },
       "content": {
        "cell": "19d7e813-cdc2-4ec7-8c43-f8d22cf8ba4e",
        "part": "whole"
       },
       "id": "46ddc3b7-2c51-489b-a95e-9017b70c4c94"
      }
     }
    },
    "3945d6f7-bc6d-4e9b-865f-f8f513acaa65": {
     "id": "3945d6f7-bc6d-4e9b-865f-f8f513acaa65",
     "prev": "bb5a2ac7-d69b-472f-80f1-0b22b500d6b1",
     "regions": {
      "0536af45-f585-4867-ab8c-b7d492dbca20": {
       "attrs": {
        "height": 0.8,
        "width": 0.8,
        "x": 0.1,
        "y": 0.1
       },
       "content": {
        "cell": "72dc290c-5abc-481d-ab04-03bfba7f0f04",
        "part": "whole"
       },
       "id": "0536af45-f585-4867-ab8c-b7d492dbca20"
      }
     }
    },
    "473bde1a-8e4f-44c8-9570-b2f2eaf39991": {
     "id": "473bde1a-8e4f-44c8-9570-b2f2eaf39991",
     "prev": "8af4880d-b773-4819-a3a7-20c3e747bd38",
     "regions": {
      "beffdeaa-4ee0-4dd8-a621-e2d31c4f1c0c": {
       "attrs": {
        "height": 0.8,
        "width": 0.8,
        "x": 0.1,
        "y": 0.1
       },
       "content": {
        "cell": "910b5fdd-8bd7-4c24-a2e7-fcd10c64c805",
        "part": "whole"
       },
       "id": "beffdeaa-4ee0-4dd8-a621-e2d31c4f1c0c"
      }
     }
    },
    "4d0fd687-7494-42db-8031-b8aa4f6e8958": {
     "id": "4d0fd687-7494-42db-8031-b8aa4f6e8958",
     "prev": "5f00c622-7e01-465c-af95-0e3140f41964",
     "regions": {
      "fde7aa54-b253-473a-9d8f-290b3f381df4": {
       "attrs": {
        "height": 0.8,
        "width": 0.8,
        "x": 0.1,
        "y": 0.1
       },
       "content": {
        "cell": "f33c702a-6dda-450b-bd04-2d63c4955e21",
        "part": "whole"
       },
       "id": "fde7aa54-b253-473a-9d8f-290b3f381df4"
      }
     }
    },
    "520b787c-80d0-468e-a886-a7655a396da5": {
     "id": "520b787c-80d0-468e-a886-a7655a396da5",
     "prev": "52d6cfb9-fbda-441a-9a56-b3a448b2a716",
     "regions": {
      "96a741ba-d88f-4bf7-8f88-caf58d929454": {
       "attrs": {
        "height": 0.8,
        "width": 0.8,
        "x": 0.1,
        "y": 0.1
       },
       "content": {
        "cell": "414f4b85-d8d8-4d44-91e8-a81b2f3b6aff",
        "part": "whole"
       },
       "id": "96a741ba-d88f-4bf7-8f88-caf58d929454"
      }
     }
    },
    "52d6cfb9-fbda-441a-9a56-b3a448b2a716": {
     "id": "52d6cfb9-fbda-441a-9a56-b3a448b2a716",
     "prev": "ff5d273d-624d-4084-9245-d2e63d652d3f",
     "regions": {
      "eca9eec6-f213-4ddf-9b8f-acf70e3855c4": {
       "attrs": {
        "height": 0.8,
        "width": 0.8,
        "x": 0.1,
        "y": 0.1
       },
       "content": {
        "cell": "039cac1a-ccef-4bb5-9406-cc1450a1a1a3",
        "part": "whole"
       },
       "id": "eca9eec6-f213-4ddf-9b8f-acf70e3855c4"
      }
     }
    },
    "53c3fd3a-bb2e-4a1d-a8d0-7f77aa481908": {
     "id": "53c3fd3a-bb2e-4a1d-a8d0-7f77aa481908",
     "prev": "14fd8390-cb3c-4721-92f4-1b1d5100702e",
     "regions": {
      "2e862ace-1d3a-40d3-91b8-8adfb48f9b42": {
       "attrs": {
        "height": 0.8,
        "width": 0.8,
        "x": 0.1,
        "y": 0.1
       },
       "content": {
        "cell": "ad5486f8-4654-482a-b15c-f0d4e5c76937",
        "part": "whole"
       },
       "id": "2e862ace-1d3a-40d3-91b8-8adfb48f9b42"
      }
     }
    },
    "5f00c622-7e01-465c-af95-0e3140f41964": {
     "id": "5f00c622-7e01-465c-af95-0e3140f41964",
     "prev": "28900538-796d-4bd2-921b-00567d8adbe8",
     "regions": {
      "865db23e-09b3-41e7-bae9-d5f2c5d767ed": {
       "attrs": {
        "height": 0.8,
        "width": 0.8,
        "x": 0.1,
        "y": 0.1
       },
       "content": {
        "cell": "fd994b19-bfe4-47e4-9b0b-b0608e652de4",
        "part": "whole"
       },
       "id": "865db23e-09b3-41e7-bae9-d5f2c5d767ed"
      }
     }
    },
    "670664b7-a1e1-4d66-8e3f-5d3723286f87": {
     "id": "670664b7-a1e1-4d66-8e3f-5d3723286f87",
     "prev": "852688d5-90bc-41f3-8a37-152ef555b37b",
     "regions": {
      "534a18b1-a167-4b2e-9ace-6b1215080b4e": {
       "attrs": {
        "height": 0.8,
        "width": 0.8,
        "x": 0.1,
        "y": 0.1
       },
       "content": {
        "cell": "dca918e6-eeda-49a5-bf63-7d7e4593a8b4",
        "part": "whole"
       },
       "id": "534a18b1-a167-4b2e-9ace-6b1215080b4e"
      }
     }
    },
    "6754d1c7-53db-4045-9401-7322a90ae611": {
     "id": "6754d1c7-53db-4045-9401-7322a90ae611",
     "prev": "d1521f3d-2262-40a0-a5e1-88b0e16506e5",
     "regions": {
      "4492173d-93f2-479d-8d92-64643e7a9d51": {
       "attrs": {
        "height": 0.8,
        "width": 0.8,
        "x": 0.1,
        "y": 0.1
       },
       "content": {
        "cell": "0da93dea-2f38-407a-a1da-d95868af5553",
        "part": "whole"
       },
       "id": "4492173d-93f2-479d-8d92-64643e7a9d51"
      }
     }
    },
    "68f9f3ab-a415-4fd2-9796-a2885e3ecd3d": {
     "id": "68f9f3ab-a415-4fd2-9796-a2885e3ecd3d",
     "prev": "9e0cd59b-974d-40e3-9833-2b4997889623",
     "regions": {
      "6027082b-baf6-4a01-95d8-7da144824014": {
       "attrs": {
        "height": 0.8,
        "width": 0.8,
        "x": 0.1,
        "y": 0.1
       },
       "content": {
        "cell": "64460482-4923-4181-a234-2b0826f24577",
        "part": "whole"
       },
       "id": "6027082b-baf6-4a01-95d8-7da144824014"
      }
     }
    },
    "6f2a0112-3509-4daa-b075-857bf2579c21": {
     "id": "6f2a0112-3509-4daa-b075-857bf2579c21",
     "prev": "ae69a1c3-b34c-4834-a24d-9080490a066b",
     "regions": {
      "2e3711ab-46c8-41e6-8eb2-2c3f04083a96": {
       "attrs": {
        "height": 0.8,
        "width": 0.8,
        "x": 0.1,
        "y": 0.1
       },
       "content": {
        "cell": "614260a3-f2b7-41ac-bab7-3f27221c62c3",
        "part": "whole"
       },
       "id": "2e3711ab-46c8-41e6-8eb2-2c3f04083a96"
      }
     }
    },
    "852688d5-90bc-41f3-8a37-152ef555b37b": {
     "id": "852688d5-90bc-41f3-8a37-152ef555b37b",
     "prev": "f7d6d4c5-f718-4bd5-886e-9dbce46b14a8",
     "regions": {
      "44066b64-c04d-4b41-afba-c9d9c5103b86": {
       "attrs": {
        "height": 0.8,
        "width": 0.8,
        "x": 0.1,
        "y": 0.1
       },
       "content": {
        "cell": "29fce9a4-e192-488e-a24a-e339615b68c1",
        "part": "whole"
       },
       "id": "44066b64-c04d-4b41-afba-c9d9c5103b86"
      }
     }
    },
    "8af4880d-b773-4819-a3a7-20c3e747bd38": {
     "id": "8af4880d-b773-4819-a3a7-20c3e747bd38",
     "prev": "3945d6f7-bc6d-4e9b-865f-f8f513acaa65",
     "regions": {
      "073634e7-bf4f-432f-a7ce-78b7bff8768a": {
       "attrs": {
        "height": 0.8,
        "width": 0.8,
        "x": 0.1,
        "y": 0.1
       },
       "content": {
        "cell": "5759e1ec-75c1-48d7-a056-3674ab3e4f7d",
        "part": "whole"
       },
       "id": "073634e7-bf4f-432f-a7ce-78b7bff8768a"
      }
     }
    },
    "8e95450e-7c4d-4349-b203-df7f3f335f33": {
     "id": "8e95450e-7c4d-4349-b203-df7f3f335f33",
     "prev": "fb0452df-0a75-44a1-b887-5beb2d213ed9",
     "regions": {
      "ee77ca13-0bbc-49a2-a848-a71efd0adf84": {
       "attrs": {
        "height": 0.8,
        "width": 0.8,
        "x": 0.1,
        "y": 0.1
       },
       "content": {
        "cell": "c728a564-189f-4c98-8891-39170977a837",
        "part": "whole"
       },
       "id": "ee77ca13-0bbc-49a2-a848-a71efd0adf84"
      }
     }
    },
    "9ded5185-b8ba-4bd9-9fc7-a542f079d952": {
     "id": "9ded5185-b8ba-4bd9-9fc7-a542f079d952",
     "prev": "bacc3206-fdac-4afe-b401-62a6a67aecc3",
     "regions": {
      "2ea1639f-a94e-45fb-a2a7-a018b2ebe370": {
       "attrs": {
        "height": 0.8,
        "width": 0.8,
        "x": 0.1,
        "y": 0.1
       },
       "content": {
        "cell": "43e100ca-3a5e-4321-b30a-75ba56b43367",
        "part": "whole"
       },
       "id": "2ea1639f-a94e-45fb-a2a7-a018b2ebe370"
      }
     }
    },
    "9e0cd59b-974d-40e3-9833-2b4997889623": {
     "id": "9e0cd59b-974d-40e3-9833-2b4997889623",
     "prev": "f033fabf-ee38-4787-bd8c-e893d1ebdea7",
     "regions": {
      "eb776255-fd17-4c23-b21a-facb253ebf6b": {
       "attrs": {
        "height": 0.8,
        "width": 0.8,
        "x": 0.1,
        "y": 0.1
       },
       "content": {
        "cell": "287e983b-72a1-4613-afcc-c3c1ab61dd18",
        "part": "whole"
       },
       "id": "eb776255-fd17-4c23-b21a-facb253ebf6b"
      }
     }
    },
    "abd277d4-bebd-459a-83a0-f2c3e9f41bbe": {
     "id": "abd277d4-bebd-459a-83a0-f2c3e9f41bbe",
     "prev": "ffc5ae15-5827-409c-ae63-c56557c9f8dd",
     "regions": {
      "3ec88410-862e-480a-9cc9-2e1a4b01f6a0": {
       "attrs": {
        "height": 0.8,
        "width": 0.8,
        "x": 0.1,
        "y": 0.1
       },
       "content": {
        "cell": "2ed92466-3a5f-4aec-8cbf-017327c70bd8",
        "part": "whole"
       },
       "id": "3ec88410-862e-480a-9cc9-2e1a4b01f6a0"
      }
     }
    },
    "ae69a1c3-b34c-4834-a24d-9080490a066b": {
     "id": "ae69a1c3-b34c-4834-a24d-9080490a066b",
     "prev": "9ded5185-b8ba-4bd9-9fc7-a542f079d952",
     "regions": {
      "45f70f94-eaa8-43d6-baf8-b874c1c556bf": {
       "attrs": {
        "height": 0.8,
        "width": 0.8,
        "x": 0.1,
        "y": 0.1
       },
       "content": {
        "cell": "3841b030-0070-4827-b90e-1ddb0c7e3e74",
        "part": "whole"
       },
       "id": "45f70f94-eaa8-43d6-baf8-b874c1c556bf"
      }
     }
    },
    "b062e9fb-0f2e-42e6-924b-6bdaef937cfc": {
     "id": "b062e9fb-0f2e-42e6-924b-6bdaef937cfc",
     "prev": "26d299d9-0cb9-468a-a646-4c99648ef8f5",
     "regions": {
      "97edcfa2-8717-46b5-b3dc-bce48c24699b": {
       "attrs": {
        "height": 0.8,
        "width": 0.8,
        "x": 0.1,
        "y": 0.1
       },
       "content": {
        "cell": "86c5b979-5fef-43d7-a853-631dd7187b7a",
        "part": "whole"
       },
       "id": "97edcfa2-8717-46b5-b3dc-bce48c24699b"
      }
     }
    },
    "b678339e-95fa-4fb2-8fd9-64859f4a3003": {
     "id": "b678339e-95fa-4fb2-8fd9-64859f4a3003",
     "prev": "f1185057-baeb-4926-b4d4-ea490af4b375",
     "regions": {
      "01b5af79-5365-418f-a332-9447e1e4c8f7": {
       "attrs": {
        "height": 0.8,
        "width": 0.8,
        "x": 0.1,
        "y": 0.1
       },
       "content": {
        "cell": "285ab068-3282-460b-a021-01bc47b5f6a6",
        "part": "whole"
       },
       "id": "01b5af79-5365-418f-a332-9447e1e4c8f7"
      }
     }
    },
    "bacc3206-fdac-4afe-b401-62a6a67aecc3": {
     "id": "bacc3206-fdac-4afe-b401-62a6a67aecc3",
     "prev": "0af600d2-5e75-4ef0-9419-637561778a9b",
     "regions": {
      "a6ab8cbf-d7e3-43a6-a3e2-156953b5132f": {
       "attrs": {
        "height": 0.8,
        "width": 0.8,
        "x": 0.1,
        "y": 0.1
       },
       "content": {
        "cell": "03b78c78-a17e-4c7f-85e5-2f054ba3ac70",
        "part": "whole"
       },
       "id": "a6ab8cbf-d7e3-43a6-a3e2-156953b5132f"
      }
     }
    },
    "bb5a2ac7-d69b-472f-80f1-0b22b500d6b1": {
     "id": "bb5a2ac7-d69b-472f-80f1-0b22b500d6b1",
     "prev": "dcaae40e-bfa3-4b02-a07f-e60131d41001",
     "regions": {
      "d153cea3-4c0c-4d59-a0bc-3a1f34d2d533": {
       "attrs": {
        "height": 0.8,
        "width": 0.8,
        "x": 0.1,
        "y": 0.1
       },
       "content": {
        "cell": "525a9dc4-0bae-4e5c-ae1e-056dab928092",
        "part": "whole"
       },
       "id": "d153cea3-4c0c-4d59-a0bc-3a1f34d2d533"
      }
     }
    },
    "cd7f6e46-54bb-400e-8ed0-4b99dafbef7e": {
     "id": "cd7f6e46-54bb-400e-8ed0-4b99dafbef7e",
     "prev": "d591f5b2-3cfa-40e0-b6f9-23c7cf914341",
     "regions": {
      "baa53820-7b66-43be-bf4d-686011ba1a62": {
       "attrs": {
        "height": 0.8,
        "width": 0.8,
        "x": 0.1,
        "y": 0.1
       },
       "content": {
        "cell": "ca6c5d7d-72dc-46e7-b316-238ecbd2ef42",
        "part": "whole"
       },
       "id": "baa53820-7b66-43be-bf4d-686011ba1a62"
      }
     }
    },
    "cfe40159-360a-4ca6-b629-dcaf42ba6006": {
     "id": "cfe40159-360a-4ca6-b629-dcaf42ba6006",
     "prev": "68f9f3ab-a415-4fd2-9796-a2885e3ecd3d",
     "regions": {
      "85e81ff6-9bcf-4b34-8289-d88ad20b8e90": {
       "attrs": {
        "height": 0.8,
        "width": 0.8,
        "x": 0.1,
        "y": 0.1
       },
       "content": {
        "cell": "f975605e-50af-4b2b-b346-6987f9fdeb3b",
        "part": "whole"
       },
       "id": "85e81ff6-9bcf-4b34-8289-d88ad20b8e90"
      }
     }
    },
    "d1521f3d-2262-40a0-a5e1-88b0e16506e5": {
     "id": "d1521f3d-2262-40a0-a5e1-88b0e16506e5",
     "prev": "b678339e-95fa-4fb2-8fd9-64859f4a3003",
     "regions": {
      "28fe7bdc-bc30-46d8-877b-670ac3b83ff2": {
       "attrs": {
        "height": 0.8,
        "width": 0.8,
        "x": 0.1,
        "y": 0.1
       },
       "content": {
        "cell": "271e0508-27bd-465c-aeaf-9d93495cff5b",
        "part": "whole"
       },
       "id": "28fe7bdc-bc30-46d8-877b-670ac3b83ff2"
      }
     }
    },
    "d591f5b2-3cfa-40e0-b6f9-23c7cf914341": {
     "id": "d591f5b2-3cfa-40e0-b6f9-23c7cf914341",
     "prev": "30524962-33e0-442d-a166-8385e3539149",
     "regions": {
      "a168e527-9302-4cd1-a13f-08afa25e5339": {
       "attrs": {
        "height": 0.8,
        "width": 0.8,
        "x": 0.1,
        "y": 0.1
       },
       "content": {
        "cell": "daef9866-c944-44e5-9198-0a776e47aace",
        "part": "whole"
       },
       "id": "a168e527-9302-4cd1-a13f-08afa25e5339"
      }
     }
    },
    "d9efacc5-46f1-4913-bbbe-59aef63a7e5e": {
     "id": "d9efacc5-46f1-4913-bbbe-59aef63a7e5e",
     "prev": "34a1ce81-4b64-40a7-83e8-300aa2aedcc4",
     "regions": {
      "82e3f7de-35ec-4742-9b47-4d425012f8f7": {
       "attrs": {
        "height": 0.8,
        "width": 0.8,
        "x": 0.1,
        "y": 0.1
       },
       "content": {
        "cell": "a690eefb-2be1-47d9-a5b2-2b82ca73809d",
        "part": "whole"
       },
       "id": "82e3f7de-35ec-4742-9b47-4d425012f8f7"
      }
     }
    },
    "dcaae40e-bfa3-4b02-a07f-e60131d41001": {
     "id": "dcaae40e-bfa3-4b02-a07f-e60131d41001",
     "prev": "eaa81505-a8ce-4034-8700-57cf207c4352",
     "regions": {
      "81222eb2-e84c-47bc-a07c-b3624be55883": {
       "attrs": {
        "height": 0.8,
        "width": 0.8,
        "x": 0.1,
        "y": 0.1
       },
       "content": {
        "cell": "a455d904-3fbe-4a12-a1f2-1c8fa63e718c",
        "part": "whole"
       },
       "id": "81222eb2-e84c-47bc-a07c-b3624be55883"
      }
     }
    },
    "e6e8e485-1028-4ca0-a67c-bc4285cd900b": {
     "id": "e6e8e485-1028-4ca0-a67c-bc4285cd900b",
     "prev": "b062e9fb-0f2e-42e6-924b-6bdaef937cfc",
     "regions": {
      "6edab1db-2389-4635-92f4-7aede64288d3": {
       "attrs": {
        "height": 0.8,
        "width": 0.8,
        "x": 0.1,
        "y": 0.1
       },
       "content": {
        "cell": "5c058c4e-5fee-4eda-834f-a419aebedd07",
        "part": "whole"
       },
       "id": "6edab1db-2389-4635-92f4-7aede64288d3"
      }
     }
    },
    "eaa81505-a8ce-4034-8700-57cf207c4352": {
     "id": "eaa81505-a8ce-4034-8700-57cf207c4352",
     "prev": "1d02906a-e06a-4a1d-a0c0-988f2b6a3645",
     "regions": {
      "4f784b97-8fa0-4137-8e50-0b05f8077d8d": {
       "attrs": {
        "height": 0.8,
        "width": 0.8,
        "x": 0.1,
        "y": 0.1
       },
       "content": {
        "cell": "06d98302-00f8-4d79-9ad5-660d734a7684",
        "part": "whole"
       },
       "id": "4f784b97-8fa0-4137-8e50-0b05f8077d8d"
      }
     }
    },
    "f033fabf-ee38-4787-bd8c-e893d1ebdea7": {
     "id": "f033fabf-ee38-4787-bd8c-e893d1ebdea7",
     "prev": "e6e8e485-1028-4ca0-a67c-bc4285cd900b",
     "regions": {
      "03432ebd-e70f-4764-a43b-f2f47da59bb3": {
       "attrs": {
        "height": 0.8,
        "width": 0.8,
        "x": 0.1,
        "y": 0.1
       },
       "content": {
        "cell": "c636b122-4836-4ed4-aa4a-1738665b9b9a",
        "part": "whole"
       },
       "id": "03432ebd-e70f-4764-a43b-f2f47da59bb3"
      }
     }
    },
    "f1185057-baeb-4926-b4d4-ea490af4b375": {
     "id": "f1185057-baeb-4926-b4d4-ea490af4b375",
     "prev": "6f2a0112-3509-4daa-b075-857bf2579c21",
     "regions": {
      "7546ae18-835a-4616-9017-49c13dbbea8d": {
       "attrs": {
        "height": 0.8,
        "width": 0.8,
        "x": 0.1,
        "y": 0.1
       },
       "content": {
        "cell": "e2c6911d-d7b5-4bc5-b7b5-4aacf1f5e16c",
        "part": "whole"
       },
       "id": "7546ae18-835a-4616-9017-49c13dbbea8d"
      }
     }
    },
    "f7d6d4c5-f718-4bd5-886e-9dbce46b14a8": {
     "id": "f7d6d4c5-f718-4bd5-886e-9dbce46b14a8",
     "prev": "8e95450e-7c4d-4349-b203-df7f3f335f33",
     "regions": {
      "e44956c3-9cdc-4045-83dd-7da9fe20a43c": {
       "attrs": {
        "height": 0.8,
        "width": 0.8,
        "x": 0.1,
        "y": 0.1
       },
       "content": {
        "cell": "f9b7401d-d46c-46ec-88b4-20bfd0d52016",
        "part": "whole"
       },
       "id": "e44956c3-9cdc-4045-83dd-7da9fe20a43c"
      }
     }
    },
    "fb0452df-0a75-44a1-b887-5beb2d213ed9": {
     "id": "fb0452df-0a75-44a1-b887-5beb2d213ed9",
     "prev": "0625507a-b45b-4bd4-ae49-dc84776d0d12",
     "regions": {
      "992c8c35-a9cb-4413-a4ba-3866195ec8ba": {
       "attrs": {
        "height": 0.8,
        "width": 0.8,
        "x": 0.1,
        "y": 0.1
       },
       "content": {
        "cell": "55461985-ce0c-4d80-af16-83546fd567cb",
        "part": "whole"
       },
       "id": "992c8c35-a9cb-4413-a4ba-3866195ec8ba"
      }
     }
    },
    "ff5d273d-624d-4084-9245-d2e63d652d3f": {
     "id": "ff5d273d-624d-4084-9245-d2e63d652d3f",
     "prev": "cfe40159-360a-4ca6-b629-dcaf42ba6006",
     "regions": {
      "a9a6636b-9c15-4313-8fde-2f8c3b837054": {
       "attrs": {
        "height": 0.8,
        "width": 0.8,
        "x": 0.1,
        "y": 0.1
       },
       "content": {
        "cell": "7367c126-acad-4115-81e5-f7db8d2b275c",
        "part": "whole"
       },
       "id": "a9a6636b-9c15-4313-8fde-2f8c3b837054"
      }
     }
    },
    "ffc5ae15-5827-409c-ae63-c56557c9f8dd": {
     "id": "ffc5ae15-5827-409c-ae63-c56557c9f8dd",
     "prev": "6754d1c7-53db-4045-9401-7322a90ae611",
     "regions": {
      "c474b573-fef0-4545-9909-3d8e47305551": {
       "attrs": {
        "height": 0.8,
        "width": 0.8,
        "x": 0.1,
        "y": 0.1
       },
       "content": {
        "cell": "3c2bc7e4-65f8-43a1-94e9-c57c82218d19",
        "part": "whole"
       },
       "id": "c474b573-fef0-4545-9909-3d8e47305551"
      }
     }
    }
   },
   "themes": {
    "default": "9e30d733-5ce5-4311-b8b1-ce05a7bc4772",
    "theme": {
     "9e30d733-5ce5-4311-b8b1-ce05a7bc4772": {
      "id": "9e30d733-5ce5-4311-b8b1-ce05a7bc4772",
      "palette": {
       "19cc588f-0593-49c9-9f4b-e4d7cc113b1c": {
        "id": "19cc588f-0593-49c9-9f4b-e4d7cc113b1c",
        "rgb": [
         252,
         252,
         252
        ]
       },
       "31af15d2-7e15-44c5-ab5e-e04b16a89eff": {
        "id": "31af15d2-7e15-44c5-ab5e-e04b16a89eff",
        "rgb": [
         68,
         68,
         68
        ]
       },
       "50f92c45-a630-455b-aec3-788680ec7410": {
        "id": "50f92c45-a630-455b-aec3-788680ec7410",
        "rgb": [
         155,
         177,
         192
        ]
       },
       "c5cc3653-2ee1-402a-aba2-7caae1da4f6c": {
        "id": "c5cc3653-2ee1-402a-aba2-7caae1da4f6c",
        "rgb": [
         43,
         126,
         184
        ]
       },
       "efa7f048-9acb-414c-8b04-a26811511a21": {
        "id": "efa7f048-9acb-414c-8b04-a26811511a21",
        "rgb": [
         25.118061674008803,
         73.60176211453744,
         107.4819383259912
        ]
       }
      },
      "rules": {
       "blockquote": {
        "color": "50f92c45-a630-455b-aec3-788680ec7410"
       },
       "code": {
        "font-family": "Anonymous Pro"
       },
       "h1": {
        "color": "c5cc3653-2ee1-402a-aba2-7caae1da4f6c",
        "font-family": "Lato",
        "font-size": 8
       },
       "h2": {
        "color": "c5cc3653-2ee1-402a-aba2-7caae1da4f6c",
        "font-family": "Lato",
        "font-size": 6
       },
       "h3": {
        "color": "50f92c45-a630-455b-aec3-788680ec7410",
        "font-family": "Lato",
        "font-size": 5.5
       },
       "h4": {
        "color": "c5cc3653-2ee1-402a-aba2-7caae1da4f6c",
        "font-family": "Lato",
        "font-size": 5
       },
       "h5": {
        "font-family": "Lato"
       },
       "h6": {
        "font-family": "Lato"
       },
       "h7": {
        "font-family": "Lato"
       },
       "pre": {
        "font-family": "Anonymous Pro",
        "font-size": 4
       }
      },
      "text-base": {
       "font-family": "Merriweather",
       "font-size": 4
      }
     }
    }
   }
  }
 },
 "nbformat": 4,
 "nbformat_minor": 1
}
