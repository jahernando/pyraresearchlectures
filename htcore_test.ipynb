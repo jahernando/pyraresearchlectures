{
 "cells": [
  {
   "cell_type": "markdown",
   "metadata": {},
   "source": [
    "## Code Tests\n",
    "\n",
    "**Lectures: \"Statistical Methods For Rare Searches In Python\"**\n",
    "\n",
    "*Author: Jose A. Hernando*, June 2019\n",
    "\n",
    "*Instituto Galego de Altas Enerxías. Universidade de Santiago de Compostela, Spain.*"
   ]
  },
  {
   "cell_type": "code",
   "execution_count": 1,
   "metadata": {
    "scrolled": true
   },
   "outputs": [],
   "source": [
    "# general imports\n",
    "%matplotlib inline\n",
    "%reload_ext autoreload\n",
    "%autoreload 2\n",
    "\n",
    "# numpy and matplotlib\n",
    "import numpy as np\n",
    "import pandas as pd\n",
    "import matplotlib\n",
    "import matplotlib.pyplot as plt\n",
    "import scipy.stats as stats\n",
    "\n",
    "# possible styles: ggplot (simplicity), bmh (scientify data), \n",
    "plt.style.context('seaborn-colorblind')\n",
    "\n",
    "import htcore    as htcore\n",
    "import htcatalog as htcata\n",
    "import htplot    as htplot\n",
    "# ploting images\n",
    "from IPython.display import display, Image"
   ]
  },
  {
   "cell_type": "code",
   "execution_count": 2,
   "metadata": {
    "scrolled": false
   },
   "outputs": [
    {
     "data": {
      "image/png": "[encoded data removed]",
      "text/plain": [
       "<Figure size 432x288 with 1 Axes>"
      ]
     },
     "metadata": {
      "needs_background": "light"
     },
     "output_type": "display_data"
    }
   ],
   "source": [
    "xs = stats.norm.rvs(*(0., 10.), size = 1000);\n",
    "plt.hist(xs, 100);"
   ]
  },
  {
   "cell_type": "code",
   "execution_count": 3,
   "metadata": {},
   "outputs": [
    {
     "data": {
      "image/png": "[encoded data removed]",
      "text/plain": [
       "<Figure size 432x288 with 1 Axes>"
      ]
     },
     "metadata": {
      "needs_background": "light"
     },
     "output_type": "display_data"
    }
   ],
   "source": [
    "xs = stats.poisson.rvs(*(2,), size = 1000);\n",
    "plt.hist(xs, 100);"
   ]
  },
  {
   "cell_type": "code",
   "execution_count": 4,
   "metadata": {},
   "outputs": [
    {
     "data": {
      "image/png": "[encoded data removed]",
      "text/plain": [
       "<Figure size 432x288 with 1 Axes>"
      ]
     },
     "metadata": {
      "needs_background": "light"
     },
     "output_type": "display_data"
    }
   ],
   "source": [
    "par, size = np.array([0., 1.]), 10000\n",
    "xs =  stats.norm.rvs(*par, size = size)\n",
    "lls = stats.norm.logpdf(xs, *par)\n",
    "plt.hist(-lls, 100);\n",
    "plt.yscale('log')"
   ]
  },
  {
   "cell_type": "code",
   "execution_count": 5,
   "metadata": {},
   "outputs": [
    {
     "name": "stdout",
     "output_type": "stream",
     "text": [
      "data     [3 3 3 2 6 4 6 2 2 4 5 5 5 5 1 5 4 3 2 4]\n",
      "par      [3.] , mask None\n",
      "mubest   [3.69997559]\n",
      "data     [3 3 3 2 6 4 6 2 2 4 5 5 5 5 1 5 4 3 2 4]\n",
      "par      [3.] , mask [ True]\n",
      "mubest   [3.69997559]\n"
     ]
    }
   ],
   "source": [
    "# test mle\n",
    "par, size = np.array([3.,]), 20\n",
    "xs        = stats.poisson.rvs(*par, size = size)\n",
    "\n",
    "def test_mle(xs, llike, par, mask):\n",
    "    mubest    = htcore.mle    (xs, llike, par, mask = mask)\n",
    "    print('data    ', xs)\n",
    "    print('par     ', par, ', mask', mask)\n",
    "    print('mubest  ', mubest)\n",
    "    return\n",
    "\n",
    "mask      = None\n",
    "test_mle(xs, stats.poisson.logpmf, par, mask)\n",
    "\n",
    "mask      = np.array([True,])\n",
    "test_mle(xs, stats.poisson.logpmf, par, mask)"
   ]
  },
  {
   "cell_type": "code",
   "execution_count": 6,
   "metadata": {},
   "outputs": [
    {
     "name": "stdout",
     "output_type": "stream",
     "text": [
      "data     [ 2.43206466 -0.08449303  2.25684125  1.19642861  1.49243382 -0.69938347\n",
      "  0.05345796 -1.5304814  -0.88113128  0.15743792  1.87211675 -1.57846517\n",
      " -1.31439881 -0.57088271 -1.75845807 -0.45667893  2.54782716  0.05763712\n",
      "  1.87791595  0.51944772]\n",
      "par      [0. 2.] , mask None\n",
      "mubest   [0.27945408 1.3854696 ]\n",
      "data     [ 2.43206466 -0.08449303  2.25684125  1.19642861  1.49243382 -0.69938347\n",
      "  0.05345796 -1.5304814  -0.88113128  0.15743792  1.87211675 -1.57846517\n",
      " -1.31439881 -0.57088271 -1.75845807 -0.45667893  2.54782716  0.05763712\n",
      "  1.87791595  0.51944772]\n",
      "par      [0. 2.] , mask [ True  True]\n",
      "mubest   [0.27945408 1.3854696 ]\n",
      "data     [ 2.43206466 -0.08449303  2.25684125  1.19642861  1.49243382 -0.69938347\n",
      "  0.05345796 -1.5304814  -0.88113128  0.15743792  1.87211675 -1.57846517\n",
      " -1.31439881 -0.57088271 -1.75845807 -0.45667893  2.54782716  0.05763712\n",
      "  1.87791595  0.51944772]\n",
      "par      [0. 2.] , mask [ True False]\n",
      "mubest   [0.2794375]\n",
      "data     [ 2.43206466 -0.08449303  2.25684125  1.19642861  1.49243382 -0.69938347\n",
      "  0.05345796 -1.5304814  -0.88113128  0.15743792  1.87211675 -1.57846517\n",
      " -1.31439881 -0.57088271 -1.75845807 -0.45667893  2.54782716  0.05763712\n",
      "  1.87791595  0.51944772]\n",
      "par      [0. 2.] , mask [False  True]\n",
      "mubest   [1.41337891]\n"
     ]
    }
   ],
   "source": [
    "# test mle\n",
    "par, size = np.array([0., 2.]), 20\n",
    "xs        = stats.norm.rvs(*par, size = size)\n",
    "\n",
    "mask      = None\n",
    "test_mle(xs, stats.norm.logpdf, par, mask)\n",
    "\n",
    "mask      = np.array([True, True])\n",
    "test_mle(xs, stats.norm.logpdf, par, mask)\n",
    "\n",
    "mask      = np.array([True, False])\n",
    "test_mle(xs, stats.norm.logpdf, par, mask)\n",
    "\n",
    "mask      = np.array([False, True])\n",
    "test_mle(xs, stats.norm.logpdf, par, mask)"
   ]
  },
  {
   "cell_type": "code",
   "execution_count": 7,
   "metadata": {},
   "outputs": [
    {
     "data": {
      "image/png": "[encoded data removed]",
      "text/plain": [
       "<Figure size 432x288 with 1 Axes>"
      ]
     },
     "metadata": {
      "needs_background": "light"
     },
     "output_type": "display_data"
    }
   ],
   "source": [
    "# test htsimple\n",
    "mu0, mu1, size = 3., 3.5, 10000\n",
    "ht = htcore.htsimple(stats.poisson(mu0), stats.poisson(mu1), size)\n",
    "qrange = ht.qrange()\n",
    "plt.hist(ht.q0s, 100, range = qrange, alpha = 0.5);\n",
    "plt.hist(ht.q1s, 100, range = qrange, alpha = 0.5);"
   ]
  },
  {
   "cell_type": "code",
   "execution_count": 8,
   "metadata": {},
   "outputs": [
    {
     "data": {
      "image/png": "[encoded data removed]",
      "text/plain": [
       "<Figure size 432x288 with 1 Axes>"
      ]
     },
     "metadata": {
      "needs_background": "light"
     },
     "output_type": "display_data"
    }
   ],
   "source": [
    "# thest p0, p1 cls from htsimple\n",
    "ns  = np.arange(12)\n",
    "qs  = [ht.q(ni)       for ni in ns]\n",
    "p0s = [ht.p0value(qi) for qi in qs]\n",
    "p1s = [ht.p1value(qi) for qi in qs]\n",
    "cls = [ht.cls    (qi) for qi in qs]\n",
    "plt.plot(ns, p0s, marker = 'o', label = 'p0')\n",
    "plt.plot(ns, p1s, marker = 'o', label = 'p1')\n",
    "plt.plot(ns, cls, marker = 's', label = 'cls');\n",
    "plt.legend(); plt.grid();"
   ]
  },
  {
   "cell_type": "code",
   "execution_count": 9,
   "metadata": {
    "scrolled": true
   },
   "outputs": [],
   "source": [
    "def test_tmu(ht, x, par, mask, mu, mu0):\n",
    "    parbest   = ht.parbest(x)\n",
    "    parmubest = ht.parmubest(x, mu)\n",
    "    tmu     = ht.tmu(x, mu)\n",
    "    qmu     = ht.qmu(x, mu)\n",
    "    q0      = ht.q0 (x, mu0)\n",
    "    print('data      ', x)\n",
    "    print('par       ', par)\n",
    "    print('parbest   ', parbest )\n",
    "    print('parmubest ', parmubest, 'at mu ', mu)\n",
    "    print('tmu z', tmu, np.sqrt(tmu), ' at mu  ', mu)\n",
    "    print('qmu z', qmu, np.sqrt(qmu), ' at mu  ', mu)\n",
    "    print('q0  z', q0 , np.sqrt(q0) ,' at mu0 ', mu0)\n",
    "    return"
   ]
  },
  {
   "cell_type": "code",
   "execution_count": 15,
   "metadata": {},
   "outputs": [
    {
     "name": "stdout",
     "output_type": "stream",
     "text": [
      "data       [3]\n",
      "par        [3.]\n",
      "parbest    [3.]\n",
      "parmubest  [3.5] at mu  3.5\n",
      "tmu z 0.07509592103644991 0.2740363498451436  at mu   3.5\n",
      "qmu z 0.07509592103644991 0.2740363498451436  at mu   3.5\n",
      "q0  z 0.0 0.0  at mu0  3.0\n"
     ]
    }
   ],
   "source": [
    "# test tmu poisson\n",
    "rv = stats.poisson\n",
    "mu0, mu, size = 3., 3.5, 1\n",
    "par, mask     = np.array([mu0,]), None,\n",
    "xs= rv.rvs(*par, size= size)\n",
    "ht = htcore.htcomposite(rv, par, mask = mask)\n",
    "test_tmu(ht, xs, par, mask, mu, mu0)"
   ]
  },
  {
   "cell_type": "code",
   "execution_count": 14,
   "metadata": {},
   "outputs": [
    {
     "name": "stdout",
     "output_type": "stream",
     "text": [
      "data       [0.07923398]\n",
      "par        [0. 1.]\n",
      "parbest    [0.07925 1.     ]\n",
      "parmubest  [3. 1.] at mu  3.0\n",
      "tmu z 8.53087413411819 2.920766018379115  at mu   3.0\n",
      "qmu z 8.53087413411819 2.920766018379115  at mu   3.0\n",
      "q0  z 0.006278023579948 0.07923397995776812  at mu0  0.0\n"
     ]
    }
   ],
   "source": [
    "# test tmu normal - mean only\n",
    "rv = stats.norm\n",
    "mu0, mu, sigma, size     = 0., 3., 1., 1\n",
    "par, mask, masknu = np.array([mu0, sigma]), np.array([True, False]), None\n",
    "xs = rv.rvs(*par, size = size)\n",
    "ht = htcore.htcomposite(rv, par, mask = mask)\n",
    "test_tmu(ht, xs, par, mask, mu, mu0)"
   ]
  },
  {
   "cell_type": "code",
   "execution_count": 16,
   "metadata": {},
   "outputs": [
    {
     "name": "stdout",
     "output_type": "stream",
     "text": [
      "data       [-0.20713332 -0.40063479 -1.72801874  1.83952837 -0.49193257 -0.1588714\n",
      " -0.04745803 -0.11944613 -0.82038315 -2.02424735 -0.1745278   0.53908166\n",
      "  1.5271436  -0.74834044 -1.23998233 -0.35424835  0.48921635 -0.57302525\n",
      "  1.30322186 -0.2616017  -0.83681591 -2.43217545  0.99326399 -0.36395193\n",
      " -0.2470316  -0.33271247  0.00610063  0.94262979 -0.86812443  0.11695758\n",
      " -1.04181515  1.03764288 -0.7938458   2.41377025 -0.46584472 -0.16896809\n",
      " -0.31745587  1.68842804  0.11930485  0.82290796 -0.90853238 -0.34807327\n",
      " -0.57503072  0.50155177  0.80659636  1.71737644 -0.14903206 -0.4657395\n",
      " -0.09986134 -1.07308402 -0.05929232  0.15641394  0.10472708  0.57540585\n",
      " -1.75143899  0.47210691  0.8033611   0.52463627  1.15145111 -1.93345888\n",
      " -0.70074358  1.04868601  1.39797602 -2.5350866  -0.03195544  0.45211188\n",
      "  0.37913081 -0.22842527 -0.73085748 -1.24194088 -0.81215563  1.75617246\n",
      "  0.36056986  0.0309441   2.41485221 -0.13531976 -0.28084858 -1.02286257\n",
      " -1.18546609  1.83817275 -0.82860245 -0.87153912  0.86452582  0.3616838\n",
      " -0.651785    0.5014558  -0.13028673 -0.91110663  0.00479202  0.21312464\n",
      " -0.29100195  0.0618663   1.4060829   1.20446785 -0.67608599 -0.79967478\n",
      " -0.48320546 -1.36295326 -0.95691137  0.6248475 ]\n",
      "par        [0.0, 1.0]\n",
      "parbest    [-0.05879923  0.98348542]\n",
      "parmubest  [0.3      1.046875] at mu  0.3\n",
      "tmu z 12.493322196727831 3.5345893957753893  at mu   0.3\n",
      "qmu z 12.493322196727831 3.5345893957753893  at mu   0.3\n",
      "q0  z 0.0 0.0  at mu0  0.0\n"
     ]
    }
   ],
   "source": [
    "# test tmu norm nuisance\n",
    "rv = stats.norm\n",
    "par, mask, masknu = [0., 1.], [True, True], [False, True]\n",
    "mu0, mu, size     =  0., 0.3, 100\n",
    "xs = rv.rvs(*par, size = size)\n",
    "ht = htcore.htcomposite(rv, par, mask = mask, masknu = masknu)\n",
    "test_tmu(ht, xs, par, mask, mu, mu0)"
   ]
  },
  {
   "cell_type": "code",
   "execution_count": 17,
   "metadata": {
    "scrolled": false
   },
   "outputs": [
    {
     "name": "stdout",
     "output_type": "stream",
     "text": [
      "data       [-0.38490872 -0.81982665]\n",
      "par        [0.0, 1.0]\n",
      "parbest    [-0.6023396   0.21744772]\n",
      "parmubest  [-0.602375  2.      ] at mu  2.0\n",
      "tmu z 6.899213351928005 2.6266353671432974  at mu   2.0\n",
      "qmu z 6.899213351928005 2.6266353671432974  at mu   2.0\n",
      "q0  z 0.0 0.0  at mu0  1.0\n"
     ]
    }
   ],
   "source": [
    "# test tmu norm nuisance - sigma \n",
    "rv = stats.norm\n",
    "par, mask, masknu = [0., 1.], (True, True), (True, False)\n",
    "mu0, mu, size     =  1., 2.,  2\n",
    "xs = rv.rvs(*par, size = size)\n",
    "ht = htcore.htcomposite(rv, par, mask = mask, masknu = masknu)\n",
    "test_tmu(ht, xs, par, mask, mu, mu0)"
   ]
  },
  {
   "cell_type": "code",
   "execution_count": 27,
   "metadata": {
    "scrolled": true
   },
   "outputs": [],
   "source": [
    "# test tmu with mu0 with poisson FC example\n",
    "rv = stats.poisson\n",
    "mu0, mu, size = 3., 3.5, 1000\n",
    "x0 = 0.\n",
    "xs = rv.rvs(mu, size = size)\n",
    "ht = htcore.htcomposite(stats.poisson, mu)\n",
    "ts = [ht.tmu(xi, mu, mu0) for xi in xs]\n",
    "t0 =  ht.tmu(x0, mu, mu0)"
   ]
  },
  {
   "cell_type": "code",
   "execution_count": 28,
   "metadata": {},
   "outputs": [
    {
     "data": {
      "image/png": "[encoded data removed]",
      "text/plain": [
       "<Figure size 432x288 with 1 Axes>"
      ]
     },
     "metadata": {
      "needs_background": "light"
     },
     "output_type": "display_data"
    }
   ],
   "source": [
    "cont, _, _ = plt.hist(ts, 100, density = True, alpha = 0.5);\n",
    "plt.plot((t0, t0), (0, 1.));"
   ]
  },
  {
   "cell_type": "code",
   "execution_count": 29,
   "metadata": {},
   "outputs": [
    {
     "data": {
      "image/png": "[encoded data removed]",
      "text/plain": [
       "<Figure size 432x288 with 1 Axes>"
      ]
     },
     "metadata": {
      "needs_background": "light"
     },
     "output_type": "display_data"
    }
   ],
   "source": [
    "# test tmu, qmu, q0 with normal\n",
    "rv = stats.norm\n",
    "mu0, mu, mut, size = 0., 3., 3., 1000\n",
    "par, mask     = (mut, 1.), (True, False)\n",
    "xs = rv.rvs(*par, size = size)\n",
    "#plt.hist(xs, 100);\n",
    "ht = htcore.htcomposite(rv, par, mask = mask)\n",
    "mus = [ht.parbest(xi)[0] for xi in xs]\n",
    "plt.hist(mus, 100);\n",
    "ts  = [ht.tmu(xi, mut) for xi in xs]"
   ]
  },
  {
   "cell_type": "code",
   "execution_count": 30,
   "metadata": {},
   "outputs": [
    {
     "name": "stdout",
     "output_type": "stream",
     "text": [
      "chi2  1.0235001642249513\n",
      "p-value mean : 0.49658698421011094 ; std * sqrt(12.) : 1.0040285365598818\n"
     ]
    },
    {
     "data": {
      "image/png": "[encoded data removed]",
      "text/plain": [
       "<Figure size 432x648 with 2 Axes>"
      ]
     },
     "metadata": {
      "needs_background": "light"
     },
     "output_type": "display_data"
    }
   ],
   "source": [
    "ts  = [ht.tmu(xi, mut) for xi in xs]\n",
    "htplot.chi2_test(ts);"
   ]
  },
  {
   "cell_type": "code",
   "execution_count": 31,
   "metadata": {},
   "outputs": [
    {
     "name": "stdout",
     "output_type": "stream",
     "text": [
      "chi2  0.2609497673493911\n",
      "p-value mean : 0.2530900006423041 ; std * sqrt(12.) : 1.1191792267197982\n"
     ]
    },
    {
     "data": {
      "image/png": "[encoded data removed]",
      "text/plain": [
       "<Figure size 432x648 with 2 Axes>"
      ]
     },
     "metadata": {
      "needs_background": "light"
     },
     "output_type": "display_data"
    }
   ],
   "source": [
    "ts  = [ht.qmu(xi, mut) for xi in xs]\n",
    "htplot.chi2_test(ts, factor = 0.5);"
   ]
  },
  {
   "cell_type": "code",
   "execution_count": 32,
   "metadata": {},
   "outputs": [
    {
     "data": {
      "image/png": "[encoded data removed]",
      "text/plain": [
       "<Figure size 432x288 with 1 Axes>"
      ]
     },
     "metadata": {
      "needs_background": "light"
     },
     "output_type": "display_data"
    }
   ],
   "source": [
    "mu0 = 0.\n",
    "par = np.array([mu0, 1.])\n",
    "xs = rv.rvs(*par, size = size)\n",
    "#plt.hist(xs, 100);\n",
    "ht = htcore.htcomposite(rv, par, mask = mask)\n",
    "mus = [ht.parbest(xi)[0] for xi in xs]\n",
    "plt.hist(mus, 100);"
   ]
  },
  {
   "cell_type": "code",
   "execution_count": 33,
   "metadata": {},
   "outputs": [
    {
     "name": "stdout",
     "output_type": "stream",
     "text": [
      "chi2  0.2389516210455078\n",
      "p-value mean : 0.24704201638593476 ; std * sqrt(12.) : 1.1103908536857012\n"
     ]
    },
    {
     "data": {
      "image/png": "[encoded data removed]",
      "text/plain": [
       "<Figure size 432x648 with 2 Axes>"
      ]
     },
     "metadata": {
      "needs_background": "light"
     },
     "output_type": "display_data"
    }
   ],
   "source": [
    "ts  = [ht.q0(xi, mu0) for xi in xs]\n",
    "htplot.chi2_test(ts, factor = 0.5);"
   ]
  },
  {
   "cell_type": "code",
   "execution_count": 34,
   "metadata": {},
   "outputs": [],
   "source": [
    "mu0, mu, par, size, size = 0., 1., (0., 1.), 1, 1000\n",
    "mask = [True, False]\n",
    "rv = stats.norm\n",
    "x0 = rv.rvs(*par, size)\n",
    "ht = htcore.htcomposite(rv, par, mask = mask)"
   ]
  },
  {
   "cell_type": "code",
   "execution_count": 35,
   "metadata": {
    "scrolled": false
   },
   "outputs": [
    {
     "name": "stdout",
     "output_type": "stream",
     "text": [
      "data  0.2\n",
      "rvs   0.431 0.6400000000000001\n"
     ]
    }
   ],
   "source": [
    "x0 = .2\n",
    "print('data ', x0)\n",
    "p0, t0, ts     = ht.tmu_pvalue_rvs(x0, mu, size = size)\n",
    "print('rvs  ', p0, t0)"
   ]
  },
  {
   "cell_type": "code",
   "execution_count": 37,
   "metadata": {},
   "outputs": [
    {
     "name": "stdout",
     "output_type": "stream",
     "text": [
      " p-tmu  0.6400000000000001 0.4237107971667933\n",
      " p-qmu  0.6400000000000001 0.21185539858339664\n",
      " p-qmu  0.040000000000000036 0.4207402905608969\n"
     ]
    }
   ],
   "source": [
    "tmu, qmu, q0 = ht.tmu(x0, mu), ht.qmu(x0, mu), ht.q0(x0, mu0)\n",
    "print(' p-tmu ', tmu, htcore.tmu_pvalue(tmu))\n",
    "print(' p-qmu ', qmu, htcore.qmu_pvalue(qmu))\n",
    "print(' p-qmu ', q0 , htcore.q0_pvalue (q0 ))"
   ]
  },
  {
   "cell_type": "markdown",
   "metadata": {},
   "source": [
    "### catalog - poisson control signal"
   ]
  },
  {
   "cell_type": "code",
   "execution_count": 38,
   "metadata": {
    "scrolled": false
   },
   "outputs": [
    {
     "name": "stdout",
     "output_type": "stream",
     "text": [
      "data     [(18.0, 9.0), (21.0, 11.0), (22.0, 10.0), (29.0, 11.0), (20.0, 8.0), (21.0, 14.0), (18.0, 10.0), (21.0, 11.0), (23.0, 9.0), (15.0, 20.0), (18.0, 8.0), (22.0, 7.0), (27.0, 15.0), (29.0, 18.0), (20.0, 13.0), (23.0, 18.0), (15.0, 8.0), (20.0, 14.0), (24.0, 8.0), (21.0, 6.0), (21.0, 12.0), (18.0, 8.0), (17.0, 16.0), (8.0, 9.0), (23.0, 15.0), (18.0, 11.0), (26.0, 11.0), (18.0, 9.0), (18.0, 6.0), (27.0, 12.0), (20.0, 10.0), (20.0, 16.0), (21.0, 9.0), (17.0, 17.0), (16.0, 11.0), (19.0, 8.0), (16.0, 15.0), (21.0, 10.0), (20.0, 12.0), (23.0, 11.0), (21.0, 17.0), (18.0, 13.0), (24.0, 14.0), (19.0, 13.0), (22.0, 11.0), (16.0, 16.0), (12.0, 17.0), (23.0, 11.0), (22.0, 14.0), (21.0, 15.0), (20.0, 8.0), (21.0, 11.0), (20.0, 19.0), (20.0, 10.0), (20.0, 16.0), (10.0, 10.0), (16.0, 19.0), (21.0, 20.0), (20.0, 7.0), (17.0, 9.0), (21.0, 11.0), (18.0, 9.0), (14.0, 13.0), (29.0, 8.0), (18.0, 9.0), (19.0, 13.0), (15.0, 10.0), (24.0, 17.0), (20.0, 14.0), (23.0, 10.0), (19.0, 14.0), (18.0, 9.0), (17.0, 12.0), (20.0, 9.0), (19.0, 12.0), (28.0, 13.0), (18.0, 9.0), (24.0, 11.0), (19.0, 14.0), (20.0, 12.0), (13.0, 9.0), (24.0, 16.0), (23.0, 14.0), (19.0, 10.0), (26.0, 11.0), (21.0, 13.0), (24.0, 16.0), (16.0, 15.0), (23.0, 10.0), (24.0, 10.0), (28.0, 17.0), (14.0, 15.0), (21.0, 20.0), (18.0, 10.0), (12.0, 15.0), (15.0, 15.0), (16.0, 15.0), (19.0, 15.0), (24.0, 15.0), (18.0, 7.0)]\n",
      "par      [10.  2. 10.] , mask [True, True, False]\n",
      "mubest   [14.650002    1.35000353]\n"
     ]
    }
   ],
   "source": [
    "## Test poisson control signal\n",
    "par, size = np.array((10., 2., 10.)), 100\n",
    "mask = [True, True, False]\n",
    "rv = htcata.poisson_control_signal\n",
    "xs = rv.rvs(*par, size = size)\n",
    "xs = xs[0] if size == 1 else xs\n",
    "test_mle(xs, rv.logpdf, par, mask)"
   ]
  },
  {
   "cell_type": "code",
   "execution_count": 39,
   "metadata": {
    "scrolled": false
   },
   "outputs": [
    {
     "name": "stdout",
     "output_type": "stream",
     "text": [
      "data     [[12, 4], [7, 3], [11, 2], [19, 3], [11, 1], [11, 8], [8, 3], [9, 5], [5, 5], [11, 13], [11, 1], [15, 5], [8, 6], [8, 3], [13, 3], [9, 3], [10, 4], [8, 3], [12, 3], [11, 4], [14, 6], [12, 6], [11, 2], [9, 6], [15, 3], [9, 1], [9, 2], [16, 4], [14, 6], [10, 5], [11, 2], [8, 2], [7, 5], [9, 4], [11, 6], [10, 3], [10, 1], [9, 8], [11, 4], [10, 5], [12, 0], [10, 4], [13, 5], [13, 6], [20, 6], [9, 5], [20, 4], [7, 4], [11, 7], [14, 6], [15, 0], [12, 2], [9, 3], [16, 3], [15, 5], [10, 7], [10, 2], [12, 4], [8, 3], [11, 4], [10, 1], [8, 3], [8, 8], [6, 1], [8, 1], [15, 4], [18, 4], [10, 6], [16, 4], [11, 3], [7, 4], [15, 5], [13, 6], [9, 5], [12, 4], [9, 2], [7, 4], [12, 7], [14, 4], [19, 5], [7, 4], [10, 2], [12, 3], [11, 4], [9, 6], [17, 2], [13, 7], [11, 3], [14, 7], [15, 8], [10, 8], [11, 2], [5, 5], [12, 1], [10, 2], [13, 2], [11, 4], [8, 3], [9, 2], [7, 1]]\n",
      "par      [1.] , mask None\n",
      "mubest   [0.82236328]\n"
     ]
    }
   ],
   "source": [
    "## Test poisson control signal\n",
    "ss, bb, mu, size = (10, 3), (1, 1), 1., 100\n",
    "par = np.array([mu,])\n",
    "rv  = htcata.poisson_ncounter(ss, bb, mu)\n",
    "xs  = rv.rvs(*par, size = size)\n",
    "mask = None\n",
    "test_mle(xs, rv.logpdf, par, mask)"
   ]
  },
  {
   "cell_type": "code",
   "execution_count": 43,
   "metadata": {
    "scrolled": false
   },
   "outputs": [
    {
     "name": "stdout",
     "output_type": "stream",
     "text": [
      "data     [4.57870875 1.78661807 1.48248451 2.15636228 1.21484805 1.07030553\n",
      " 4.41068023 3.38834599 1.6199681  3.16308289 3.06471006 1.97420634\n",
      " 1.71571655 1.05682431 2.60171198 2.01351194 1.05251849 1.99571184\n",
      " 1.47271164 3.04881491 1.43459381 2.60491757 4.01157508 1.36923279\n",
      " 3.06337532 1.6076252  1.77698397 1.87109878 4.69926563 1.6653925\n",
      " 1.29374276 3.47972255 1.51650241 1.37270431 2.09068557 1.20538067\n",
      " 3.73625045 1.75627318 4.42842431 1.55656083 1.82572656 1.37349855\n",
      " 1.38264274 1.07737527 1.63406516 1.59697825 2.68554176 1.03044714\n",
      " 4.31547203 1.47193693 3.16254979 1.15300309 1.26285093 1.04698632\n",
      " 1.30374317 1.42025594 1.05318112 1.64026989 1.29197163 1.1124167\n",
      " 1.20598246 2.279537   3.60996759 3.37869235 4.69971528 1.46024505\n",
      " 1.01150253 1.13286144 2.23769356 5.56779591 3.02721892 1.61351379\n",
      " 1.96311609 1.05738936 2.23097198 1.26104688 1.10358436 2.49627923\n",
      " 1.10214034 1.40503294 1.3872124  1.10908023 1.57517786 2.39048449\n",
      " 6.4396675  2.87981261 1.02600801 4.13824076 1.94915684 1.95411771\n",
      " 2.80777501 1.72933045 1.93083473 2.13933812 1.53163101 1.1642774\n",
      " 3.93451137 2.71517387 5.04469218 1.95543968 1.83044431 1.10867841\n",
      " 2.03009357 1.11948346 2.33932027 1.38638289 2.90389831 2.04136094\n",
      " 1.16199658 2.17213401 1.19082697 2.67719286 1.75208105 5.21496909\n",
      " 2.8005575  1.78824584 2.3690157  1.11592951 3.0558403  1.03177152\n",
      " 3.09171828 1.63543424 1.15903656 1.75020209 1.20266069 1.6768362\n",
      " 2.36791355 3.55599016 1.38354821 1.42951492 1.79481524 1.48917811\n",
      " 1.62410049 1.00037158 3.4045967  1.03896655 2.2231589  1.88434724\n",
      " 2.93547426 1.77885274 1.36242805 1.39428743 1.44155882 1.67789731\n",
      " 1.88104671 2.01969754 1.39101562 1.84908744 1.21195935 1.25430382\n",
      " 1.68065111 2.11019041 2.08874716 2.2256209  1.88870078 1.79627162\n",
      " 1.68962389 2.55139572 1.92731463 1.08112942 1.54840203 3.4372002\n",
      " 1.13398438 1.67939776 1.11260678 1.30913477 3.362149   2.73242038\n",
      " 5.23551934 3.1084627  1.72619934 2.14852772 3.91379353 1.35123171\n",
      " 1.18950867 1.04514354 1.28109421 2.40467753 4.36544232 1.32233212\n",
      " 1.43723414 2.30564715 1.48394941 2.51816332 1.90522737 1.59013209\n",
      " 1.16054159 1.08949788 3.90326227 1.79722749 1.93785369 3.01661235\n",
      " 4.53944606 2.1327457  2.40885178 2.55618578 2.41262947 2.47151036\n",
      " 2.57695634 2.5076798  2.52509173 2.43203247 2.53592391 2.59214556\n",
      " 2.48081497 2.56342246 2.43033019 2.36658843 2.52672741 2.50059352\n",
      " 2.46825419 2.51034401 2.56041311 2.47073086 2.45181471 2.44547093\n",
      " 2.62601176 2.5417085  2.42334244 2.73790014 2.47510452 2.38688696\n",
      " 2.64036811 2.44342117 2.48062313 2.37855271 2.56929899 2.30940224\n",
      " 2.48794118 2.38072053 2.37115798 2.56262066 2.46159792 2.48591968\n",
      " 2.59227238 2.35395579 2.55241416 2.54914094 2.58135655 2.45869469\n",
      " 2.40860128 2.38406946 2.56702474 2.39937884 2.43218109 2.38638824\n",
      " 2.4396455  2.48269759 2.43920217 2.33380792 2.4479256  2.47536953\n",
      " 2.5789318  2.42877457 2.56220456 2.73213695 2.57036491 2.50797024\n",
      " 2.50808771 2.52363965 2.34322074 2.37443433 2.45304981 2.56837497\n",
      " 2.47724309 2.3564763  2.38014945 2.5554843  2.4628442  2.71204988\n",
      " 2.40080504 2.51158926 2.61220641 2.4779238  2.48313455 2.50191458\n",
      " 2.4592894  2.53808672 2.49706222 2.51701249 2.58650558 2.59673559\n",
      " 2.48747068 2.77320518 2.72748445 2.59273605 2.63017655 2.39493474\n",
      " 2.59437441 2.36229092 2.52070256 2.44439173 2.46592642]\n",
      "par      [1.0e+02 2.0e+02 1.0e+00 2.5e+00 1.0e-01] , mask [True, True, False, True, False]\n",
      "mubest   [ 94.39440396 198.60555332   2.48894806]\n"
     ]
    },
    {
     "data": {
      "image/png": "[encoded data removed]",
      "text/plain": [
       "<Figure size 432x288 with 1 Axes>"
      ]
     },
     "metadata": {
      "needs_background": "light"
     },
     "output_type": "display_data"
    }
   ],
   "source": [
    "## Test ext norm expon \n",
    "nug, nue, tau, mug, sigmag = 100., 200., 1., 2.5, 0.1\n",
    "par = np.array([nug, nue, tau, mug, sigmag])\n",
    "rv  = htcata.extended_norm_expon\n",
    "mask = [True, True, False, True, False]\n",
    "xs  = rv.rvs(*par)[0]\n",
    "plt.hist(xs, 100);\n",
    "test_mle(xs, rv.logpdf, par, mask)"
   ]
  },
  {
   "cell_type": "code",
   "execution_count": 48,
   "metadata": {
    "scrolled": false
   },
   "outputs": [
    {
     "name": "stdout",
     "output_type": "stream",
     "text": [
      "100.0 200.0 5.0 2.5 0.1 1\n",
      "data     [1.75789212e+00 2.61348665e+00 4.85305180e+00 4.26986090e+00\n",
      " 1.45624110e+00 4.45305620e+00 4.24675492e+00 3.87595895e+00\n",
      " 5.66425149e-01 3.29093188e+00 4.57363032e+00 3.39304440e+00\n",
      " 1.48254558e+00 1.77333908e+00 4.79022081e+00 1.52082396e+00\n",
      " 4.75675502e+00 4.92297135e+00 1.50988776e+00 3.14747741e+00\n",
      " 1.88564400e+00 3.94547648e-01 9.26881809e-01 4.46358515e-01\n",
      " 4.65193710e+00 2.25909835e+00 1.52710947e+00 4.17139968e+00\n",
      " 2.08952348e+00 1.21201820e+00 1.10372150e+00 2.79945883e+00\n",
      " 4.44569628e+00 2.57238584e-01 1.85811365e-01 5.27705259e-01\n",
      " 4.41995742e+00 2.22475444e+00 3.87455440e+00 3.87732798e+00\n",
      " 6.01895814e-01 2.39508612e+00 8.55249491e-01 1.31903929e+00\n",
      " 8.75125956e-01 1.43650832e+00 1.06423590e+00 3.37372680e-01\n",
      " 1.46059491e-01 4.38760805e+00 3.85948213e+00 4.87718828e+00\n",
      " 9.89163475e-01 1.19923557e-01 6.23793584e-01 1.43128868e+00\n",
      " 3.33178850e+00 7.47954119e-01 4.68336570e+00 2.38539747e+00\n",
      " 1.35348158e+00 4.90586356e+00 1.17230039e-01 3.69317566e+00\n",
      " 4.21438059e+00 2.55251591e+00 1.09622165e+00 2.55071154e+00\n",
      " 3.76516559e+00 9.66930234e-01 1.60966656e+00 4.66693378e+00\n",
      " 1.91931500e+00 1.17814676e+00 3.55353523e+00 2.61568577e+00\n",
      " 2.42643901e+00 4.55233951e+00 9.84009297e-01 1.16836441e+00\n",
      " 1.44871218e+00 3.32173542e-01 8.68568408e-01 8.13781241e-01\n",
      " 4.12915264e+00 1.24725805e+00 4.34159885e+00 3.62364591e+00\n",
      " 4.68530781e+00 4.23478904e+00 4.95553832e-01 1.54288487e+00\n",
      " 2.18960826e+00 3.61631752e+00 2.71332218e+00 3.15798829e+00\n",
      " 3.55777873e+00 2.28410322e+00 3.29836961e+00 2.41955756e+00\n",
      " 2.38235550e+00 2.16411025e+00 3.14742947e+00 5.53585505e-01\n",
      " 1.22058193e+00 5.35160359e-01 2.72326782e+00 1.29066975e+00\n",
      " 1.37436194e+00 3.52844067e+00 2.06819783e+00 4.25948964e+00\n",
      " 4.21882299e+00 5.92046852e-01 4.30721246e+00 3.79169115e+00\n",
      " 3.53705122e+00 2.69915290e+00 9.22423288e-01 7.64591076e-01\n",
      " 4.98051564e+00 2.03556194e+00 3.00425808e+00 2.32388152e+00\n",
      " 2.03966635e+00 3.36709723e+00 1.82783405e+00 4.25867059e+00\n",
      " 4.32261380e+00 1.24698104e+00 1.77617360e+00 1.14745239e-02\n",
      " 2.96732824e+00 1.96693200e-01 1.58036348e+00 4.92299770e+00\n",
      " 3.21483890e+00 1.03829886e+00 1.50231039e+00 4.70614258e+00\n",
      " 5.67886703e-01 4.45472001e+00 1.35775337e+00 2.77170490e+00\n",
      " 4.84593727e+00 1.69637644e+00 1.39393151e+00 1.70667979e+00\n",
      " 3.71415522e+00 3.63811859e+00 3.14779926e+00 4.95730483e+00\n",
      " 3.99813638e+00 2.07951454e+00 4.17952200e+00 3.75421924e+00\n",
      " 1.35438880e+00 2.20538073e+00 2.00224242e+00 4.68537899e+00\n",
      " 3.38399894e+00 1.70640102e+00 2.63506507e+00 2.58932385e+00\n",
      " 2.10403758e-01 1.04397891e+00 2.61891427e+00 8.04256993e-01\n",
      " 1.03674862e+00 4.89226330e+00 3.87921549e+00 4.09761741e+00\n",
      " 4.57037041e+00 1.08708094e+00 2.68433701e+00 6.45890633e-02\n",
      " 4.27072869e+00 4.95649438e+00 1.45942734e+00 2.40568965e+00\n",
      " 3.11396547e+00 2.92467137e-01 2.97097427e+00 3.54577169e-01\n",
      " 8.85501995e-01 7.06185349e-02 4.44567194e+00 2.43365491e+00\n",
      " 8.36221516e-01 2.33005972e+00 2.37774644e+00 1.05055355e+00\n",
      " 1.68586183e+00 3.54933844e+00 4.05622469e-01 3.69486158e+00\n",
      " 3.59796304e+00 9.41066397e-01 1.79570044e+00 2.47850490e+00\n",
      " 1.56202185e+00 2.59594554e+00 2.48988418e+00 2.02211479e+00\n",
      " 3.76641854e+00 3.93520443e+00 3.59985610e+00 4.62800784e+00\n",
      " 4.94979112e-03 4.63512454e+00 2.43024182e+00 2.41306898e+00\n",
      " 2.50851485e+00 2.61235726e+00 2.57760808e+00 2.65128877e+00\n",
      " 2.61443219e+00 2.50900931e+00 2.43616479e+00 2.52580248e+00\n",
      " 2.57406220e+00 2.34311539e+00 2.48487872e+00 2.31700197e+00\n",
      " 2.60494116e+00 2.52884863e+00 2.58009999e+00 2.58010234e+00\n",
      " 2.53096144e+00 2.64938650e+00 2.55664259e+00 2.52352225e+00\n",
      " 2.39092003e+00 2.43329078e+00 2.60084970e+00 2.44136000e+00\n",
      " 2.49398888e+00 2.44087854e+00 2.53488568e+00 2.60122551e+00\n",
      " 2.40877839e+00 2.57154738e+00 2.62163750e+00 2.35498680e+00\n",
      " 2.48495809e+00 2.44802340e+00 2.46313728e+00 2.34617332e+00\n",
      " 2.51365415e+00 2.61128151e+00 2.61602522e+00 2.38896880e+00\n",
      " 2.52615009e+00 2.48213764e+00 2.57508535e+00 2.54586835e+00\n",
      " 2.61010132e+00 2.50855085e+00 2.63936725e+00 2.46838690e+00\n",
      " 2.60980971e+00 2.53513235e+00 2.69419185e+00 2.64871490e+00\n",
      " 2.60295767e+00 2.47115501e+00 2.63186093e+00 2.49827862e+00\n",
      " 2.40319400e+00 2.64474351e+00 2.42142770e+00 2.67654770e+00\n",
      " 2.37123192e+00 2.44580522e+00 2.62400321e+00 2.50917420e+00\n",
      " 2.55684712e+00 2.48223906e+00 2.45328741e+00 2.57765307e+00\n",
      " 2.48475317e+00 2.41265495e+00 2.37964670e+00 2.66340888e+00\n",
      " 2.43138172e+00 2.65503150e+00 2.49559220e+00 2.57244529e+00\n",
      " 2.48416791e+00 2.56025154e+00 2.48342302e+00 2.46391877e+00\n",
      " 2.45265421e+00 2.26023174e+00 2.60485403e+00 2.52928820e+00\n",
      " 2.48311818e+00 2.46803490e+00 2.56784141e+00 2.57142666e+00\n",
      " 2.47176171e+00 2.68346374e+00 2.56349274e+00 2.51193946e+00\n",
      " 2.53557220e+00 2.60438894e+00 2.55778188e+00 2.53294746e+00\n",
      " 2.56433052e+00 2.41941663e+00 2.64611235e+00]\n",
      "par      [1.0e+02 2.0e+02 5.0e+00 2.5e+00 1.0e-01] , mask [True, True, False, True, False]\n",
      "mubest   [108.31019453 202.68978399   2.52184439]\n"
     ]
    },
    {
     "data": {
      "image/png": "[encoded data removed]",
      "text/plain": [
       "<Figure size 432x288 with 1 Axes>"
      ]
     },
     "metadata": {
      "needs_background": "light"
     },
     "output_type": "display_data"
    }
   ],
   "source": [
    "## Test ext norm uniform \n",
    "nug, nue, tau, mug, sigmag = 100., 200., 5., 2.5, 0.1\n",
    "par = np.array([nug, nue, tau, mug, sigmag])\n",
    "rv  = htcata.extended_norm_uniform\n",
    "mask = [True, True, False, True, False]\n",
    "xs  = rv.rvs(*par)[0]\n",
    "plt.hist(xs, 100);\n",
    "test_mle(xs, rv.logpdf, par, mask)"
   ]
  },
  {
   "cell_type": "code",
   "execution_count": 49,
   "metadata": {},
   "outputs": [
    {
     "name": "stdout",
     "output_type": "stream",
     "text": [
      "100.0 200.0 5.0 2.5 0.1 1\n",
      "parbest  [1.02493158e+02 1.95506891e+02 5.00000000e+00 2.50000000e+00\n",
      " 1.00000000e-01]\n",
      "tmu  0.05046191086080398 0.8222614550336376\n",
      "qmu  0.0 1.0\n",
      "q0   0.05046191086080398 0.4111307275168188\n"
     ]
    },
    {
     "data": {
      "image/png": "[encoded data removed]",
      "text/plain": [
       "<Figure size 432x288 with 1 Axes>"
      ]
     },
     "metadata": {
      "needs_background": "light"
     },
     "output_type": "display_data"
    }
   ],
   "source": [
    "## Test ext norm uniform \n",
    "nug, nue, tau, mug, sigmag = 100., 200., 5., 2.5, 0.1\n",
    "par = np.array([nug, nue, tau, mug, sigmag])\n",
    "rv  = htcata.extended_norm_uniform\n",
    "mask   = np.array([True , True, False, False, False])\n",
    "masknu = np.array([False, True, False, False, False])\n",
    "xs  = rv.rvs(*par)[0]\n",
    "plt.hist(xs, 100);\n",
    "ht      = htcore.htcomposite(rv, par, mask = mask, masknu = masknu)\n",
    "parbest = ht.parbest(xs)\n",
    "print('parbest ', parbest)\n",
    "tmu = ht.tmu(xs, nug);\n",
    "print('tmu ', tmu, htcore.tmu_pvalue(tmu))\n",
    "qmu = ht.qmu(xs, nug);\n",
    "print('qmu ', qmu, htcore.tmu_pvalue(qmu))\n",
    "q0  = ht.q0 (xs, nug);\n",
    "print('q0  ', q0 , htcore.q0_pvalue (q0))\n",
    "#mu = 100.\n",
    "#p0, z0, pm, pb = ht.tmu_pvalue(xs, mu);\n",
    "#print(p0, z0, pm, pb)\n",
    "#parbest = htcorenew.mle(xs, rv.llike, par, mask = mask);\n",
    "#print('par     ', par)\n",
    "#print('parbest ', parbest)"
   ]
  },
  {
   "cell_type": "code",
   "execution_count": 50,
   "metadata": {},
   "outputs": [
    {
     "name": "stdout",
     "output_type": "stream",
     "text": [
      "100.0 200.0 5.0 2.5 0.1 1000\n",
      "chi2  0.9895629049609711\n",
      "p-value mean : 0.49333995488959187 ; std * sqrt(12.) : 0.9965471057157785\n"
     ]
    },
    {
     "data": {
      "image/png": "[encoded data removed]",
      "text/plain": [
       "<Figure size 432x648 with 2 Axes>"
      ]
     },
     "metadata": {
      "needs_background": "light"
     },
     "output_type": "display_data"
    }
   ],
   "source": [
    "size = 1000\n",
    "xs = rv.rvs(*par, size = size)\n",
    "ts = [ht.tmu(xi, nug) for xi in xs] \n",
    "htplot.chi2_test(ts);"
   ]
  },
  {
   "cell_type": "code",
   "execution_count": 60,
   "metadata": {},
   "outputs": [],
   "source": [
    "# Test hsimple poisson ncounter\n",
    "b, s, size = np.array((2., 1.5, 1., 0.5)), np.array((1., 2., 2., 1.)), 1000\n",
    "h0, h1 = htcata.poisson_ncounter(b), htcata.poisson_ncounter(b + s)\n",
    "ht     = htcore.htsimple(h0, h1, size)"
   ]
  },
  {
   "cell_type": "code",
   "execution_count": 61,
   "metadata": {},
   "outputs": [
    {
     "name": "stdout",
     "output_type": "stream",
     "text": [
      "q0  -6.378139567567342\n",
      "observed data : [[0, 1, 1, 0]]\n",
      "H0 p-value    : 0.663\n",
      "H1 p-value    : 0.009\n",
      "CLs           : 0.02670623145400593\n"
     ]
    },
    {
     "data": {
      "image/png": "[encoded data removed]",
      "text/plain": [
       "<Figure size 432x288 with 1 Axes>"
      ]
     },
     "metadata": {
      "needs_background": "light"
     },
     "output_type": "display_data"
    }
   ],
   "source": [
    "x0 = h0.rvs()\n",
    "htplot.plt_htsimple(ht, x0 = x0)"
   ]
  },
  {
   "cell_type": "code",
   "execution_count": 306,
   "metadata": {},
   "outputs": [
    {
     "name": "stdout",
     "output_type": "stream",
     "text": [
      "x0  [-0.01131221]\n",
      "parbest  [-0.0113125  1.       ]\n",
      "mubest   [-0.0113125]\n",
      "tmu      0.00012796619543431476 at mu 0.0\n",
      "qmu      0.00012796619543431476 at mu 0.0\n"
     ]
    }
   ],
   "source": [
    "# Test CI in tmu - gauss \n",
    "rv      = stats.norm\n",
    "mut, sigma, size = 0., 1., 1\n",
    "par, mask        = (mut, sigma), (True, False)\n",
    "x0      = rv.rvs(*par, size = size)\n",
    "ht      = htcore.htcomposite(rv, par, mask = mask)\n",
    "parbest = ht.parbest(x0)\n",
    "mubest  = ht.mubest (x0)\n",
    "tmu     = ht.tmu(x0, mut, parbest = parbest)\n",
    "qmu     = ht.qmu(x0, mut, parbest = parbest)\n",
    "print('x0 '     , x0)\n",
    "print('parbest ', parbest)\n",
    "print('mubest  ', mubest)\n",
    "print('tmu     ', tmu, 'at mu', mut)\n",
    "print('qmu     ', qmu, 'at mu', mut)"
   ]
  },
  {
   "cell_type": "code",
   "execution_count": 311,
   "metadata": {
    "scrolled": false
   },
   "outputs": [
    {
     "name": "stdout",
     "output_type": "stream",
     "text": [
      "CI           [-1.65616584  1.63354141] for x0  [-0.01131221]  at  0.9\n",
      "qmu_ulim:  [1.28155157]\n",
      "upper limit  [1.28155157] for x0  [-0.01131221]  at  0.9\n",
      "check :  [0.90197091]\n",
      "check:  [0.9]\n"
     ]
    }
   ],
   "source": [
    "beta = 0.90\n",
    "ci      = ht.tmu_cint(x0, beta = beta)\n",
    "print('CI          ', ci, 'for x0 ', x0, ' at ', beta)\n",
    "up      = ht.qmu_ulim(0., beta = beta)\n",
    "print('upper limit ', up, 'for x0 ', x0, ' at ', beta)\n",
    "print('check : ', stats.norm(x0, 1.).cdf(up))\n",
    "print('check: ', stats.norm(x0, 1.).cdf(ci[1]) - stats.norm(x0, 1.).cdf(ci[0]))"
   ]
  },
  {
   "cell_type": "code",
   "execution_count": 334,
   "metadata": {},
   "outputs": [
    {
     "name": "stdout",
     "output_type": "stream",
     "text": [
      "x0  [ 0.38368177  0.17203194  0.04782784  0.85517595  0.64683444  1.48376821\n",
      "  1.9640456  -0.80076675 -0.81398459 -0.66146622 -0.87473601 -1.06914013\n",
      " -0.28562062 -1.20626142 -1.517811   -0.15096686 -0.09254248 -0.74944196\n",
      "  0.75781999  0.78069872  0.50015382 -0.66431805 -1.55173099  0.95213043\n",
      "  1.01651861  0.72593318  0.46479254  1.45794552 -0.97817055 -0.2242478\n",
      " -0.66446747 -1.00165343  0.70637624  0.4114271  -0.06798425  0.46247405\n",
      " -0.28493364 -0.84305349 -0.98265784 -1.24441218 -0.85546729 -0.88618021\n",
      "  0.59955881 -1.63300084  0.93744107  0.6333969   0.28878737  0.99325892\n",
      " -0.37400943 -0.91805576  2.86968925 -0.42788257  0.87917982  0.15347294\n",
      " -1.02616004  0.97337598 -0.81862462 -1.70537784  1.79914757 -2.29426033\n",
      " -0.0674484  -0.04960214  0.16702864 -0.45018234 -0.33080372 -0.44916978\n",
      " -1.95045417  0.10430443 -0.86287208  0.63776328  0.96431917 -0.6230333\n",
      "  0.11074845  1.11756318  0.14391729 -0.73129149  0.91820813  0.65146121\n",
      " -1.04370753  2.02586236  1.0210374  -1.98839679 -1.98078416  0.56790556\n",
      " -1.04296375 -0.41419099 -0.69910878 -0.33032453 -1.49949588  2.43365428\n",
      "  1.27684068  0.06536215 -1.38070791 -0.6776074  -0.41326718  2.41599059\n",
      " -0.54399888 -0.54062309 -0.57157827 -1.32458702]\n",
      "parbest  [-0.09094153  1.04218025]\n",
      "mubest   [-0.09094153]\n",
      "tmu      0.7590163753999946 at mu 0.0\n",
      "qmu      0.7590163753999946 at mu 0.0\n"
     ]
    }
   ],
   "source": [
    "# Test CI in tmu - gauss- mean and sigma - nsize!\n",
    "rv      = stats.norm\n",
    "mut, sigma, size  = 0., 1., 100\n",
    "par, mask, masknu = (mut, sigma), (True, True), (False, True)\n",
    "x0      = rv.rvs(*par, size = size)\n",
    "ht      = htcore.htcomposite(rv, par, mask = mask, masknu = masknu)\n",
    "parbest = ht.parbest(x0)\n",
    "mubest  = ht.mubest (x0)\n",
    "tmu     = ht.tmu(x0, mut, parbest = parbest)\n",
    "qmu     = ht.qmu(x0, mut, parbest = parbest)\n",
    "print('x0 '     , x0)\n",
    "print('parbest ', parbest)\n",
    "print('mubest  ', mubest)\n",
    "print('tmu     ', tmu, 'at mu', mut)\n",
    "print('qmu     ', qmu, 'at mu', mut)"
   ]
  },
  {
   "cell_type": "code",
   "execution_count": 336,
   "metadata": {},
   "outputs": [
    {
     "name": "stdout",
     "output_type": "stream",
     "text": [
      "CI           [-0.19486146  0.01292796] for x0   at  0.68\n",
      "upper limit  [-0.04219861] for x0   at  0.68\n",
      "check :  [0.68000094]\n",
      "check:  0.6811858381271697\n"
     ]
    }
   ],
   "source": [
    "beta = 0.68\n",
    "ci      = ht.tmu_cint(x0, beta = beta)\n",
    "print('CI          ', ci, 'for x0 ',' at ', beta)\n",
    "up      = ht.qmu_ulim(x0, beta = beta)\n",
    "print('upper limit ', up, 'for x0 ',' at ', beta)\n",
    "xmu, xsigma = parbest[0],parbest[1]/np.sqrt(1.*size)\n",
    "print('check : ', stats.norm(xmu, xsigma).cdf(up))\n",
    "print('check: ', stats.norm(xmu, xsigma).cdf(ci[1]) - stats.norm(xmu, xsigma).cdf(ci[0]))"
   ]
  },
  {
   "cell_type": "code",
   "execution_count": 10,
   "metadata": {},
   "outputs": [
    {
     "data": {
      "text/plain": [
       "0.10027256795444206"
      ]
     },
     "execution_count": 10,
     "metadata": {},
     "output_type": "execute_result"
    }
   ],
   "source": [
    "stats.norm.cdf(-1.28)"
   ]
  },
  {
   "cell_type": "code",
   "execution_count": null,
   "metadata": {},
   "outputs": [],
   "source": []
  }
 ],
 "metadata": {
  "kernelspec": {
   "display_name": "Python 3",
   "language": "python",
   "name": "python3"
  },
  "language_info": {
   "codemirror_mode": {
    "name": "ipython",
    "version": 3
   },
   "file_extension": ".py",
   "mimetype": "text/x-python",
   "name": "python",
   "nbconvert_exporter": "python",
   "pygments_lexer": "ipython3",
   "version": "3.6.8"
  }
 },
 "nbformat": 4,
 "nbformat_minor": 2
}
